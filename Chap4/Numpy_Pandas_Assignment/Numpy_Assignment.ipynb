{
 "cells": [
  {
   "cell_type": "code",
   "execution_count": null,
   "metadata": {
    "collapsed": true
   },
   "outputs": [],
   "source": [
    "import numpy as np\n",
    "import statistics as stats\n",
    "from IPython.core.interactiveshell import InteractiveShell\n",
    "InteractiveShell.ast_node_interactivity = \"all\""
   ]
  },
  {
   "cell_type": "markdown",
   "metadata": {},
   "source": [
    "### Create a vector with values ranging from 10 to 49"
   ]
  },
  {
   "cell_type": "code",
   "execution_count": null,
   "metadata": {},
   "outputs": [],
   "source": [
    "vect=np.array(np.arange(10,50))\n",
    "vect"
   ]
  },
  {
   "cell_type": "markdown",
   "metadata": {},
   "source": [
    "### Reverse a vector (first element becomes last)"
   ]
  },
  {
   "cell_type": "code",
   "execution_count": null,
   "metadata": {},
   "outputs": [],
   "source": [
    "vect_reverse=np.flip(vect,axis=0)\n",
    "print(vect_reverse)\n",
    "#Alternative approach\n",
    "vect_reverse2=vect[::-1]\n",
    "print(vect_reverse2)"
   ]
  },
  {
   "cell_type": "markdown",
   "metadata": {},
   "source": [
    "### Create a 3x3 matrix with values ranging from 0 to 8"
   ]
  },
  {
   "cell_type": "code",
   "execution_count": null,
   "metadata": {},
   "outputs": [],
   "source": [
    "matrix3_3=np.matrix(np.arange(0,9, dtype=np.int)).reshape(3,3)\n",
    "matrix3_3\n",
    "#Alternative solution\n",
    "matrix3_3_alternative=np.arange(0,9,dtype=np.int).reshape(3,3)\n",
    "matrix3_3_alternative"
   ]
  },
  {
   "cell_type": "markdown",
   "metadata": {},
   "source": [
    "### Find indices of non-zero elements from [1,2,0,0,4,0]"
   ]
  },
  {
   "cell_type": "code",
   "execution_count": null,
   "metadata": {},
   "outputs": [],
   "source": [
    "mix_array=np.array([1,2,0,0,4,0])\n",
    "mix_array.nonzero()\n",
    "#Alternative solution.\n",
    "np.nonzero(mix_array)"
   ]
  },
  {
   "cell_type": "markdown",
   "metadata": {},
   "source": [
    "### Create a 3x3x3 array with random values"
   ]
  },
  {
   "cell_type": "code",
   "execution_count": null,
   "metadata": {},
   "outputs": [],
   "source": [
    "matrix3_3_random=np.round(np.random.random((3,3,3)),2)\n",
    "matrix3_3_random"
   ]
  },
  {
   "cell_type": "markdown",
   "metadata": {},
   "source": [
    "### Create a 10x10 array with random values and find the minimum and maximum values"
   ]
  },
  {
   "cell_type": "code",
   "execution_count": null,
   "metadata": {},
   "outputs": [],
   "source": [
    "matrix10_10=np.random.rand(10,10)\n",
    "print(\"Minimum Value in the array is: {}\".format(matrix10_10.min()))\n",
    "print(\"Maximum Value in the array is: {}\".format(matrix10_10.max()))\n",
    "\n",
    "#Alternative Solution\n",
    "array_random=np.random.rand(10,10)\n",
    "print(\"Maximum value: \",np.max(array_random))\n",
    "print(\"Minimum value: \",np.min(array_random))"
   ]
  },
  {
   "cell_type": "markdown",
   "metadata": {},
   "source": [
    "### Create a 5x5 matrix with row values ranging from 0 to 4"
   ]
  },
  {
   "cell_type": "code",
   "execution_count": null,
   "metadata": {},
   "outputs": [],
   "source": [
    "matrix5_5=np.array([np.arange(0,5,1),np.arange(0,5,1),np.arange(0,5,1),np.arange(0,5,1),np.arange(0,5,1)])\n",
    "matrix5_5\n",
    "y=np.array([(0,0,0,0,0),(0,0,0,0,0),(0,0,0,0,0),(0,0,0,0,0),(0,0,0,0,0)])\n",
    "y+=np.arange(0,5,1)\n",
    "y\n",
    "\n",
    "#Alternative solution\n",
    "z=np.zeros(shape=(5, 5),dtype=np.int)\n",
    "z+=np.arange(0,5,1)\n",
    "z\n"
   ]
  },
  {
   "cell_type": "markdown",
   "metadata": {},
   "source": [
    "### Consider two random array A and B, check if they are equal"
   ]
  },
  {
   "cell_type": "code",
   "execution_count": null,
   "metadata": {},
   "outputs": [],
   "source": [
    "A=np.random.rand(1,6)\n",
    "A\n",
    "B=np.random.rand(1,6)\n",
    "B\n",
    "A==B"
   ]
  },
  {
   "cell_type": "markdown",
   "metadata": {},
   "source": [
    "### find the closest value (to a given scalar) in a vector"
   ]
  },
  {
   "cell_type": "code",
   "execution_count": null,
   "metadata": {},
   "outputs": [],
   "source": [
    "sample_arr=np.arange(1,100)\n",
    "sample_arr\n",
    "a = np.round(np.random.uniform(0,100),0)\n",
    "a\n",
    "new_arr=np.abs(sample_arr-a)\n",
    "new_arr\n",
    "print(\"Argmin: \",(np.abs(sample_arr-a)).argmin())\n",
    "#print(\"Argmax: \",(np.abs(sample_arr-a)).argmax())\n",
    "#sample_arr[(np.abs(sample_arr-a)).argmin()-1]\n",
    "sample_arr[(np.abs(sample_arr-a)).argmin()]\n",
    "#sample_arr[(np.abs(sample_arr-a)).argmin()+1]\n",
    "#new_arr[(np.abs(sample_arr-a)).argmin()]\n",
    "#sample_arr[(np.abs(sample_arr-a)).argmax()]"
   ]
  },
  {
   "cell_type": "markdown",
   "metadata": {},
   "source": [
    "### Consider the vector [1, 2, 3, 4, 5], how to build a new vector with 3 consecutive zeros interleaved between each value?"
   ]
  },
  {
   "cell_type": "code",
   "execution_count": null,
   "metadata": {},
   "outputs": [],
   "source": [
    "vec_arr=np.array([1, 2, 3, 4, 5])\n",
    "vec_arr\n",
    "nz=3\n",
    "#nz\n",
    "#len(vec_arr)+(len(vec_arr)-1)\n",
    "#len(vec_arr)+(len(vec_arr)-1)*nz\n",
    "z=np.zeros(len(vec_arr) + (len(vec_arr)-1)*(nz))\n",
    "#np.zeros(17)\n",
    "z[::nz+1]=vec_arr\n",
    "z\n",
    "#test=np.array([1, 2, 3, 4, 5,1, 2, 3, 4, 5,1, 2, 3, 4, 5,1, 2, 3, 4, 5])\n",
    "#test\n",
    "#test[::nz+1]=100\n",
    "#test"
   ]
  },
  {
   "cell_type": "markdown",
   "metadata": {},
   "source": [
    "### How to find the most frequent value in an array?"
   ]
  },
  {
   "cell_type": "code",
   "execution_count": null,
   "metadata": {},
   "outputs": [],
   "source": [
    "array_random=np.random.randint(0,10,100)\n",
    "array_random\n",
    "stats.mode(array_random)\n",
    "#ALternative solution\n",
    "np.bincount(array_random)\n",
    "np.bincount(array_random).argmax()"
   ]
  }
 ],
 "metadata": {
  "kernelspec": {
   "display_name": "Python 3",
   "language": "python",
   "name": "python3"
  },
  "language_info": {
   "codemirror_mode": {
    "name": "ipython",
    "version": 3
   },
   "file_extension": ".py",
   "mimetype": "text/x-python",
   "name": "python",
   "nbconvert_exporter": "python",
   "pygments_lexer": "ipython3",
   "version": "3.6.1"
  }
 },
 "nbformat": 4,
 "nbformat_minor": 2
}
