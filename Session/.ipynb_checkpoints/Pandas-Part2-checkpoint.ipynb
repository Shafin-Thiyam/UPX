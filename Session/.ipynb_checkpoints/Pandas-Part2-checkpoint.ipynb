{
 "cells": [
  {
   "cell_type": "markdown",
   "metadata": {},
   "source": [
    "# Pandas"
   ]
  },
  {
   "cell_type": "markdown",
   "metadata": {},
   "source": [
    "1. **Descriptive**\n",
    "2. **Missing Values**\n",
    "3. **Graphs /Plotting**\n",
    "4. **Joins**\n",
    "5. **Reindexing**\n",
    "6. **Misc**\n",
    "7. **Data reader from web need to revisit by RP**"
   ]
  },
  {
   "cell_type": "code",
   "execution_count": null,
   "metadata": {},
   "outputs": [],
   "source": [
    "from IPython.core.interactiveshell import InteractiveShell\n",
    "InteractiveShell.ast_node_interactivity = \"all\"\n",
    "import numpy as np\n",
    "import pandas as pd\n",
    "import pandas_datareader as pdr\n",
    "from pandas_datareader import data, wb\n",
    "import pandas_datareader.data as web\n",
    "import datetime\n",
    "import matplotlib.pyplot as plt\n",
    "%matplotlib inline\n",
    "start = datetime.datetime(2017, 5, 1)\n",
    "end = datetime.datetime(2017, 5, 31)"
   ]
  },
  {
   "cell_type": "markdown",
   "metadata": {},
   "source": [
    "1. 1D data is called series data\n",
    "2. 2D data is called dataframe data\n",
    "3. 3D and above data is called panel data"
   ]
  },
  {
   "cell_type": "code",
   "execution_count": null,
   "metadata": {},
   "outputs": [],
   "source": [
    "Dataset=\"../Datasets\""
   ]
  },
  {
   "cell_type": "markdown",
   "metadata": {},
   "source": [
    "**There are 3 type of Data structure in pandas**\n",
    "1. Series: It is 1D array which assign index to each value.\n",
    "2. Dataframe: It is 2D array. Its a tabular data structure.\n",
    "3. Panel: It has 3 dimensional and more dimensional array."
   ]
  },
  {
   "cell_type": "code",
   "execution_count": null,
   "metadata": {},
   "outputs": [],
   "source": [
    "data=pd.DataFrame({'price':[95,25,81,78,89],\n",
    "                   'ticker':['AXP','CSCO','DIS','MSFT','WMT'],\n",
    "                   'company':['American Express','Cisco','Walt Disney','Microsoft','Walmart']})\n",
    "data"
   ]
  },
  {
   "cell_type": "code",
   "execution_count": null,
   "metadata": {},
   "outputs": [],
   "source": [
    "data['pricesquared']=data.price**2\n",
    "data['sqrtprice']=np.sqrt(data.pricesquared)\n",
    "data"
   ]
  },
  {
   "cell_type": "code",
   "execution_count": null,
   "metadata": {},
   "outputs": [],
   "source": [
    "del data['pricesquared']\n",
    "data"
   ]
  },
  {
   "cell_type": "code",
   "execution_count": null,
   "metadata": {},
   "outputs": [],
   "source": [
    "data['pricesquared']=np.NaN\n",
    "data['sqrtprice']=np.NaN\n",
    "data"
   ]
  },
  {
   "cell_type": "code",
   "execution_count": null,
   "metadata": {},
   "outputs": [],
   "source": [
    "data['sequence']=np.arange(0,25,5)\n",
    "data"
   ]
  },
  {
   "cell_type": "code",
   "execution_count": null,
   "metadata": {},
   "outputs": [],
   "source": [
    "newdata= data.drop(['pricesquared','sqrtprice'],axis=1)\n",
    "another_newdata= data.drop(['sequence'], axis=1)\n",
    "another_newdata\n",
    "newdata\n",
    "data"
   ]
  },
  {
   "cell_type": "code",
   "execution_count": null,
   "metadata": {},
   "outputs": [],
   "source": [
    "year=[90,91,92,93,94,95]\n",
    "f1={90:1,91:2,92:3,93:4,94:5,95:6}\n",
    "firm1=pd.Series(f1,index=year)\n",
    "firm1\n",
    "f2={90:10,92:11,93:12,94:13}\n",
    "firm2=pd.Series(f2,index=year)\n",
    "firm2\n",
    "f3={93:20,94:21,95:23}\n",
    "firm3=pd.Series(f3,index=year)\n",
    "firm3"
   ]
  },
  {
   "cell_type": "code",
   "execution_count": null,
   "metadata": {},
   "outputs": [],
   "source": [
    "df1=pd.DataFrame(columns=('firm1','firm2','firm3'),index=year)"
   ]
  },
  {
   "cell_type": "code",
   "execution_count": null,
   "metadata": {},
   "outputs": [],
   "source": [
    "df1"
   ]
  },
  {
   "cell_type": "code",
   "execution_count": null,
   "metadata": {},
   "outputs": [],
   "source": [
    "df1.firm1=firm1\n",
    "df1.firm2=firm2\n",
    "df1.firm3=firm3\n",
    "df1"
   ]
  },
  {
   "cell_type": "markdown",
   "metadata": {},
   "source": [
    "```Above creation and initialization of df1 dataframe can be written in one single line like this```\n",
    "```\n",
    "df1=pd.DataFrame({'firm1':firm1,'firm2':firm2,'firm3':firm3},index=year)\n",
    "```"
   ]
  },
  {
   "cell_type": "code",
   "execution_count": null,
   "metadata": {},
   "outputs": [],
   "source": [
    "df1['firm4']=np.NaN"
   ]
  },
  {
   "cell_type": "code",
   "execution_count": null,
   "metadata": {},
   "outputs": [],
   "source": [
    "del df1['firm4']"
   ]
  },
  {
   "cell_type": "code",
   "execution_count": null,
   "metadata": {},
   "outputs": [],
   "source": [
    "df1"
   ]
  },
  {
   "cell_type": "code",
   "execution_count": null,
   "metadata": {},
   "outputs": [],
   "source": [
    "df1T=df1.T\n",
    "df1T"
   ]
  },
  {
   "cell_type": "code",
   "execution_count": null,
   "metadata": {},
   "outputs": [],
   "source": [
    "del df1T[90]"
   ]
  },
  {
   "cell_type": "code",
   "execution_count": null,
   "metadata": {},
   "outputs": [],
   "source": [
    "df1T\n",
    "df1"
   ]
  },
  {
   "cell_type": "markdown",
   "metadata": {},
   "source": [
    "# Reindexing"
   ]
  },
  {
   "cell_type": "code",
   "execution_count": null,
   "metadata": {},
   "outputs": [],
   "source": [
    "df1\n",
    "reindex_df1=df1.reindex([88,89,90,91,92,93,94,95,96,97,98])\n",
    "reindex_df1"
   ]
  },
  {
   "cell_type": "code",
   "execution_count": null,
   "metadata": {},
   "outputs": [],
   "source": [
    "reindex_df=df1.reindex(np.arange(1988,2008))\n",
    "reindex_df"
   ]
  },
  {
   "cell_type": "code",
   "execution_count": null,
   "metadata": {},
   "outputs": [],
   "source": [
    "year1=[90,91,92,93,94,95]\n",
    "f4={90:8,91:9,92:10,93:11,94:12,95:13}\n",
    "firm4=pd.Series(f4,index=year1)\n",
    "f5={90:14,91:15,92:16,93:17,94:18,95:19}\n",
    "firm5=pd.Series(f5,index=year1)\n",
    "f6={90:8,91:9,92:9,93:10,94:12,95:13}\n",
    "firm6=pd.Series(f6,index=year1)\n",
    "df2=pd.DataFrame({'firm1':firm4,'firm2':firm5,'firm3':firm6},index=year1)"
   ]
  },
  {
   "cell_type": "code",
   "execution_count": null,
   "metadata": {},
   "outputs": [],
   "source": [
    "df2"
   ]
  },
  {
   "cell_type": "markdown",
   "metadata": {},
   "source": [
    "# Missing Value treatment"
   ]
  },
  {
   "cell_type": "code",
   "execution_count": null,
   "metadata": {},
   "outputs": [],
   "source": [
    "reindex_df2=df2.reindex([88,89,90,91,92,93,94,95,96,97,98])\n",
    "reindex_df2"
   ]
  },
  {
   "cell_type": "code",
   "execution_count": null,
   "metadata": {},
   "outputs": [],
   "source": [
    "reindex_df2=df2.reindex([88,89,90,91,92,93,94,95,96,97,98],fill_value=0)\n",
    "reindex_df2"
   ]
  },
  {
   "cell_type": "code",
   "execution_count": null,
   "metadata": {},
   "outputs": [],
   "source": [
    "reindex_df2=df2.reindex([88,89,90,91,92,93,94,95,96,97,98])\n",
    "reindex_df2"
   ]
  },
  {
   "cell_type": "markdown",
   "metadata": {},
   "source": [
    "**bfill/backfill** − Fill values backward the time it encounter data it check immediate previous null value if its null it fill it with that encountered data."
   ]
  },
  {
   "cell_type": "code",
   "execution_count": null,
   "metadata": {},
   "outputs": [],
   "source": [
    "reindex_df2=df2.reindex([88,89,90,91,92,93,94,95,96,97,98],method='bfill')\n",
    "reindex_df2"
   ]
  },
  {
   "cell_type": "code",
   "execution_count": null,
   "metadata": {},
   "outputs": [],
   "source": [
    "reindex_df2=df2.reindex([88,89,90,91,92,93,94,95,96,97,98])\n",
    "reindex_df2"
   ]
  },
  {
   "cell_type": "markdown",
   "metadata": {},
   "source": [
    "**pad/ffill** − Fill values forward, the time it encounter data it check immediate next value if its null value fill it with that encountered data."
   ]
  },
  {
   "cell_type": "code",
   "execution_count": null,
   "metadata": {},
   "outputs": [],
   "source": [
    "reindex_df2=df2.reindex([88,89,90,91,92,93,94,95,96,97,98],method='ffill')\n",
    "reindex_df2"
   ]
  },
  {
   "cell_type": "code",
   "execution_count": null,
   "metadata": {},
   "outputs": [],
   "source": [
    "reindex_df2=df2.reindex([88,89,90,91,92,93,94,95,96,97,98])\n",
    "reindex_df2"
   ]
  },
  {
   "cell_type": "code",
   "execution_count": null,
   "metadata": {},
   "outputs": [],
   "source": [
    "reindex_df2=df2.reindex([88,89,90,91,92,93,94,95,96,97,98],fill_value=999)\n",
    "reindex_df2"
   ]
  },
  {
   "cell_type": "markdown",
   "metadata": {},
   "source": [
    "randn: \n",
    "``` \n",
    "generate random sample from standard normal distribution.\n",
    "```\n",
    "seed:\n",
    "``` \n",
    "Maintains the randomness.\n",
    "```"
   ]
  },
  {
   "cell_type": "code",
   "execution_count": null,
   "metadata": {},
   "outputs": [],
   "source": [
    "np.random.seed(2)\n",
    "datf=pd.DataFrame(np.random.randn(3,3),columns=['one','two','three'])\n",
    "datf"
   ]
  },
  {
   "cell_type": "code",
   "execution_count": null,
   "metadata": {},
   "outputs": [],
   "source": [
    "np.abs(datf)"
   ]
  },
  {
   "cell_type": "code",
   "execution_count": null,
   "metadata": {},
   "outputs": [],
   "source": [
    "f=lambda x:x.max() - x.min()\n",
    "datf.apply(f)"
   ]
  },
  {
   "cell_type": "code",
   "execution_count": null,
   "metadata": {},
   "outputs": [],
   "source": [
    "datf.apply(f,axis=1)"
   ]
  },
  {
   "cell_type": "code",
   "execution_count": null,
   "metadata": {},
   "outputs": [],
   "source": [
    "datf\n",
    "f2=lambda x: x - np.mean(x)\n",
    "\n",
    "datf.iloc[0,0]\n",
    "np.mean(datf,axis=1)\n",
    "datf.iloc[0,0] -np.mean(datf)\n",
    "datf.apply(f2)\n",
    "\n",
    "datf.iloc[0,0]\n",
    "np.mean(datf)\n",
    "datf.iloc[0,0] -np.mean(datf)\n",
    "datf.apply(f2,axis=1)"
   ]
  },
  {
   "cell_type": "code",
   "execution_count": null,
   "metadata": {},
   "outputs": [],
   "source": [
    "def stats(x):\n",
    "    return pd.Series([np.mean(x),x.max(),x.min(),x.max()-x.min()],index=['Mean','Max','Min','Range'])"
   ]
  },
  {
   "cell_type": "code",
   "execution_count": null,
   "metadata": {},
   "outputs": [],
   "source": [
    "datf\n",
    "datf.apply(stats, axis=1)\n",
    "datf.apply(stats)"
   ]
  },
  {
   "cell_type": "markdown",
   "metadata": {},
   "source": [
    "## Sorting"
   ]
  },
  {
   "cell_type": "markdown",
   "metadata": {},
   "source": [
    "```Note: Sorting by lable will sort only those lable rest will follow. In below we sort by lable 'three' so only column three is sorted and rest on same row follows```"
   ]
  },
  {
   "cell_type": "markdown",
   "metadata": {},
   "source": [
    "```Eg: in lable 'three' value -0.841747 is the largest and '1.640271' '-1.793436' are in the same row and they just follows.```"
   ]
  },
  {
   "cell_type": "code",
   "execution_count": null,
   "metadata": {},
   "outputs": [],
   "source": [
    "datf\n",
    "# sort_index is deprecated alternative is to use sort_values\n",
    "\n",
    "#datf.sort_index(by='three' ,ascending=False)\n",
    "print(\"Using 'sort_values' since 'sort_index' is depricated\")\n",
    "datf.sort_values(by='three',ascending=False)\n"
   ]
  },
  {
   "cell_type": "code",
   "execution_count": null,
   "metadata": {},
   "outputs": [],
   "source": [
    "datf\n",
    "datf.std()"
   ]
  },
  {
   "cell_type": "code",
   "execution_count": null,
   "metadata": {},
   "outputs": [],
   "source": [
    "datf.sum(axis=0)"
   ]
  },
  {
   "cell_type": "code",
   "execution_count": null,
   "metadata": {},
   "outputs": [],
   "source": [
    "datf\n",
    "datf.cumsum(axis=0) #cummulative sum on row\n",
    "datf.cumsum(axis=1) #cummulative sum on colums"
   ]
  },
  {
   "cell_type": "code",
   "execution_count": null,
   "metadata": {},
   "outputs": [],
   "source": [
    "datf\n",
    "datf.describe()"
   ]
  },
  {
   "cell_type": "markdown",
   "metadata": {},
   "source": [
    "# Read CSV file and creating dataframe"
   ]
  },
  {
   "cell_type": "code",
   "execution_count": null,
   "metadata": {},
   "outputs": [],
   "source": [
    "cars_df=pd.read_csv(Dataset+'/cars.csv')"
   ]
  },
  {
   "cell_type": "code",
   "execution_count": null,
   "metadata": {},
   "outputs": [],
   "source": [
    "cars_df.head(20)"
   ]
  },
  {
   "cell_type": "code",
   "execution_count": null,
   "metadata": {},
   "outputs": [],
   "source": [
    "cars_df.tail(20)"
   ]
  },
  {
   "cell_type": "code",
   "execution_count": null,
   "metadata": {},
   "outputs": [],
   "source": [
    "cars_df.sample(20)"
   ]
  },
  {
   "cell_type": "code",
   "execution_count": null,
   "metadata": {},
   "outputs": [],
   "source": [
    "cars_df.columns"
   ]
  },
  {
   "cell_type": "code",
   "execution_count": null,
   "metadata": {},
   "outputs": [],
   "source": [
    "type(cars_df)"
   ]
  },
  {
   "cell_type": "code",
   "execution_count": null,
   "metadata": {},
   "outputs": [],
   "source": [
    "cars_df.shape"
   ]
  },
  {
   "cell_type": "code",
   "execution_count": null,
   "metadata": {},
   "outputs": [],
   "source": [
    "cars_df.describe()"
   ]
  },
  {
   "cell_type": "code",
   "execution_count": null,
   "metadata": {},
   "outputs": [],
   "source": [
    "cars_df.info()"
   ]
  },
  {
   "cell_type": "markdown",
   "metadata": {},
   "source": [
    "**Correlation**\n",
    "```\n",
    "How factor x1  is co related to x2\n",
    "```"
   ]
  },
  {
   "cell_type": "markdown",
   "metadata": {},
   "source": [
    "**Here x2 and x1 is changing in same direction this is called Positive Correlation**\n",
    "<img src=\"corr.jpg\" width=\"250\"/>\n",
    "```\n",
    "Closer its to '1' stronger the positive correlation and in other word its 100% positive correlated\n",
    "```"
   ]
  },
  {
   "cell_type": "markdown",
   "metadata": {},
   "source": [
    "**Here x2 and x1 is changing in different direction this is called negative correlation**\n",
    "<img src=\"corr2.jpg\" width=\"250\"/>\n",
    "```\n",
    "Closer its to '-1' stronger the negative correlation and in other word its 100% negative correlated\n",
    "```"
   ]
  },
  {
   "cell_type": "markdown",
   "metadata": {},
   "source": [
    "**Here x1 changes but has no effect on x2 this is called No correlation or uncorrelated**\n",
    "<img src=\"corr3.jpg\" width=\"250\"/>"
   ]
  },
  {
   "cell_type": "markdown",
   "metadata": {},
   "source": [
    "```Point to remember```\n",
    "1. Correlation coeficieant can be between +1 and -1\n",
    "2. If correlation is close to +1 its positive correlated and if its close to -1 its negative correlation and if its 0 then no correlation"
   ]
  },
  {
   "cell_type": "markdown",
   "metadata": {},
   "source": [
    "```\n",
    "From below considering \"Actual MPG\" has strong negative correlation with \"weight\".\n",
    "```\n",
    "```\n",
    "It means If weight increase Acutal MPG will decrease and vice versa.\n",
    "```\n",
    "```\n",
    "From below considering \"Actual MPG\" has positive correlation with \"Accelerated\"/\"year\".\n",
    "```\n",
    "```\n",
    "It means If Accelerate increase Acutal MPG will increase and vice versa.\n",
    "```\n",
    "```\n",
    "If vehicle is newer Acutal MPG will also increase and vice versa.\n",
    "```"
   ]
  },
  {
   "cell_type": "code",
   "execution_count": null,
   "metadata": {},
   "outputs": [],
   "source": [
    "round(cars_df.corr(),2)"
   ]
  },
  {
   "cell_type": "code",
   "execution_count": null,
   "metadata": {},
   "outputs": [],
   "source": [
    "cars_df.head(10)"
   ]
  },
  {
   "cell_type": "markdown",
   "metadata": {},
   "source": [
    "# Covarience Is bit technical need to check later\n",
    "**cars_df.cov()**"
   ]
  },
  {
   "cell_type": "markdown",
   "metadata": {},
   "source": [
    "## Groupby"
   ]
  },
  {
   "cell_type": "code",
   "execution_count": null,
   "metadata": {},
   "outputs": [],
   "source": [
    "cars_grp_median=cars_df.groupby('Origin').median()"
   ]
  },
  {
   "cell_type": "code",
   "execution_count": null,
   "metadata": {},
   "outputs": [],
   "source": [
    "cars_grp_median\n",
    "round(cars_grp_median,2)"
   ]
  },
  {
   "cell_type": "code",
   "execution_count": null,
   "metadata": {},
   "outputs": [],
   "source": [
    "cars_grp_mean=cars_df.groupby('Year').mean()"
   ]
  },
  {
   "cell_type": "code",
   "execution_count": null,
   "metadata": {},
   "outputs": [],
   "source": [
    "cars_grp_mean\n",
    "round(cars_grp_mean,2)"
   ]
  },
  {
   "cell_type": "code",
   "execution_count": null,
   "metadata": {},
   "outputs": [],
   "source": []
  }
 ],
 "metadata": {
  "kernelspec": {
   "display_name": "Python 3",
   "language": "python",
   "name": "python3"
  },
  "language_info": {
   "codemirror_mode": {
    "name": "ipython",
    "version": 3
   },
   "file_extension": ".py",
   "mimetype": "text/x-python",
   "name": "python",
   "nbconvert_exporter": "python",
   "pygments_lexer": "ipython3",
   "version": "3.6.4"
  }
 },
 "nbformat": 4,
 "nbformat_minor": 2
}
