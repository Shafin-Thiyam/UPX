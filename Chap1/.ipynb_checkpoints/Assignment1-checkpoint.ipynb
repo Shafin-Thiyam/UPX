{
 "cells": [
  {
   "cell_type": "markdown",
   "metadata": {},
   "source": [
    "# Python Strings Assignment\n",
    "\n",
    "**Assignment 1. I want to print the below string as it is. How do I do that?**\n",
    "```\n",
    "“Apples are better than \\n Oranges\n",
    "```"
   ]
  },
  {
   "cell_type": "code",
   "execution_count": null,
   "metadata": {},
   "outputs": [],
   "source": [
    "from IPython.core.interactiveshell import InteractiveShell\n",
    "InteractiveShell.ast_node_interactivity = \"all\""
   ]
  },
  {
   "cell_type": "code",
   "execution_count": null,
   "metadata": {},
   "outputs": [],
   "source": [
    "print('Apples are better than \\\\n Oranges')\n",
    "a=\"Apples are better than \\n Oranges\"\n",
    "print(repr(a))"
   ]
  },
  {
   "cell_type": "markdown",
   "metadata": {},
   "source": [
    "**Assignment  2. string_ex = “I love python because it is so easy to use it and also it is used by many other IT\n",
    "companies”**\n",
    "```\n",
    "I want you to split the above string on the separator “it”. How will you do it?\n",
    "```"
   ]
  },
  {
   "cell_type": "code",
   "execution_count": null,
   "metadata": {},
   "outputs": [],
   "source": [
    "string_ex = \"I love python because it is so easy to use it and also it is used by many other IT Companies\""
   ]
  },
  {
   "cell_type": "code",
   "execution_count": null,
   "metadata": {},
   "outputs": [],
   "source": [
    "string_ex.split('it')"
   ]
  },
  {
   "cell_type": "markdown",
   "metadata": {},
   "source": [
    "**Assignment 3. str_ex = “I Love Pyton”**\n",
    "```\n",
    "How do you swap the cases of letters in the above input string?\n",
    "```"
   ]
  },
  {
   "cell_type": "code",
   "execution_count": null,
   "metadata": {},
   "outputs": [],
   "source": [
    "str_ex = \"I Love Python\""
   ]
  },
  {
   "cell_type": "code",
   "execution_count": null,
   "metadata": {},
   "outputs": [],
   "source": [
    "str_ex.swapcase()"
   ]
  },
  {
   "cell_type": "markdown",
   "metadata": {},
   "source": [
    "**Assignment 4. str_input = “Hey how are you doing. I am doing great”**\n",
    "```\n",
    "Get the first 10 characters and the last 10 characters of the above the string and join them\n",
    "with a “_” \n",
    "```"
   ]
  },
  {
   "cell_type": "code",
   "execution_count": null,
   "metadata": {},
   "outputs": [],
   "source": [
    "str_input=\"Hey how are you doing. I am doing great\""
   ]
  },
  {
   "cell_type": "code",
   "execution_count": null,
   "metadata": {},
   "outputs": [],
   "source": [
    "str_merg=str_input[0:10]+'_'+str_input[-10:]"
   ]
  },
  {
   "cell_type": "code",
   "execution_count": null,
   "metadata": {},
   "outputs": [],
   "source": [
    "str_merg"
   ]
  },
  {
   "cell_type": "markdown",
   "metadata": {},
   "source": [
    "**Assignment 5. string1 = “Hotelspace” string2=”Facilities”**\n",
    "              \n",
    "```\n",
    "I want you to swap the first three letters and last three letters of both the strings and print\n",
    "the output by separating them with a “@”\n",
    "'''"
   ]
  },
  {
   "cell_type": "code",
   "execution_count": null,
   "metadata": {},
   "outputs": [],
   "source": [
    "string1=\"Hotelspace\"\n",
    "string2=\"Facilities\""
   ]
  },
  {
   "cell_type": "code",
   "execution_count": null,
   "metadata": {},
   "outputs": [],
   "source": [
    "string2=string1[-3:]+string1[3:-3]+string1[:3]\n",
    "string4=string2[-3:]+string2[3:-3]+string2[:3]\n",
    "print(string2+'@'+string4)"
   ]
  },
  {
   "cell_type": "markdown",
   "metadata": {},
   "source": [
    "**Assignment 6. strr = 'Hello World'**\n",
    "              \n",
    "```\n",
    "How do you extract the string ‘Worl’ from the above string using negative index?\n",
    "```"
   ]
  },
  {
   "cell_type": "markdown",
   "metadata": {},
   "source": [
    "str=\"Hello World\"\n",
    "str[-5:-1]"
   ]
  },
  {
   "cell_type": "markdown",
   "metadata": {},
   "source": [
    "**Assignment 7. Reverse the string “5+6*3-45”. The output should be “45-3*6+5”.**"
   ]
  },
  {
   "cell_type": "code",
   "execution_count": null,
   "metadata": {},
   "outputs": [],
   "source": [
    "import re\n",
    "string1='5+6 3-45'\n",
    "string1"
   ]
  },
  {
   "cell_type": "code",
   "execution_count": null,
   "metadata": {},
   "outputs": [],
   "source": [
    "list1=re.findall('[+-]|\\d+',string1)\n",
    "list1"
   ]
  },
  {
   "cell_type": "code",
   "execution_count": null,
   "metadata": {},
   "outputs": [],
   "source": [
    "list1[::-1]\n",
    "''.join(list1[::-1])"
   ]
  },
  {
   "cell_type": "markdown",
   "metadata": {},
   "source": [
    "**Assignment 8. str_s = “India is a great country with a lot of heritage”\n",
    "str_x = “South Africa is a great country with a lot of freedom”**\n",
    "```\n",
    "I want you to remove the common words appearing in the above strings and display the left-over words as one single string.\n",
    "```"
   ]
  },
  {
   "cell_type": "code",
   "execution_count": null,
   "metadata": {},
   "outputs": [],
   "source": [
    "str_s='India is a great country with a lot of heritage'\n",
    "str_x='South Africa is a great country with a lot of freedom'"
   ]
  },
  {
   "cell_type": "code",
   "execution_count": null,
   "metadata": {},
   "outputs": [],
   "source": [
    "strs_s_split=str_s.split()\n",
    "strs_s_split"
   ]
  },
  {
   "cell_type": "code",
   "execution_count": null,
   "metadata": {},
   "outputs": [],
   "source": [
    "strs_x_split=str_x.split()\n",
    "strs_x_split"
   ]
  },
  {
   "cell_type": "code",
   "execution_count": null,
   "metadata": {},
   "outputs": [],
   "source": [
    "common=list(set(strs_s_split).intersection(set(strs_x_split)))"
   ]
  },
  {
   "cell_type": "code",
   "execution_count": null,
   "metadata": {},
   "outputs": [],
   "source": [
    "for i in common:\n",
    "    if i in strs_x_split:\n",
    "        strs_x_split.remove(i)\n",
    "    if i in strs_s_split:\n",
    "        strs_s_split.remove(i)\n"
   ]
  },
  {
   "cell_type": "code",
   "execution_count": null,
   "metadata": {},
   "outputs": [],
   "source": [
    "' '.join(strs_s_split+strs_x_split)"
   ]
  },
  {
   "cell_type": "markdown",
   "metadata": {},
   "source": [
    "**Assignment 9. variable1=”This is a test to check the unique characters in the string”**\n",
    "```\n",
    "I want you to identify all the unique characters in the above string and also mention the number of times these unique characters are repeated in the above string.\n",
    "```"
   ]
  },
  {
   "cell_type": "code",
   "execution_count": null,
   "metadata": {},
   "outputs": [],
   "source": [
    "from collections import Counter\n",
    "variable1=\"This is a test to check the unique characters in the string\"\n",
    "variable1_count=Counter(variable1.lower())\n",
    "variable1_count\n",
    "variable1_count.most_common()"
   ]
  },
  {
   "cell_type": "markdown",
   "metadata": {},
   "source": [
    "**Assignment 10. var3 = “abcdefgh”**\n",
    "```\n",
    "I want you to transform the above string to “a2c4e8g10”\n",
    "```"
   ]
  },
  {
   "cell_type": "code",
   "execution_count": null,
   "metadata": {},
   "outputs": [],
   "source": [
    "var3=\"abcdefgh\"\n",
    "var3_list=list(var3)\n",
    "var3_list[1]='2'\n",
    "var3_list[3]='4'\n",
    "var3_list[5]='8'\n",
    "var3_list[7]='10'   "
   ]
  },
  {
   "cell_type": "code",
   "execution_count": null,
   "metadata": {},
   "outputs": [],
   "source": [
    "''.join(var3_list)"
   ]
  }
 ],
 "metadata": {
  "kernelspec": {
   "display_name": "Python 3",
   "language": "python",
   "name": "python3"
  },
  "language_info": {
   "codemirror_mode": {
    "name": "ipython",
    "version": 3
   },
   "file_extension": ".py",
   "mimetype": "text/x-python",
   "name": "python",
   "nbconvert_exporter": "python",
   "pygments_lexer": "ipython3",
   "version": "3.6.4"
  }
 },
 "nbformat": 4,
 "nbformat_minor": 2
}
