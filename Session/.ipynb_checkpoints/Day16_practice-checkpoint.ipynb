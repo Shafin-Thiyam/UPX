{
 "cells": [
  {
   "cell_type": "markdown",
   "metadata": {},
   "source": [
    "# Day 15"
   ]
  },
  {
   "cell_type": "code",
   "execution_count": 1,
   "metadata": {},
   "outputs": [],
   "source": [
    "from IPython.core.interactiveshell import InteractiveShell\n",
    "InteractiveShell.ast_node_interactivity = \"all\"\n",
    "import numpy as np\n",
    "import pandas as pd\n",
    "import matplotlib.pyplot as plt\n",
    "from matplotlib import style\n",
    "import matplotlib as mlt\n",
    "import seaborn as sns\n",
    "%matplotlib inline\n",
    "from bokeh.plotting import figure,show,output_notebook\n",
    "import math\n",
    "from scipy.stats import norm\n",
    "from scipy import stats\n"
   ]
  },
  {
   "cell_type": "markdown",
   "metadata": {},
   "source": [
    "1. 1D data is called series data\n",
    "2. 2D data is called dataframe data\n",
    "3. 3D and above data is called panel data"
   ]
  },
  {
   "cell_type": "code",
   "execution_count": 2,
   "metadata": {},
   "outputs": [],
   "source": [
    "Dataset=\"../Datasets/\""
   ]
  },
  {
   "cell_type": "markdown",
   "metadata": {},
   "source": [
    "**There are 3 type of Data structure in pandas**\n",
    "1. Series: It is 1D array which assign index to each value.\n",
    "2. Dataframe: It is 2D array. Its a tabular data structure.\n",
    "3. Panel: It has 3 dimensional and more dimensional array."
   ]
  },
  {
   "cell_type": "code",
   "execution_count": 3,
   "metadata": {},
   "outputs": [
    {
     "data": {
      "text/plain": [
       "array([12, 15, 13, 20, 19, 20, 11, 19, 11, 12, 19, 13, 12, 10,  6, 19,  3,\n",
       "        1,  1,  0,  4,  4,  6,  5,  3,  7, 12,  7,  9,  8, 12, 11, 11, 18,\n",
       "       19, 18, 19,  3,  6,  5,  6,  9, 11, 10, 14, 14, 16, 17, 17, 19,  0,\n",
       "        2,  0,  3,  1,  4,  6,  6,  8,  7,  7,  6,  7, 11, 11, 10, 11, 10,\n",
       "       13, 13, 15, 18, 20, 19,  1, 10,  8, 16, 19, 19, 17, 16, 11,  1, 10,\n",
       "       13, 15,  3,  8,  6,  9, 10, 15, 19,  2,  4,  5,  6,  9, 11, 10,  9,\n",
       "       10,  9, 15, 16, 18, 13])"
      ]
     },
     "execution_count": 3,
     "metadata": {},
     "output_type": "execute_result"
    }
   ],
   "source": [
    "dss_exp = np.array([12,  15,  13,  20,  19,  20,  11,  19,  11,  12,  19,  13,  \n",
    "                    12,  10,  6,  19,  3,  1,  1,  0,  4,  4,  6,  5,  3,  7,  \n",
    "                    12,  7,  9,  8,  12,  11,  11,  18,  19,  18,  19,  3,  6,  \n",
    "                     5,  6,  9,  11,  10,  14,  14,  16,  17,  17,  19,  0,  2,  \n",
    "                     0,  3,  1,  4,  6,  6,  8,  7,  7,  6,  7,  11,  11,  10,  \n",
    "                    11,  10,  13,  13,  15,  18,  20,  19,  1,  10,  8,  16,  \n",
    "                    19,  19,  17,  16,  11,  1,  10,  13,  15,  3,  8,  6,  9,  \n",
    "                    10,  15,  19,  2,  4,  5,  6,  9,  11,  10,  9,  10,  9,  \n",
    "                    15,  16,  18,  13])\n",
    "dss_exp"
   ]
  },
  {
   "cell_type": "code",
   "execution_count": 18,
   "metadata": {},
   "outputs": [],
   "source": [
    "# Set the parameters for sampling\n",
    "n = 40\n",
    "NUM_TRIALS = 1000"
   ]
  },
  {
   "cell_type": "code",
   "execution_count": 19,
   "metadata": {},
   "outputs": [
    {
     "name": "stdout",
     "output_type": "stream",
     "text": [
      "[13 12  4  6  9  9 11  7 10  7  5  6 12 18 18  6 15 19 19 12 14 15 10 19\n",
      " 13 10  9  7 19 18  6 13  4 15 19 13  3 14  4 10]\n",
      "Samp_mean = 11.325 Sample_SD = 4.896\n"
     ]
    }
   ],
   "source": [
    "#Just try for 1 iteration\n",
    "\n",
    "samp = np.random.choice(dss_exp, size = n, replace = True)\n",
    "print (samp)\n",
    "samp_mean = samp.mean()\n",
    "samp_sd = samp.std()\n",
    "print(\"Samp_mean = {:4.3f} Sample_SD = {:4.3f}\".format(samp_mean, samp_sd))\n"
   ]
  },
  {
   "cell_type": "code",
   "execution_count": 20,
   "metadata": {},
   "outputs": [
    {
     "data": {
      "text/plain": [
       "array([13, 12,  4,  6,  9,  9, 11,  7, 10,  7,  5,  6, 12, 18, 18,  6, 15,\n",
       "       19, 19, 12, 14, 15, 10, 19, 13, 10,  9,  7, 19, 18,  6, 13,  4, 15,\n",
       "       19, 13,  3, 14,  4, 10])"
      ]
     },
     "execution_count": 20,
     "metadata": {},
     "output_type": "execute_result"
    }
   ],
   "source": [
    "samp # Display the sample values"
   ]
  },
  {
   "cell_type": "markdown",
   "metadata": {},
   "source": [
    "### How will the distribution of Sample Mean look like\n",
    "\n",
    "We are now drawing samples for 1000 times (NUM_TRIALS) and compute the mean each time. The distribution is plotted to identify range of values it can take. The original data has experience raging between 0 years and 20 years and spread across it. "
   ]
  },
  {
   "cell_type": "code",
   "execution_count": 21,
   "metadata": {},
   "outputs": [
    {
     "data": {
      "text/plain": [
       "array([10.725,  9.25 , 11.325,  8.475, 10.775,  8.625, 11.325,  9.95 ,\n",
       "       10.275, 10.125, 11.   , 10.075, 10.5  , 10.775,  9.85 ,  9.275,\n",
       "       11.85 ,  9.625, 10.025, 10.225, 11.6  , 10.975, 11.35 ,  9.45 ,\n",
       "       10.1  , 10.275, 10.   , 10.225, 11.275,  8.45 , 10.575,  9.675,\n",
       "       10.6  ,  9.275, 11.85 , 11.4  ,  9.075, 10.825, 11.275, 11.6  ,\n",
       "        9.325, 12.125, 11.225, 11.075,  9.275,  9.6  , 10.35 , 11.25 ,\n",
       "       11.275, 12.125, 10.2  , 11.7  , 11.7  , 11.975, 10.8  ,  9.35 ,\n",
       "       11.475,  9.725, 10.525, 12.925, 10.8  , 11.1  , 10.125, 10.9  ,\n",
       "       10.125,  9.275,  9.475, 10.725, 10.2  , 11.175,  9.7  , 10.925,\n",
       "       11.175,  9.525,  9.9  , 10.175,  8.5  , 10.375,  9.775, 10.35 ,\n",
       "       11.   , 10.325, 11.7  , 10.7  ,  9.425, 10.1  ,  9.85 , 10.2  ,\n",
       "       10.025,  8.675, 10.05 , 10.825,  9.4  ,  9.975, 10.025,  9.85 ,\n",
       "       10.025,  8.6  , 10.475, 11.35 , 11.   , 10.275, 10.3  , 10.1  ,\n",
       "       10.15 , 11.45 ,  9.2  , 11.55 , 10.6  , 10.1  , 10.425, 10.4  ,\n",
       "        9.775, 11.15 , 10.5  , 10.925, 10.925,  9.525, 11.075, 11.675,\n",
       "        9.175, 11.125,  9.075, 11.15 , 11.125,  9.975, 11.45 , 11.575,\n",
       "        9.75 , 10.425,  9.7  , 10.5  , 10.1  , 10.125, 10.7  ,  9.925,\n",
       "        9.85 , 11.4  ,  9.55 , 11.25 , 11.125, 10.075,  9.05 , 10.2  ,\n",
       "       10.925, 12.425, 10.675,  9.875, 11.425,  8.95 , 11.2  ,  9.825,\n",
       "       10.2  , 11.25 , 10.875, 10.15 , 11.875, 11.075,  9.55 , 10.3  ,\n",
       "        9.075, 10.15 ,  8.275,  9.275, 11.2  ,  8.8  , 10.5  ,  8.875,\n",
       "       12.125, 11.325, 10.35 , 10.95 , 10.6  , 10.35 ,  9.85 , 10.95 ,\n",
       "       11.   , 10.8  , 10.5  , 12.225, 11.4  ,  9.75 , 10.15 ,  9.9  ,\n",
       "        9.5  ,  9.7  ,  9.35 ,  9.05 , 10.225, 10.6  ,  9.55 ,  9.45 ,\n",
       "       11.375, 10.875, 10.875, 10.575,  9.85 , 11.875,  9.8  , 11.475,\n",
       "       10.425, 12.075,  9.775,  9.625, 12.   ,  9.85 , 10.5  , 10.85 ,\n",
       "        9.275, 10.425, 11.875, 11.475, 10.225, 10.325, 12.   , 11.275,\n",
       "       10.175, 11.275, 10.35 , 11.125, 10.85 , 10.55 , 10.025,  9.775,\n",
       "        8.475,  9.875, 12.075, 12.25 , 11.125, 10.9  ,  9.5  , 11.9  ,\n",
       "       10.175, 11.55 ,  9.35 , 10.525, 12.025, 10.825,  9.6  , 11.275,\n",
       "       10.825, 10.35 , 11.775, 10.1  , 11.7  , 10.625,  9.425, 10.2  ,\n",
       "        8.625, 11.275, 11.325,  9.9  , 10.1  , 11.125, 10.1  , 11.   ,\n",
       "        9.85 , 10.175,  9.625, 10.1  , 11.95 ,  9.55 , 10.85 ,  8.875,\n",
       "       10.475, 10.175, 10.025,  9.725, 10.225, 10.75 , 10.1  , 12.4  ,\n",
       "        9.075, 10.475, 10.625,  9.875, 10.275,  9.95 , 11.775,  9.925,\n",
       "       10.525, 11.25 , 10.15 , 11.075, 10.   ,  9.5  , 10.3  , 12.   ,\n",
       "        9.   , 10.325,  9.4  , 11.625,  9.125, 10.175,  9.65 ,  9.15 ,\n",
       "       10.1  , 10.125, 10.825, 10.075, 11.5  , 10.075, 11.1  ,  9.075,\n",
       "       10.4  ,  9.55 , 10.15 , 11.325, 10.15 , 10.975, 11.25 , 10.85 ,\n",
       "       13.075,  9.45 , 10.825, 11.375, 10.5  , 11.4  ,  9.675, 10.3  ,\n",
       "       11.375, 11.05 , 10.95 , 11.3  , 11.125, 10.525, 11.55 , 10.9  ,\n",
       "       10.675, 11.575, 10.5  , 10.875,  8.325, 10.975, 10.4  , 10.3  ,\n",
       "       11.275, 11.4  ,  9.575, 10.7  ,  9.725,  9.875, 10.625, 10.1  ,\n",
       "       10.125, 10.075, 10.   , 10.175, 10.625,  9.775, 10.55 , 10.575,\n",
       "        9.925, 11.925,  9.675, 10.475,  9.625,  9.7  , 11.375,  9.825,\n",
       "       10.65 , 10.55 , 11.075,  9.725, 11.375, 11.5  , 11.   ,  9.275,\n",
       "       10.025, 10.975,  9.675, 11.   , 11.1  , 10.525, 10.425, 10.1  ,\n",
       "       10.325, 10.975, 12.375, 10.1  , 10.325, 11.475, 10.525, 11.325,\n",
       "       10.175, 10.475,  9.9  , 10.45 , 11.35 , 10.925, 10.15 ,  9.75 ,\n",
       "       10.3  ,  9.375, 11.125,  9.825, 10.025, 11.625, 11.625, 11.725,\n",
       "       10.1  , 11.55 , 12.15 ,  9.8  , 10.75 ,  9.775, 10.825,  9.825,\n",
       "       10.85 , 11.65 ,  9.75 , 11.375, 10.8  , 10.025,  9.725, 10.325,\n",
       "       10.625,  9.9  , 10.125, 11.25 , 10.65 ,  9.525, 10.375,  9.975,\n",
       "       10.65 ,  9.825, 10.075, 10.35 , 10.7  ,  9.625, 10.725, 10.325,\n",
       "       10.55 , 10.95 , 11.45 , 10.25 , 10.825,  8.45 ,  9.975,  9.775,\n",
       "       10.4  , 10.15 , 10.525, 11.475, 10.05 , 10.7  , 11.85 , 11.725,\n",
       "       11.175, 10.7  , 11.125,  9.45 , 11.675,  9.15 , 11.1  , 11.025,\n",
       "       10.2  ,  9.75 ,  9.125,  9.3  , 11.45 ,  9.425, 11.05 ,  9.35 ,\n",
       "        9.3  , 10.225,  8.6  , 10.225,  9.95 , 11.6  , 10.1  ,  9.5  ,\n",
       "        9.5  , 10.65 , 10.35 , 11.35 , 10.85 , 10.925, 10.225, 10.55 ,\n",
       "       12.55 , 11.85 ,  8.95 ,  9.875, 11.45 , 10.5  , 10.225, 11.075,\n",
       "       10.95 , 10.65 , 10.775, 10.825, 10.775,  9.875, 10.225, 10.9  ,\n",
       "       10.925,  9.125,  9.525,  9.5  , 11.7  , 11.65 , 10.75 ,  9.675,\n",
       "       11.075, 11.425, 10.925,  9.575, 11.7  ,  9.25 , 11.725,  8.7  ,\n",
       "       11.875, 11.175, 11.15 , 11.25 , 11.45 , 10.35 ,  9.4  , 10.85 ,\n",
       "       12.475,  9.5  , 10.5  , 10.35 , 10.625,  9.275, 11.65 ,  8.675,\n",
       "       11.525, 11.175, 10.15 , 10.25 , 11.9  ,  8.5  ,  9.7  , 10.5  ,\n",
       "       10.2  , 10.35 , 10.25 , 10.85 , 11.6  ,  9.575,  9.525, 10.375,\n",
       "       10.125, 10.   , 10.4  , 10.   ,  9.625,  9.675,  9.375, 10.95 ,\n",
       "       10.75 ,  9.   ,  9.225, 11.625, 10.7  , 11.15 , 10.825, 10.45 ,\n",
       "       11.125, 10.525, 10.825, 10.9  ,  9.425, 10.025, 11.2  ,  9.975,\n",
       "       10.125,  9.825, 10.6  , 10.675, 10.075,  9.95 , 10.875, 10.775,\n",
       "       11.5  , 11.55 ,  9.075, 10.5  ,  9.95 ,  9.65 , 11.125, 11.675,\n",
       "       10.7  ,  9.5  , 10.525, 10.375, 11.8  ,  9.25 , 10.25 ,  9.275,\n",
       "       10.875, 10.775, 10.825, 10.975, 10.325,  9.825, 11.25 , 10.65 ,\n",
       "       11.125, 11.025, 10.1  ,  9.225,  9.475,  9.7  , 11.175, 10.075,\n",
       "       11.375, 11.85 ,  9.9  ,  9.525,  9.9  , 11.675, 10.525,  9.9  ,\n",
       "       10.   , 10.025,  9.9  , 11.525, 10.175, 11.875, 10.45 , 10.05 ,\n",
       "       11.   ,  9.8  ,  9.6  , 10.9  ,  9.9  , 10.925,  9.65 , 11.35 ,\n",
       "       10.45 ,  9.625,  9.775, 10.375, 10.175, 10.125, 10.775, 12.125,\n",
       "       10.15 ,  9.55 , 11.175, 10.25 , 11.625, 10.9  , 10.125,  9.95 ,\n",
       "       11.15 ,  9.825, 11.125, 10.   , 11.65 , 10.225, 11.55 , 11.1  ,\n",
       "       11.8  , 11.75 , 11.85 ,  8.85 ,  9.975,  9.6  , 12.125, 11.475,\n",
       "       10.925, 10.475,  9.6  , 10.45 , 10.45 , 10.55 , 10.675,  8.625,\n",
       "       10.425, 10.15 ,  9.575,  9.925,  9.2  ,  9.95 , 10.975, 11.475,\n",
       "        9.125, 12.35 , 11.275, 10.475, 10.1  ,  9.375, 10.65 , 10.45 ,\n",
       "       10.75 , 11.6  , 12.275, 11.775, 11.475, 10.4  , 11.45 ,  9.5  ,\n",
       "       10.225, 11.725, 12.15 , 10.725, 13.775, 12.15 , 10.8  ,  9.85 ,\n",
       "        8.275,  8.3  , 10.65 , 10.35 , 10.775, 12.375, 10.4  ,  9.95 ,\n",
       "        9.8  , 10.6  ,  9.95 , 10.025, 10.45 , 10.825,  9.875, 10.65 ,\n",
       "       11.825,  9.9  , 10.525, 10.7  , 10.425,  8.975,  9.2  , 10.025,\n",
       "       11.55 , 10.4  , 11.8  , 10.725,  8.75 ,  8.875, 10.65 , 12.6  ,\n",
       "        8.2  , 10.475,  9.975,  9.575, 11.   , 11.2  ,  9.25 , 10.1  ,\n",
       "        9.875, 10.5  ,  8.125, 10.275, 11.9  , 10.65 ,  9.125,  9.5  ,\n",
       "       11.05 , 10.475, 11.   , 12.05 ,  8.35 ,  9.475, 11.375, 10.675,\n",
       "       11.2  , 12.2  , 10.925, 10.55 ,  9.875, 10.65 , 10.3  , 11.075,\n",
       "       10.7  , 11.1  , 10.175, 10.975, 11.15 , 11.9  , 10.275,  9.55 ,\n",
       "       10.475,  9.95 , 10.525,  9.875, 10.675, 10.625, 10.925, 11.125,\n",
       "       11.1  , 10.125, 10.85 ,  8.55 , 11.4  , 10.35 ,  9.3  ,  9.325,\n",
       "        8.325, 11.4  , 11.   , 10.9  , 10.8  , 11.375, 10.6  ,  9.55 ,\n",
       "        9.225,  9.95 , 11.2  ,  9.975, 11.25 ,  9.85 , 10.975,  9.8  ,\n",
       "       10.875, 11.   , 12.2  ,  9.   , 11.175, 11.2  , 10.775, 10.6  ,\n",
       "        9.75 , 11.825, 10.275, 10.7  , 10.325, 10.725,  8.675, 11.475,\n",
       "       12.35 , 11.575,  9.875, 11.15 ,  9.15 , 11.275, 11.75 , 11.375,\n",
       "       11.725, 10.15 ,  8.35 ,  9.6  , 10.5  , 10.175, 10.225, 10.175,\n",
       "       10.375, 11.275,  9.7  ,  8.775, 10.525,  9.625, 11.05 , 10.025,\n",
       "        9.85 ,  9.725,  9.775, 10.125, 10.525, 11.775, 10.3  , 10.175,\n",
       "        8.85 , 12.   ,  9.25 ,  9.3  , 10.975, 10.975, 11.025, 10.25 ,\n",
       "       10.55 ,  8.75 , 10.1  ,  9.075, 10.85 , 10.05 , 10.   ,  9.625,\n",
       "        9.775, 10.95 , 11.05 , 10.875, 11.3  , 10.825, 10.175, 10.25 ,\n",
       "       10.675, 11.225,  9.175, 10.675,  9.825, 10.5  , 10.475, 11.35 ,\n",
       "        9.725,  9.975,  9.65 , 11.175, 10.275, 11.025, 11.525, 11.775,\n",
       "       11.9  , 10.525, 11.325,  9.475, 10.9  ,  9.775,  9.6  , 10.85 ,\n",
       "        9.15 ,  9.85 , 10.925, 10.4  ,  9.825, 11.325, 10.85 , 10.3  ,\n",
       "       11.475,  8.725, 11.675, 10.2  , 10.875, 10.725,  8.9  , 10.35 ,\n",
       "       12.025, 10.075, 10.675, 10.875, 11.475, 10.85 ,  9.25 , 10.875,\n",
       "        9.325, 10.85 , 11.225, 10.45 , 12.175,  8.675, 10.95 , 11.6  ,\n",
       "       11.075, 11.   , 11.675, 10.575, 11.375, 11.25 , 12.175,  9.55 ,\n",
       "        8.4  , 10.5  , 11.2  , 10.425, 11.025, 10.225, 10.2  ,  9.15 ,\n",
       "        9.825,  8.675, 11.05 ,  9.9  ,  9.   , 10.875, 10.1  , 10.25 ,\n",
       "       10.275, 11.225, 11.9  , 10.6  ,  9.425, 11.675,  9.25 ,  9.2  ,\n",
       "        9.9  ,  9.85 , 11.325, 10.7  , 10.35 , 11.025, 10.05 , 10.175,\n",
       "       10.675, 10.875, 10.25 , 10.   ,  9.075,  9.1  , 10.05 , 11.75 ,\n",
       "       10.75 , 10.2  , 10.625,  9.725, 10.125,  9.925,  8.9  , 11.1  ,\n",
       "        9.35 , 11.425, 11.9  , 10.175, 10.35 , 10.575, 10.075, 10.375])"
      ]
     },
     "execution_count": 21,
     "metadata": {},
     "output_type": "execute_result"
    }
   ],
   "source": [
    "# Distribution of Sample means\n",
    "\n",
    "np.random.seed(100)\n",
    "mn_array = np.zeros(NUM_TRIALS)\n",
    "sd_array = np.zeros(NUM_TRIALS)\n",
    "\n",
    "# Extract Random Samples and compute mean & standard deviation\n",
    "for i in range(NUM_TRIALS):\n",
    "  samp = np.random.choice(dss_exp, size = n, replace = True)\n",
    "  mn_array[i] = samp.mean()\n",
    "mn_array"
   ]
  },
  {
   "cell_type": "code",
   "execution_count": 22,
   "metadata": {},
   "outputs": [
    {
     "name": "stdout",
     "output_type": "stream",
     "text": [
      "Mean = 10.463, Std Dev = 0.865, 5% Pct = 9.075, 95% Pct = 11.875\n"
     ]
    },
    {
     "data": {
      "image/png": "[encoded data removed]",
      "text/plain": [
       "<matplotlib.figure.Figure at 0x188082d93c8>"
      ]
     },
     "metadata": {},
     "output_type": "display_data"
    }
   ],
   "source": [
    "# Annotate the distribution - Not important for understanding\n",
    "mn = mn_array.mean()\n",
    "sd = mn_array.std()\n",
    "x5_pct = np.percentile(mn_array, 5.0)\n",
    "x95_pct = np.percentile(mn_array, 95.0)\n",
    "print(\"Mean = {:4.3f}, Std Dev = {:4.3f}, 5% Pct = {:4.3f}, 95% Pct = {:4.3f}\".format(mn, sd, x5_pct, x95_pct))\n",
    "\n",
    "\n",
    "# Plot Sampling distribution of Mean    \n",
    "plt.hist(mn_array, range=(0,20), bins = 41)\n",
    "# Add axis labels\n",
    "plt.xlabel(\"Avg Experience with n={}\".format(n))\n",
    "plt.ylabel(\"Frequency\")\n",
    "plt.title(\"Sampling Distribution of Mean\")\n",
    "plt.axvline(x=x5_pct, linewidth=2, color = 'r')\n",
    "plt.axvline(x=x95_pct, linewidth=2, color = 'r')\n",
    "plt.show();"
   ]
  },
  {
   "cell_type": "code",
   "execution_count": 13,
   "metadata": {},
   "outputs": [
    {
     "data": {
      "text/plain": [
       "108"
      ]
     },
     "execution_count": 13,
     "metadata": {},
     "output_type": "execute_result"
    }
   ],
   "source": [
    "len(dss_exp)"
   ]
  },
  {
   "cell_type": "code",
   "execution_count": 14,
   "metadata": {},
   "outputs": [
    {
     "data": {
      "text/plain": [
       "20"
      ]
     },
     "execution_count": 14,
     "metadata": {},
     "output_type": "execute_result"
    },
    {
     "data": {
      "text/plain": [
       "10.435185185185185"
      ]
     },
     "execution_count": 14,
     "metadata": {},
     "output_type": "execute_result"
    },
    {
     "data": {
      "text/plain": [
       "10.0"
      ]
     },
     "execution_count": 14,
     "metadata": {},
     "output_type": "execute_result"
    },
    {
     "data": {
      "text/plain": [
       "0"
      ]
     },
     "execution_count": 14,
     "metadata": {},
     "output_type": "execute_result"
    }
   ],
   "source": [
    "np.max(dss_exp)\n",
    "np.mean(dss_exp)\n",
    "np.median(dss_exp)\n",
    "np.min(dss_exp)\n",
    "#np.quantile(dss_exp,np.arange(0,1.1,0.1))"
   ]
  },
  {
   "cell_type": "code",
   "execution_count": 15,
   "metadata": {},
   "outputs": [
    {
     "data": {
      "image/png": "[encoded data removed]",
      "text/plain": [
       "<matplotlib.figure.Figure at 0x18807d267b8>"
      ]
     },
     "metadata": {},
     "output_type": "display_data"
    }
   ],
   "source": [
    "bins=np.arange(0,21,2)\n",
    "plt.hist(dss_exp,bins,histtype='bar',rwidth=0.7)\n",
    "plt.show();"
   ]
  },
  {
   "cell_type": "markdown",
   "metadata": {},
   "source": [
    "## Introduction to Central Limit Theorem\n",
    "\n",
    "The original experience of students of Data science is in no way appears to be normal distribution.` It has peaks around 5 years, 10 years and 19 years experience.\n",
    "\n",
    "The above plot is histogram of mean of samples for any given *n*. As you vary *n* from 1 to 128 you will see the following summary for the **Sampling Distribution of Mean** chart. The code for creating the below table is in the **Appendix Code 3** section. \n",
    "\n",
    "- n =   1, Mean = 10.301, Std Dev = 5.689, 5% Pct = 1.000, 95% Pct = 19.000\n",
    "- n =   2, Mean = 10.431, Std Dev = 3.984, 5% Pct = 4.000, 95% Pct = 17.000\n",
    "- n =   4, Mean = 10.388, Std Dev = 2.878, 5% Pct = 5.500, 95% Pct = 15.000\n",
    "- n =   8, Mean = 10.407, Std Dev = 2.031, 5% Pct = 7.000, 95% Pct = 13.875\n",
    "- n =  10, Mean = 10.455, Std Dev = 1.794, 5% Pct = 7.600, 95% Pct = 13.405\n",
    "- n =  16, Mean = 10.467, Std Dev = 1.372, 5% Pct = 8.188, 95% Pct = 12.688\n",
    "- n =  32, Mean = 10.470, Std Dev = 0.984, 5% Pct = 8.844, 95% Pct = 12.125\n",
    "- n =  64, Mean = 10.446, Std Dev = 0.693, 5% Pct = 9.297, 95% Pct = 11.609\n",
    "- n = 128, Mean = 10.451, Std Dev = 0.502, 5% Pct = 9.625, 95% Pct = 11.258\n",
    "\n",
    "One important point is to note the **trend in values of Std Dev in the above table as *n* increases**.\n",
    "\n",
    "- n = 2 : Std Dev = 3.984 ~ 5.665/$\\sqrt2$  where 5.665 is the standard deviation of the experience of the class (population std. dev)\n",
    "- n = 4 : Std Dev = 2.878 ~ 5.665/$\\sqrt4$\n",
    "- n = 10 : Std Dev = 1.794 ~ 5.665/$\\sqrt10$\n",
    "- and so on ...\n",
    "\n",
    "As *n* increases the Std Dev of *Sampling distribution of Mean* reduces from 5.689 (n = 1) to 0.502 (n = 128). As n increases the *Sampling distribution of Mean* looks more normal. **It is observed that when n >= 30 irrespective of the original distribution the Sampling distribution of Mean becomes normal distribution.**\n",
    "\n",
    "![Sampling Mean evolves to normal distribution](http://flylib.com/books/2/528/1/html/2/images/figu115_1.jpg)\n",
    "\n",
    "\n",
    "This has profound implications for statistical inference and because of this specific phenomenan we can quantify the certainity of the outcome. Without this result it is impossible to quantify the confidence interval of the sample mean.\n",
    "\n",
    "To interpret alternatively if one takes 16 random samples from the data, it is likely that the average of 16 values will lie with 8.188 and 12.688 for 90% of the times.\n",
    "\n",
    "### Definition of Central Limit Theorem\n",
    "\n",
    "In probability theory, the central limit theorem (CLT) establishes that, for the most commonly studied scenarios, when independent random variables are added, their sum tends toward a **normal distribution** (commonly known as a bell curve) even if the original variables themselves are not normally distributed [Ref: Wikipedia]\n",
    "\n",
    "The key point to note is that irrespective of the original distribution then sum (and hence average as well) of large samples tend towards normal distribution. This gives power to estimate the confidence intervals.\n",
    "\n",
    "\n",
    "### Properties of Normal Distribution\n",
    "\n",
    "Normal disribution has following characteristics\n",
    "\n",
    "![Normal Distribution](http://flylib.com/books/2/528/1/html/2/images/figu114_1.jpg)\n",
    "\n",
    "- ~68.3% of values lie within 1 Standard Deviation\n",
    "- ~90.0% of values lie within 1.645 Standard Deviations\n",
    "- ~95.0% of values lie within 1.96 Standard Deviations\n",
    "- ~95.5% of values lie within 2 Standard Deviations\n",
    "- ~99.7% of values lie within 3 Standard Deviations\n"
   ]
  },
  {
   "cell_type": "code",
   "execution_count": 23,
   "metadata": {},
   "outputs": [],
   "source": [
    "# Function to check if the true mean lies within 90% Confidence Interval\n",
    "\n",
    "def samp_mean_within_ci(mn, l_5pct, u_95pct):\n",
    "    out = True\n",
    "    if (mn < l_5pct) | (mn > u_95pct):\n",
    "        out = False\n",
    "        \n",
    "    return out"
   ]
  },
  {
   "cell_type": "markdown",
   "metadata": {},
   "source": [
    "#### Getting the average experience estimate from sample and Confidence Intervals\n",
    "\n",
    "Now given the sample size *n* we can estimate the sample mean and confidence interval. The confidence interval is estimated assuming normal distribution which really holds good when n >= 30.\n",
    "\n",
    "When n is increased the confidence interval becomes smaller which implies that results are obtained with higher certainity.\n",
    "\n",
    "**Execute the code below multiple times and check how often the population mean of 10.435 will lie within 90% confidence interval. It should be on average 9 out of 10 times i.e 90% **"
   ]
  },
  {
   "cell_type": "code",
   "execution_count": 24,
   "metadata": {},
   "outputs": [
    {
     "name": "stdout",
     "output_type": "stream",
     "text": [
      "Pop Mean: 10.435 | Sample: L_5PCT = 8.811 | M = samp_mean = 10.550  | H_95PCT = 12.289\n",
      "True mean lies with the 90% confidence Intervel = True\n"
     ]
    }
   ],
   "source": [
    "# Estimation and Confidence Interval\n",
    "#np.random.seed(100) # seed value is set to reproduce the results\n",
    "\n",
    "samp = np.random.choice(dss_exp, size = n, replace = True)\n",
    "samp_mean = samp.mean()\n",
    "samp_sd = samp.std()\n",
    "#std_ci is nothing but std error\n",
    "sd_ci = samp_sd/np.sqrt(n) #  divided by sqrt(n) is done so as to compensate for the reduction in std. dev due to sample size of n\n",
    "#1.645  is for 5 %\n",
    "samp_lower_5pct = samp_mean - 1.645 * sd_ci # Lower 90% confidence interval (This is approximate version to build intution)\n",
    "samp_upper_95pct = samp_mean + 1.645 * sd_ci # Upper 90% confidence interval (This is approximate version to build intution)\n",
    "\n",
    "print(\"Pop Mean: {:4.3f} | Sample: L_5PCT = {:4.3f} | M = samp_mean = {:4.3f}  | H_95PCT = {:4.3f}\".format(dss_exp.mean(), samp_lower_5pct, samp_mean, samp_upper_95pct))\n",
    "\n",
    "# Checking if the population mean lies within 90% Confidence Interval (CI)\n",
    "mn_within_ci_flag = samp_mean_within_ci(dss_exp.mean(), samp_lower_5pct, samp_upper_95pct)\n",
    "print(\"True mean lies with the 90% confidence Intervel = {}\".format(mn_within_ci_flag))"
   ]
  },
  {
   "cell_type": "code",
   "execution_count": null,
   "metadata": {},
   "outputs": [],
   "source": []
  }
 ],
 "metadata": {
  "kernelspec": {
   "display_name": "Python 3",
   "language": "python",
   "name": "python3"
  },
  "language_info": {
   "codemirror_mode": {
    "name": "ipython",
    "version": 3
   },
   "file_extension": ".py",
   "mimetype": "text/x-python",
   "name": "python",
   "nbconvert_exporter": "python",
   "pygments_lexer": "ipython3",
   "version": "3.6.4"
  }
 },
 "nbformat": 4,
 "nbformat_minor": 2
}
