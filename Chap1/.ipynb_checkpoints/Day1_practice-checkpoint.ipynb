{
 "cells": [
  {
   "cell_type": "markdown",
   "metadata": {},
   "source": [
    "# Day 1 of python programing"
   ]
  },
  {
   "cell_type": "code",
   "execution_count": 1,
   "metadata": {},
   "outputs": [],
   "source": [
    "your_local_path=\"F:\\\\UPX_TechM\\\\Data Analytics\\\\Content\""
   ]
  },
  {
   "cell_type": "code",
   "execution_count": 2,
   "metadata": {},
   "outputs": [
    {
     "name": "stdout",
     "output_type": "stream",
     "text": [
      "3.6.4 |Anaconda, Inc.| (default, Jan 16 2018, 10:22:32) [MSC v.1900 64 bit (AMD64)]\n",
      "sys.version_info(major=3, minor=6, micro=4, releaselevel='final', serial=0)\n"
     ]
    }
   ],
   "source": [
    "import sys\n",
    "print (sys.version)\n",
    "print (sys.version_info)"
   ]
  },
  {
   "cell_type": "code",
   "execution_count": 3,
   "metadata": {},
   "outputs": [],
   "source": [
    "''' \n",
    "sdadadsa\n",
    "dasdd''';"
   ]
  },
  {
   "cell_type": "code",
   "execution_count": 4,
   "metadata": {},
   "outputs": [],
   "source": [
    "from IPython.core.interactiveshell import InteractiveShell\n",
    "InteractiveShell.ast_node_interactivity = \"all\""
   ]
  },
  {
   "cell_type": "code",
   "execution_count": 5,
   "metadata": {},
   "outputs": [
    {
     "data": {
      "text/plain": [
       "12"
      ]
     },
     "execution_count": 5,
     "metadata": {},
     "output_type": "execute_result"
    },
    {
     "data": {
      "text/plain": [
       "21"
      ]
     },
     "execution_count": 5,
     "metadata": {},
     "output_type": "execute_result"
    }
   ],
   "source": [
    "x=12\n",
    "y=21\n",
    "x\n",
    "y"
   ]
  },
  {
   "cell_type": "code",
   "execution_count": 6,
   "metadata": {},
   "outputs": [
    {
     "data": {
      "text/plain": [
       "2"
      ]
     },
     "execution_count": 6,
     "metadata": {},
     "output_type": "execute_result"
    },
    {
     "data": {
      "text/plain": [
       "1"
      ]
     },
     "execution_count": 6,
     "metadata": {},
     "output_type": "execute_result"
    }
   ],
   "source": [
    "5//2 #floor division\n",
    "5%2  # modulus"
   ]
  },
  {
   "cell_type": "code",
   "execution_count": 10,
   "metadata": {},
   "outputs": [
    {
     "data": {
      "text/plain": [
       "True"
      ]
     },
     "execution_count": 10,
     "metadata": {},
     "output_type": "execute_result"
    },
    {
     "data": {
      "text/plain": [
       "False"
      ]
     },
     "execution_count": 10,
     "metadata": {},
     "output_type": "execute_result"
    }
   ],
   "source": [
    "x=2\n",
    "y=5\n",
    "x==2 and y==5\n",
    "x==2 and y==7\n"
   ]
  },
  {
   "cell_type": "code",
   "execution_count": 11,
   "metadata": {},
   "outputs": [
    {
     "name": "stdout",
     "output_type": "stream",
     "text": [
      "Help on built-in function print in module builtins:\n",
      "\n",
      "print(...)\n",
      "    print(value, ..., sep=' ', end='\\n', file=sys.stdout, flush=False)\n",
      "    \n",
      "    Prints the values to a stream, or to sys.stdout by default.\n",
      "    Optional keyword arguments:\n",
      "    file:  a file-like object (stream); defaults to the current sys.stdout.\n",
      "    sep:   string inserted between values, default a space.\n",
      "    end:   string appended after the last value, default a newline.\n",
      "    flush: whether to forcibly flush the stream.\n",
      "\n"
     ]
    }
   ],
   "source": [
    "#help in python can be done in two way\n",
    "help(print)\n",
    "print?"
   ]
  },
  {
   "cell_type": "code",
   "execution_count": 12,
   "metadata": {},
   "outputs": [
    {
     "data": {
      "text/plain": [
       "'sdsa'"
      ]
     },
     "execution_count": 12,
     "metadata": {},
     "output_type": "execute_result"
    }
   ],
   "source": [
    "h='''sdsa'''\n",
    "h"
   ]
  },
  {
   "cell_type": "code",
   "execution_count": 13,
   "metadata": {},
   "outputs": [],
   "source": [
    "h;"
   ]
  },
  {
   "cell_type": "code",
   "execution_count": 14,
   "metadata": {},
   "outputs": [
    {
     "ename": "ValueError",
     "evalue": "invalid literal for int() with base 10: 'sdada'",
     "output_type": "error",
     "traceback": [
      "\u001b[1;31m---------------------------------------------------------------------------\u001b[0m",
      "\u001b[1;31mValueError\u001b[0m                                Traceback (most recent call last)",
      "\u001b[1;32m<ipython-input-14-da7a35974723>\u001b[0m in \u001b[0;36m<module>\u001b[1;34m()\u001b[0m\n\u001b[0;32m      1\u001b[0m \u001b[0ms\u001b[0m\u001b[1;33m=\u001b[0m\u001b[1;34m'sdada'\u001b[0m\u001b[1;33m\u001b[0m\u001b[0m\n\u001b[1;32m----> 2\u001b[1;33m \u001b[0mint_s\u001b[0m\u001b[1;33m=\u001b[0m\u001b[0mint\u001b[0m\u001b[1;33m(\u001b[0m\u001b[0ms\u001b[0m\u001b[1;33m)\u001b[0m\u001b[1;33m\u001b[0m\u001b[0m\n\u001b[0m\u001b[0;32m      3\u001b[0m \u001b[0mint_s\u001b[0m\u001b[1;33m\u001b[0m\u001b[0m\n",
      "\u001b[1;31mValueError\u001b[0m: invalid literal for int() with base 10: 'sdada'"
     ]
    }
   ],
   "source": [
    "s='sdada'\n",
    "int_s=int(s)\n",
    "int_s"
   ]
  },
  {
   "cell_type": "code",
   "execution_count": 19,
   "metadata": {},
   "outputs": [],
   "source": [
    "flt_x=2.76523\n",
    "int_x=int(float_x)"
   ]
  },
  {
   "cell_type": "code",
   "execution_count": 20,
   "metadata": {},
   "outputs": [
    {
     "data": {
      "text/plain": [
       "2"
      ]
     },
     "execution_count": 20,
     "metadata": {},
     "output_type": "execute_result"
    }
   ],
   "source": [
    "int_x"
   ]
  },
  {
   "cell_type": "markdown",
   "metadata": {},
   "source": [
    "**will list all the ran command from history**"
   ]
  },
  {
   "cell_type": "code",
   "execution_count": 32,
   "metadata": {},
   "outputs": [
    {
     "name": "stdout",
     "output_type": "stream",
     "text": [
      "your_local_path=\"F:\\\\UPX_TechM\\\\Data Analytics\\\\Content\"\n",
      "import sys\n",
      "print (sys.version)\n",
      "print (sys.version_info)\n",
      "''' \n",
      "sdadadsa\n",
      "dasdd''';\n",
      "from IPython.core.interactiveshell import InteractiveShell\n",
      "InteractiveShell.ast_node_interactivity = \"all\"\n",
      "x=12\n",
      "y=21\n",
      "x\n",
      "y\n",
      "5//2 #floor division\n",
      "5%2  # modulus\n",
      "1!=2\n",
      "1<>2\n",
      "1!=2\n",
      "1 <> 2\n",
      "x=2\n",
      "x=5\n",
      "x==2 and y==5\n",
      "x==2 and y==7\n",
      "x=2\n",
      "y=5\n",
      "x==2 and y==5\n",
      "x==2 and y==7\n",
      "#help in python\n",
      "help(print)\n",
      "print?\n",
      "h='''sdsa'''\n",
      "h\n",
      "h;\n",
      "s='sdada'\n",
      "int_s=int(s)\n",
      "int_s\n",
      "int_x=2\n",
      "float_x=float(int_x)\n",
      "float_x\n",
      "flt_x=2.32123\n",
      "int_x=int(float_x)\n",
      "int_x\n",
      "flt_x=2.76523\n",
      "int_x=int(float_x)\n",
      "int_x\n",
      "flt_x=2.76523\n",
      "flt_x=round(flt_x)\n",
      "int_x=int(float_x)\n",
      "int_x\n",
      "flt_x=2.78523\n",
      "flt_x=round(flt_x)\n",
      "int_x=int(float_x)\n",
      "int_x\n",
      "flt_x=2.78956\n",
      "flt_x=round(flt_x)\n",
      "int_x=int(float_x)\n",
      "int_x\n",
      "flt_x=2.78956\n",
      "flt_x=round(flt_x,0)\n",
      "int_x=int(float_x)\n",
      "int_x\n",
      "flt_x=2.78956\n",
      "int_=round(flt_x,0)\n",
      "int_x=int(float_x)\n",
      "int_x\n",
      "flt_x=2.78956\n",
      "int_x=round(flt_x,0)\n",
      "int_x=int(float_x)\n",
      "int_x\n",
      "flt_x=2.78956\n",
      "int_x=round(flt_x,0)\n",
      "\n",
      "int_x\n",
      "flt_x=2.78956\n",
      "int_x=round(flt_x,0)\n",
      "\n",
      "int_x=int(int_x)\n",
      "int_x\n",
      "%history\n",
      "%history # will list all the ran command from history\n",
      "%history\n",
      "%history\n"
     ]
    }
   ],
   "source": [
    "%history "
   ]
  },
  {
   "cell_type": "code",
   "execution_count": 28,
   "metadata": {},
   "outputs": [
    {
     "data": {
      "text/plain": [
       "3"
      ]
     },
     "execution_count": 28,
     "metadata": {},
     "output_type": "execute_result"
    }
   ],
   "source": [
    "flt_x=2.78956\n",
    "int_x=round(flt_x,0)\n",
    "\n",
    "int_x=int(int_x)\n",
    "int_x"
   ]
  },
  {
   "cell_type": "markdown",
   "metadata": {},
   "source": [
    "**Augmented assignment**"
   ]
  },
  {
   "cell_type": "code",
   "execution_count": 41,
   "metadata": {},
   "outputs": [
    {
     "data": {
      "text/plain": [
       "9"
      ]
     },
     "execution_count": 41,
     "metadata": {},
     "output_type": "execute_result"
    },
    {
     "data": {
      "text/plain": [
       "25"
      ]
     },
     "execution_count": 41,
     "metadata": {},
     "output_type": "execute_result"
    },
    {
     "data": {
      "text/plain": [
       "256"
      ]
     },
     "execution_count": 41,
     "metadata": {},
     "output_type": "execute_result"
    }
   ],
   "source": [
    "x=4\n",
    "y=5\n",
    "x+=5\n",
    "x\n",
    "y*=5\n",
    "y\n",
    "x-=y\n",
    "x**=2\n",
    "x"
   ]
  },
  {
   "cell_type": "markdown",
   "metadata": {},
   "source": [
    "```ctrlshift- is to split the cell```"
   ]
  },
  {
   "cell_type": "markdown",
   "metadata": {},
   "source": [
    "**Date and Time**"
   ]
  },
  {
   "cell_type": "code",
   "execution_count": 44,
   "metadata": {},
   "outputs": [],
   "source": [
    "import datetime as dt\n",
    "import time as ti"
   ]
  },
  {
   "cell_type": "code",
   "execution_count": 66,
   "metadata": {},
   "outputs": [
    {
     "data": {
      "text/plain": [
       "'2018-09-02 10:13:08.618056'"
      ]
     },
     "execution_count": 66,
     "metadata": {},
     "output_type": "execute_result"
    },
    {
     "data": {
      "text/plain": [
       "'2018-09-02'"
      ]
     },
     "execution_count": 66,
     "metadata": {},
     "output_type": "execute_result"
    },
    {
     "data": {
      "text/plain": [
       "'10:13:08.633042'"
      ]
     },
     "execution_count": 66,
     "metadata": {},
     "output_type": "execute_result"
    },
    {
     "data": {
      "text/plain": [
       "datetime.datetime"
      ]
     },
     "execution_count": 66,
     "metadata": {},
     "output_type": "execute_result"
    },
    {
     "data": {
      "text/plain": [
       "10"
      ]
     },
     "execution_count": 66,
     "metadata": {},
     "output_type": "execute_result"
    }
   ],
   "source": [
    "str(dt.datetime.now())\n",
    "str(dt.datetime.now().date())\n",
    "str(dt.datetime.now().time())\n",
    "dts=dt.datetime.now()\n",
    "type(dts)\n",
    "dts.hour"
   ]
  },
  {
   "cell_type": "code",
   "execution_count": 68,
   "metadata": {},
   "outputs": [
    {
     "name": "stdout",
     "output_type": "stream",
     "text": [
      "2014-05-16 14:34:23\n",
      "2014\n",
      "34\n"
     ]
    }
   ],
   "source": [
    "from datetime import datetime,date,time\n",
    "\n",
    "date1=datetime(2014,5,16,14,34,23)\n",
    "print(date1)\n",
    "print(date1.year)\n",
    "print(date1.minute)"
   ]
  },
  {
   "cell_type": "code",
   "execution_count": 71,
   "metadata": {},
   "outputs": [
    {
     "name": "stdout",
     "output_type": "stream",
     "text": [
      "2014-05-16 13:43:28\n"
     ]
    }
   ],
   "source": [
    "print(datetime.strptime('20140516134328','%Y%m%d%H%M%S'))"
   ]
  },
  {
   "cell_type": "code",
   "execution_count": 72,
   "metadata": {},
   "outputs": [],
   "source": [
    "dt1=datetime(2012,5,23)\n",
    "dt2=datetime(2017,3,12)"
   ]
  },
  {
   "cell_type": "code",
   "execution_count": 73,
   "metadata": {},
   "outputs": [
    {
     "name": "stdout",
     "output_type": "stream",
     "text": [
      "1754 days, 0:00:00\n"
     ]
    }
   ],
   "source": [
    "dtdiff=dt2-dt1\n",
    "print(dtdiff)"
   ]
  },
  {
   "cell_type": "code",
   "execution_count": null,
   "metadata": {},
   "outputs": [],
   "source": []
  }
 ],
 "metadata": {
  "kernelspec": {
   "display_name": "Python 3",
   "language": "python",
   "name": "python3"
  },
  "language_info": {
   "codemirror_mode": {
    "name": "ipython",
    "version": 3
   },
   "file_extension": ".py",
   "mimetype": "text/x-python",
   "name": "python",
   "nbconvert_exporter": "python",
   "pygments_lexer": "ipython3",
   "version": "3.6.4"
  }
 },
 "nbformat": 4,
 "nbformat_minor": 2
}
