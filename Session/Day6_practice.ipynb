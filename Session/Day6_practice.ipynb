{
 "cells": [
  {
   "cell_type": "markdown",
   "metadata": {},
   "source": [
    "## Day 5"
   ]
  },
  {
   "cell_type": "code",
   "execution_count": 80,
   "metadata": {},
   "outputs": [],
   "source": [
    "Dataset=\"F:\\\\UPX_TechM\\\\Data Analytic\\\\Practicals\\\\Datasets\""
   ]
  },
  {
   "cell_type": "code",
   "execution_count": 2,
   "metadata": {},
   "outputs": [],
   "source": [
    "from IPython.core.interactiveshell import InteractiveShell\n",
    "InteractiveShell.ast_node_interactivity = \"all\""
   ]
  },
  {
   "cell_type": "markdown",
   "metadata": {},
   "source": [
    "1. Function\n",
    "   - lambda function\n",
    "2.\texception handling\n",
    "3.\tsets\n",
    "4.\tModules\n",
    "5.\t**Numpy <--**\n"
   ]
  },
  {
   "cell_type": "markdown",
   "metadata": {},
   "source": [
    "**Numpy**"
   ]
  },
  {
   "cell_type": "code",
   "execution_count": 3,
   "metadata": {},
   "outputs": [],
   "source": [
    "import numpy as np"
   ]
  },
  {
   "cell_type": "code",
   "execution_count": 4,
   "metadata": {},
   "outputs": [
    {
     "data": {
      "text/plain": [
       "[1, 2, 3, 4, 5, 6]"
      ]
     },
     "execution_count": 4,
     "metadata": {},
     "output_type": "execute_result"
    }
   ],
   "source": [
    "a=[1,2,3]\n",
    "b=[4,5,6]\n",
    "a+b"
   ]
  },
  {
   "cell_type": "markdown",
   "metadata": {},
   "source": [
    "```It will concat instead of addition```"
   ]
  },
  {
   "cell_type": "code",
   "execution_count": 5,
   "metadata": {},
   "outputs": [],
   "source": [
    "d=[12,34,12]\n",
    "s=[5,10,7]\n",
    "dist=np.array(d)\n",
    "speed=np.array(s)"
   ]
  },
  {
   "cell_type": "code",
   "execution_count": 6,
   "metadata": {},
   "outputs": [],
   "source": [
    "time=dist/speed"
   ]
  },
  {
   "cell_type": "code",
   "execution_count": 7,
   "metadata": {},
   "outputs": [
    {
     "data": {
      "text/plain": [
       "array([2.4       , 3.4       , 1.71428571])"
      ]
     },
     "execution_count": 7,
     "metadata": {},
     "output_type": "execute_result"
    }
   ],
   "source": [
    "time"
   ]
  },
  {
   "cell_type": "code",
   "execution_count": 8,
   "metadata": {},
   "outputs": [
    {
     "data": {
      "text/plain": [
       "(3,)"
      ]
     },
     "execution_count": 8,
     "metadata": {},
     "output_type": "execute_result"
    },
    {
     "data": {
      "text/plain": [
       "3"
      ]
     },
     "execution_count": 8,
     "metadata": {},
     "output_type": "execute_result"
    },
    {
     "data": {
      "text/plain": [
       "1"
      ]
     },
     "execution_count": 8,
     "metadata": {},
     "output_type": "execute_result"
    },
    {
     "data": {
      "text/plain": [
       "3"
      ]
     },
     "execution_count": 8,
     "metadata": {},
     "output_type": "execute_result"
    },
    {
     "data": {
      "text/plain": [
       "dtype('float64')"
      ]
     },
     "execution_count": 8,
     "metadata": {},
     "output_type": "execute_result"
    },
    {
     "data": {
      "text/plain": [
       "'float64'"
      ]
     },
     "execution_count": 8,
     "metadata": {},
     "output_type": "execute_result"
    },
    {
     "data": {
      "text/plain": [
       "array([2, 3, 1])"
      ]
     },
     "execution_count": 8,
     "metadata": {},
     "output_type": "execute_result"
    },
    {
     "data": {
      "text/plain": [
       "dtype('int32')"
      ]
     },
     "execution_count": 8,
     "metadata": {},
     "output_type": "execute_result"
    }
   ],
   "source": [
    "time.shape\n",
    "len(time)\n",
    "time.ndim # shows dimention of array\n",
    "time.size\n",
    "time.dtype\n",
    "time.dtype.name\n",
    "time.astype(int) # convert to int\n",
    "time1=time.astype(int)\n",
    "time1.dtype"
   ]
  },
  {
   "cell_type": "code",
   "execution_count": 9,
   "metadata": {},
   "outputs": [],
   "source": [
    "c= np.array(np.arange(10))"
   ]
  },
  {
   "cell_type": "code",
   "execution_count": 10,
   "metadata": {},
   "outputs": [
    {
     "data": {
      "text/plain": [
       "array([0, 1, 2, 3, 4, 5, 6, 7, 8, 9])"
      ]
     },
     "execution_count": 10,
     "metadata": {},
     "output_type": "execute_result"
    }
   ],
   "source": [
    "c"
   ]
  },
  {
   "cell_type": "code",
   "execution_count": 11,
   "metadata": {},
   "outputs": [],
   "source": [
    "anarray=np.array(np.arange(5,61,5))"
   ]
  },
  {
   "cell_type": "code",
   "execution_count": 12,
   "metadata": {},
   "outputs": [
    {
     "data": {
      "text/plain": [
       "array([ 5, 10, 15, 20, 25, 30, 35, 40, 45, 50, 55, 60])"
      ]
     },
     "execution_count": 12,
     "metadata": {},
     "output_type": "execute_result"
    }
   ],
   "source": [
    "anarray"
   ]
  },
  {
   "cell_type": "code",
   "execution_count": 13,
   "metadata": {},
   "outputs": [],
   "source": [
    "anarray_reshaped=anarray.reshape(3,4)"
   ]
  },
  {
   "cell_type": "code",
   "execution_count": 14,
   "metadata": {},
   "outputs": [
    {
     "data": {
      "text/plain": [
       "array([[ 5, 10, 15, 20],\n",
       "       [25, 30, 35, 40],\n",
       "       [45, 50, 55, 60]])"
      ]
     },
     "execution_count": 14,
     "metadata": {},
     "output_type": "execute_result"
    }
   ],
   "source": [
    "anarray_reshaped"
   ]
  },
  {
   "cell_type": "code",
   "execution_count": 15,
   "metadata": {},
   "outputs": [
    {
     "data": {
      "text/plain": [
       "(3, 4)"
      ]
     },
     "execution_count": 15,
     "metadata": {},
     "output_type": "execute_result"
    },
    {
     "data": {
      "text/plain": [
       "12"
      ]
     },
     "execution_count": 15,
     "metadata": {},
     "output_type": "execute_result"
    },
    {
     "data": {
      "text/plain": [
       "dtype('int32')"
      ]
     },
     "execution_count": 15,
     "metadata": {},
     "output_type": "execute_result"
    },
    {
     "data": {
      "text/plain": [
       "60"
      ]
     },
     "execution_count": 15,
     "metadata": {},
     "output_type": "execute_result"
    },
    {
     "data": {
      "text/plain": [
       "5"
      ]
     },
     "execution_count": 15,
     "metadata": {},
     "output_type": "execute_result"
    },
    {
     "data": {
      "text/plain": [
       "32.5"
      ]
     },
     "execution_count": 15,
     "metadata": {},
     "output_type": "execute_result"
    },
    {
     "data": {
      "text/plain": [
       "2"
      ]
     },
     "execution_count": 15,
     "metadata": {},
     "output_type": "execute_result"
    }
   ],
   "source": [
    "anarray_reshaped.shape\n",
    "anarray_reshaped.size\n",
    "anarray_reshaped.dtype\n",
    "anarray_reshaped.max()\n",
    "anarray_reshaped.min()\n",
    "anarray_reshaped.mean()\n",
    "anarray_reshaped.ndim # it shows dimention of the array"
   ]
  },
  {
   "cell_type": "code",
   "execution_count": 16,
   "metadata": {},
   "outputs": [],
   "source": [
    "onemorearray=np.linspace(1,100,25) # create array 25 equal part"
   ]
  },
  {
   "cell_type": "code",
   "execution_count": 17,
   "metadata": {},
   "outputs": [
    {
     "data": {
      "text/plain": [
       "array([  1.   ,   5.125,   9.25 ,  13.375,  17.5  ,  21.625,  25.75 ,\n",
       "        29.875,  34.   ,  38.125,  42.25 ,  46.375,  50.5  ,  54.625,\n",
       "        58.75 ,  62.875,  67.   ,  71.125,  75.25 ,  79.375,  83.5  ,\n",
       "        87.625,  91.75 ,  95.875, 100.   ])"
      ]
     },
     "execution_count": 17,
     "metadata": {},
     "output_type": "execute_result"
    }
   ],
   "source": [
    "onemorearray"
   ]
  },
  {
   "cell_type": "code",
   "execution_count": 18,
   "metadata": {},
   "outputs": [
    {
     "name": "stdout",
     "output_type": "stream",
     "text": [
      "[  1.     5.12   9.25  13.38  17.5   21.62  25.75  29.88  34.    38.12\n",
      "  42.25  46.38  50.5   54.62  58.75  62.88  67.    71.12  75.25  79.38\n",
      "  83.5   87.62  91.75  95.88 100.  ]\n"
     ]
    }
   ],
   "source": [
    "print(np.round(onemorearray,2))"
   ]
  },
  {
   "cell_type": "code",
   "execution_count": 19,
   "metadata": {},
   "outputs": [
    {
     "data": {
      "text/plain": [
       "array([[0., 0., 0., 0., 0.],\n",
       "       [0., 0., 0., 0., 0.]])"
      ]
     },
     "execution_count": 19,
     "metadata": {},
     "output_type": "execute_result"
    }
   ],
   "source": [
    "np.zeros(10).reshape(2,5)# we are created array of 10 zeroes shape it to 2/5"
   ]
  },
  {
   "cell_type": "code",
   "execution_count": 20,
   "metadata": {},
   "outputs": [],
   "source": [
    "onemorearray_transposed=onemorearray.T"
   ]
  },
  {
   "cell_type": "code",
   "execution_count": 21,
   "metadata": {},
   "outputs": [
    {
     "data": {
      "text/plain": [
       "array([  1.   ,   5.125,   9.25 ,  13.375,  17.5  ,  21.625,  25.75 ,\n",
       "        29.875,  34.   ,  38.125,  42.25 ,  46.375,  50.5  ,  54.625,\n",
       "        58.75 ,  62.875,  67.   ,  71.125,  75.25 ,  79.375,  83.5  ,\n",
       "        87.625,  91.75 ,  95.875, 100.   ])"
      ]
     },
     "execution_count": 21,
     "metadata": {},
     "output_type": "execute_result"
    }
   ],
   "source": [
    "onemorearray_transposed"
   ]
  },
  {
   "cell_type": "code",
   "execution_count": 22,
   "metadata": {},
   "outputs": [],
   "source": [
    "#Logical/boolean comparison"
   ]
  },
  {
   "cell_type": "code",
   "execution_count": 23,
   "metadata": {},
   "outputs": [
    {
     "data": {
      "text/plain": [
       "13"
      ]
     },
     "execution_count": 23,
     "metadata": {},
     "output_type": "execute_result"
    }
   ],
   "source": [
    "(onemorearray>=50).sum()"
   ]
  },
  {
   "cell_type": "code",
   "execution_count": 39,
   "metadata": {},
   "outputs": [],
   "source": [
    "array1=np.round(np.random.random(3).reshape(3,1),2)"
   ]
  },
  {
   "cell_type": "code",
   "execution_count": 40,
   "metadata": {},
   "outputs": [
    {
     "data": {
      "text/plain": [
       "array([[0.6 , 0.48, 0.46, 0.28, 0.07],\n",
       "       [0.6 , 0.13, 0.37, 0.6 , 0.63],\n",
       "       [0.59, 0.22, 0.17, 0.2 , 0.92]])"
      ]
     },
     "execution_count": 40,
     "metadata": {},
     "output_type": "execute_result"
    }
   ],
   "source": [
    "array2=np.round(np.random.random(15).reshape(3,5),2)\n",
    "array2"
   ]
  },
  {
   "cell_type": "code",
   "execution_count": 41,
   "metadata": {},
   "outputs": [
    {
     "data": {
      "text/plain": [
       "array([[0.09],\n",
       "       [0.38],\n",
       "       [0.61]])"
      ]
     },
     "execution_count": 41,
     "metadata": {},
     "output_type": "execute_result"
    },
    {
     "data": {
      "text/plain": [
       "array([[0.6 , 0.48, 0.46, 0.28, 0.07],\n",
       "       [0.6 , 0.13, 0.37, 0.6 , 0.63],\n",
       "       [0.59, 0.22, 0.17, 0.2 , 0.92]])"
      ]
     },
     "execution_count": 41,
     "metadata": {},
     "output_type": "execute_result"
    }
   ],
   "source": [
    "array1\n",
    "array2"
   ]
  },
  {
   "cell_type": "code",
   "execution_count": 42,
   "metadata": {},
   "outputs": [
    {
     "data": {
      "text/plain": [
       "0.92"
      ]
     },
     "execution_count": 42,
     "metadata": {},
     "output_type": "execute_result"
    },
    {
     "data": {
      "text/plain": [
       "0.07"
      ]
     },
     "execution_count": 42,
     "metadata": {},
     "output_type": "execute_result"
    }
   ],
   "source": [
    "array2.max()\n",
    "array2.min()"
   ]
  },
  {
   "cell_type": "code",
   "execution_count": 43,
   "metadata": {},
   "outputs": [
    {
     "data": {
      "text/plain": [
       "0.23165683432372308"
      ]
     },
     "execution_count": 43,
     "metadata": {},
     "output_type": "execute_result"
    }
   ],
   "source": [
    "array2.std()"
   ]
  },
  {
   "cell_type": "code",
   "execution_count": 44,
   "metadata": {},
   "outputs": [
    {
     "data": {
      "text/plain": [
       "array([0.6 , 1.08, 1.54, 1.82, 1.89, 2.49, 2.62, 2.99, 3.59, 4.22, 4.81,\n",
       "       5.03, 5.2 , 5.4 , 6.32])"
      ]
     },
     "execution_count": 44,
     "metadata": {},
     "output_type": "execute_result"
    },
    {
     "data": {
      "text/plain": [
       "array([0.6 , 0.48, 0.46, 0.28, 0.07, 0.6 , 0.13, 0.37, 0.6 , 0.63, 0.59,\n",
       "       0.22, 0.17, 0.2 , 0.92])"
      ]
     },
     "execution_count": 44,
     "metadata": {},
     "output_type": "execute_result"
    },
    {
     "data": {
      "text/plain": [
       "array([0.6 , 0.48, 0.46, 0.28, 0.07, 0.6 , 0.13, 0.37, 0.6 , 0.63, 0.59,\n",
       "       0.22, 0.17, 0.2 , 0.92])"
      ]
     },
     "execution_count": 44,
     "metadata": {},
     "output_type": "execute_result"
    }
   ],
   "source": [
    "array2.cumsum()\n",
    "array2.flatten()\n",
    "array2.ravel()"
   ]
  },
  {
   "cell_type": "code",
   "execution_count": 45,
   "metadata": {},
   "outputs": [
    {
     "data": {
      "text/plain": [
       "array([[0.09],\n",
       "       [0.38],\n",
       "       [0.61]])"
      ]
     },
     "execution_count": 45,
     "metadata": {},
     "output_type": "execute_result"
    }
   ],
   "source": [
    "array1"
   ]
  },
  {
   "cell_type": "code",
   "execution_count": 46,
   "metadata": {},
   "outputs": [
    {
     "data": {
      "text/plain": [
       "array([[0.6 , 0.48, 0.46, 0.28, 0.07],\n",
       "       [0.6 , 0.13, 0.37, 0.6 , 0.63],\n",
       "       [0.59, 0.22, 0.17, 0.2 , 0.92]])"
      ]
     },
     "execution_count": 46,
     "metadata": {},
     "output_type": "execute_result"
    }
   ],
   "source": [
    "array2"
   ]
  },
  {
   "cell_type": "markdown",
   "metadata": {},
   "source": [
    "**This called broad casting**"
   ]
  },
  {
   "cell_type": "code",
   "execution_count": 47,
   "metadata": {},
   "outputs": [],
   "source": [
    "array3=array1+array2"
   ]
  },
  {
   "cell_type": "code",
   "execution_count": 48,
   "metadata": {},
   "outputs": [
    {
     "data": {
      "text/plain": [
       "array([[0.69, 0.57, 0.55, 0.37, 0.16],\n",
       "       [0.98, 0.51, 0.75, 0.98, 1.01],\n",
       "       [1.2 , 0.83, 0.78, 0.81, 1.53]])"
      ]
     },
     "execution_count": 48,
     "metadata": {},
     "output_type": "execute_result"
    }
   ],
   "source": [
    "array3"
   ]
  },
  {
   "cell_type": "code",
   "execution_count": 49,
   "metadata": {},
   "outputs": [],
   "source": [
    "array4=array3-array2"
   ]
  },
  {
   "cell_type": "code",
   "execution_count": 50,
   "metadata": {},
   "outputs": [
    {
     "data": {
      "text/plain": [
       "array([[0.09, 0.09, 0.09, 0.09, 0.09],\n",
       "       [0.38, 0.38, 0.38, 0.38, 0.38],\n",
       "       [0.61, 0.61, 0.61, 0.61, 0.61]])"
      ]
     },
     "execution_count": 50,
     "metadata": {},
     "output_type": "execute_result"
    }
   ],
   "source": [
    "array4"
   ]
  },
  {
   "cell_type": "code",
   "execution_count": 51,
   "metadata": {},
   "outputs": [],
   "source": [
    "e=np.round((np.random.random(5).reshape(1,5)),2)"
   ]
  },
  {
   "cell_type": "code",
   "execution_count": 52,
   "metadata": {},
   "outputs": [
    {
     "data": {
      "text/plain": [
       "array([[0.56, 0.39, 0.59, 0.64, 0.28]])"
      ]
     },
     "execution_count": 52,
     "metadata": {},
     "output_type": "execute_result"
    }
   ],
   "source": [
    "e"
   ]
  },
  {
   "cell_type": "code",
   "execution_count": 55,
   "metadata": {},
   "outputs": [],
   "source": [
    "a=array1*array2"
   ]
  },
  {
   "cell_type": "code",
   "execution_count": 56,
   "metadata": {},
   "outputs": [
    {
     "data": {
      "text/plain": [
       "array([[0.054 , 0.0432, 0.0414, 0.0252, 0.0063],\n",
       "       [0.228 , 0.0494, 0.1406, 0.228 , 0.2394],\n",
       "       [0.3599, 0.1342, 0.1037, 0.122 , 0.5612]])"
      ]
     },
     "execution_count": 56,
     "metadata": {},
     "output_type": "execute_result"
    }
   ],
   "source": [
    "a"
   ]
  },
  {
   "cell_type": "code",
   "execution_count": 57,
   "metadata": {},
   "outputs": [],
   "source": [
    "b=array1**array2"
   ]
  },
  {
   "cell_type": "code",
   "execution_count": 58,
   "metadata": {},
   "outputs": [
    {
     "data": {
      "text/plain": [
       "array([[0.23580093, 0.31480122, 0.33033269, 0.50955129, 0.84488379],\n",
       "       [0.55959027, 0.8818036 , 0.69906882, 0.55959027, 0.54358025],\n",
       "       [0.74704128, 0.89695894, 0.91940333, 0.90587019, 0.63460494]])"
      ]
     },
     "execution_count": 58,
     "metadata": {},
     "output_type": "execute_result"
    }
   ],
   "source": [
    "b"
   ]
  },
  {
   "cell_type": "code",
   "execution_count": 59,
   "metadata": {},
   "outputs": [],
   "source": [
    "array2.sort()"
   ]
  },
  {
   "cell_type": "code",
   "execution_count": 60,
   "metadata": {},
   "outputs": [
    {
     "data": {
      "text/plain": [
       "array([[0.07, 0.28, 0.46, 0.48, 0.6 ],\n",
       "       [0.13, 0.37, 0.6 , 0.6 , 0.63],\n",
       "       [0.17, 0.2 , 0.22, 0.59, 0.92]])"
      ]
     },
     "execution_count": 60,
     "metadata": {},
     "output_type": "execute_result"
    }
   ],
   "source": [
    "array2"
   ]
  },
  {
   "cell_type": "code",
   "execution_count": 61,
   "metadata": {},
   "outputs": [
    {
     "data": {
      "text/plain": [
       "array([[0.07, 0.28, 0.46, 0.48, 0.6 ],\n",
       "       [0.13, 0.37, 0.6 , 0.6 , 0.63],\n",
       "       [0.17, 0.2 , 0.22, 0.59, 0.92]])"
      ]
     },
     "execution_count": 61,
     "metadata": {},
     "output_type": "execute_result"
    }
   ],
   "source": [
    "np.sort(array2)"
   ]
  },
  {
   "cell_type": "code",
   "execution_count": 62,
   "metadata": {},
   "outputs": [
    {
     "data": {
      "text/plain": [
       "array([[ True,  True, False, False, False],\n",
       "       [ True, False, False, False, False],\n",
       "       [ True,  True,  True, False, False]])"
      ]
     },
     "execution_count": 62,
     "metadata": {},
     "output_type": "execute_result"
    }
   ],
   "source": [
    "array2<0.3"
   ]
  },
  {
   "cell_type": "code",
   "execution_count": 63,
   "metadata": {},
   "outputs": [
    {
     "data": {
      "text/plain": [
       "array([[0.07, 0.2 , 0.22, 0.48, 0.6 ],\n",
       "       [0.13, 0.28, 0.46, 0.59, 0.63],\n",
       "       [0.17, 0.37, 0.6 , 0.6 , 0.92]])"
      ]
     },
     "execution_count": 63,
     "metadata": {},
     "output_type": "execute_result"
    }
   ],
   "source": [
    "np.sort(array2,axis=0) # across row its getting sorted"
   ]
  },
  {
   "cell_type": "code",
   "execution_count": 64,
   "metadata": {},
   "outputs": [
    {
     "data": {
      "text/plain": [
       "array([[0.07, 0.28, 0.46, 0.48, 0.6 ],\n",
       "       [0.13, 0.37, 0.6 , 0.6 , 0.63],\n",
       "       [0.17, 0.2 , 0.22, 0.59, 0.92]])"
      ]
     },
     "execution_count": 64,
     "metadata": {},
     "output_type": "execute_result"
    }
   ],
   "source": [
    "np.sort(array2,axis=1) # across coll its getting sorted"
   ]
  },
  {
   "cell_type": "code",
   "execution_count": 65,
   "metadata": {},
   "outputs": [
    {
     "data": {
      "text/plain": [
       "0.07"
      ]
     },
     "execution_count": 65,
     "metadata": {},
     "output_type": "execute_result"
    }
   ],
   "source": [
    "array2[0,0]"
   ]
  },
  {
   "cell_type": "code",
   "execution_count": 66,
   "metadata": {},
   "outputs": [
    {
     "data": {
      "text/plain": [
       "0.6"
      ]
     },
     "execution_count": 66,
     "metadata": {},
     "output_type": "execute_result"
    }
   ],
   "source": [
    "array2[1,2]"
   ]
  },
  {
   "cell_type": "code",
   "execution_count": 67,
   "metadata": {},
   "outputs": [
    {
     "data": {
      "text/plain": [
       "array([[0.37, 0.6 ],\n",
       "       [0.2 , 0.22]])"
      ]
     },
     "execution_count": 67,
     "metadata": {},
     "output_type": "execute_result"
    }
   ],
   "source": [
    "array2[1:3,1:3]"
   ]
  },
  {
   "cell_type": "code",
   "execution_count": 68,
   "metadata": {},
   "outputs": [
    {
     "data": {
      "text/plain": [
       "array([[0.07, 0.28, 0.46, 0.48, 0.6 ],\n",
       "       [0.13, 0.37, 0.6 , 0.6 , 0.63],\n",
       "       [0.17, 0.2 , 0.22, 0.59, 0.92]])"
      ]
     },
     "execution_count": 68,
     "metadata": {},
     "output_type": "execute_result"
    }
   ],
   "source": [
    "array2"
   ]
  },
  {
   "cell_type": "code",
   "execution_count": 69,
   "metadata": {},
   "outputs": [
    {
     "data": {
      "text/plain": [
       "array([0.07, 0.35, 0.81, 1.29, 1.89, 2.02, 2.39, 2.99, 3.59, 4.22, 4.39,\n",
       "       4.59, 4.81, 5.4 , 6.32])"
      ]
     },
     "execution_count": 69,
     "metadata": {},
     "output_type": "execute_result"
    }
   ],
   "source": [
    "array2.cumsum() # cummalatice sum"
   ]
  },
  {
   "cell_type": "code",
   "execution_count": 70,
   "metadata": {},
   "outputs": [
    {
     "data": {
      "text/plain": [
       "array([[0.07, 0.28, 0.46, 0.48, 0.6 ],\n",
       "       [0.2 , 0.65, 1.06, 1.08, 1.23],\n",
       "       [0.37, 0.85, 1.28, 1.67, 2.15]])"
      ]
     },
     "execution_count": 70,
     "metadata": {},
     "output_type": "execute_result"
    },
    {
     "data": {
      "text/plain": [
       "array([[0.07, 0.35, 0.81, 1.29, 1.89],\n",
       "       [0.13, 0.5 , 1.1 , 1.7 , 2.33],\n",
       "       [0.17, 0.37, 0.59, 1.18, 2.1 ]])"
      ]
     },
     "execution_count": 70,
     "metadata": {},
     "output_type": "execute_result"
    }
   ],
   "source": [
    "array2.cumsum(axis=0) # accross row\n",
    "array2.cumsum(axis=1) # accross col"
   ]
  },
  {
   "cell_type": "code",
   "execution_count": 71,
   "metadata": {},
   "outputs": [
    {
     "data": {
      "text/plain": [
       "array([[0.35, 0.13, 0.64, 0.14],\n",
       "       [0.68, 0.9 , 0.88, 0.42],\n",
       "       [0.73, 0.21, 0.88, 0.42],\n",
       "       [0.56, 0.06, 0.11, 0.21],\n",
       "       [0.83, 0.17, 0.86, 0.98],\n",
       "       [0.27, 0.38, 0.2 , 0.15],\n",
       "       [0.4 , 0.61, 0.24, 0.83],\n",
       "       [0.9 , 0.85, 0.74, 0.34],\n",
       "       [0.97, 0.67, 0.12, 0.32],\n",
       "       [0.2 , 0.82, 0.06, 0.31],\n",
       "       [0.01, 0.92, 0.61, 0.27],\n",
       "       [0.16, 0.3 , 0.11, 0.93],\n",
       "       [0.95, 0.78, 0.05, 0.35],\n",
       "       [0.84, 0.6 , 0.2 , 0.77],\n",
       "       [0.27, 0.98, 0.29, 1.  ],\n",
       "       [0.96, 0.55, 0.67, 0.47]])"
      ]
     },
     "execution_count": 71,
     "metadata": {},
     "output_type": "execute_result"
    }
   ],
   "source": [
    "indexing=np.round(np.random.random(64).reshape(16,4),2)\n",
    "indexing"
   ]
  },
  {
   "cell_type": "markdown",
   "metadata": {},
   "source": [
    "**Indexing and linespacing revisited**"
   ]
  },
  {
   "cell_type": "markdown",
   "metadata": {},
   "source": [
    "<img src=\"F:\\\\UPX_TechM\\\\Data Analytic\\\\Practicals\\\\Session\\\\Index.jpg\"></img>"
   ]
  },
  {
   "cell_type": "code",
   "execution_count": 72,
   "metadata": {},
   "outputs": [
    {
     "data": {
      "text/plain": [
       "array([0.35, 0.13, 0.64, 0.14])"
      ]
     },
     "execution_count": 72,
     "metadata": {},
     "output_type": "execute_result"
    },
    {
     "data": {
      "text/plain": [
       "array([[0.35, 0.13, 0.64, 0.14],\n",
       "       [0.68, 0.9 , 0.88, 0.42],\n",
       "       [0.73, 0.21, 0.88, 0.42],\n",
       "       [0.56, 0.06, 0.11, 0.21],\n",
       "       [0.83, 0.17, 0.86, 0.98],\n",
       "       [0.27, 0.38, 0.2 , 0.15],\n",
       "       [0.4 , 0.61, 0.24, 0.83],\n",
       "       [0.9 , 0.85, 0.74, 0.34],\n",
       "       [0.97, 0.67, 0.12, 0.32],\n",
       "       [0.2 , 0.82, 0.06, 0.31],\n",
       "       [0.01, 0.92, 0.61, 0.27],\n",
       "       [0.16, 0.3 , 0.11, 0.93],\n",
       "       [0.95, 0.78, 0.05, 0.35],\n",
       "       [0.84, 0.6 , 0.2 , 0.77],\n",
       "       [0.27, 0.98, 0.29, 1.  ],\n",
       "       [0.96, 0.55, 0.67, 0.47]])"
      ]
     },
     "execution_count": 72,
     "metadata": {},
     "output_type": "execute_result"
    }
   ],
   "source": [
    "indexing[0,0:]\n",
    "indexing[:,0:6]"
   ]
  },
  {
   "cell_type": "markdown",
   "metadata": {},
   "source": []
  },
  {
   "cell_type": "code",
   "execution_count": 73,
   "metadata": {},
   "outputs": [],
   "source": [
    "from matplotlib import pyplot as py"
   ]
  },
  {
   "cell_type": "code",
   "execution_count": 74,
   "metadata": {},
   "outputs": [],
   "source": [
    "sin_indexing=np.sin(indexing)"
   ]
  },
  {
   "cell_type": "code",
   "execution_count": 75,
   "metadata": {},
   "outputs": [
    {
     "data": {
      "text/plain": [
       "array([[0.34289781, 0.12963414, 0.59719544, 0.13954311],\n",
       "       [0.62879302, 0.78332691, 0.77073888, 0.40776045],\n",
       "       [0.66686964, 0.2084599 , 0.77073888, 0.40776045],\n",
       "       [0.5311862 , 0.05996401, 0.1097783 , 0.2084599 ],\n",
       "       [0.73793137, 0.16918235, 0.75784256, 0.83049737],\n",
       "       [0.26673144, 0.37092047, 0.19866933, 0.14943813],\n",
       "       [0.38941834, 0.57286746, 0.23770263, 0.73793137],\n",
       "       [0.78332691, 0.75128041, 0.67428791, 0.33348709],\n",
       "       [0.82488571, 0.62098599, 0.11971221, 0.31456656],\n",
       "       [0.19866933, 0.73114583, 0.05996401, 0.30505864],\n",
       "       [0.00999983, 0.79560162, 0.57286746, 0.26673144],\n",
       "       [0.15931821, 0.29552021, 0.1097783 , 0.80161994],\n",
       "       [0.8134155 , 0.70327942, 0.04997917, 0.34289781],\n",
       "       [0.74464312, 0.56464247, 0.19866933, 0.69613524],\n",
       "       [0.26673144, 0.83049737, 0.28595223, 0.84147098],\n",
       "       [0.81919157, 0.52268723, 0.62098599, 0.45288629]])"
      ]
     },
     "execution_count": 75,
     "metadata": {},
     "output_type": "execute_result"
    }
   ],
   "source": [
    "sin_indexing"
   ]
  },
  {
   "cell_type": "markdown",
   "metadata": {},
   "source": [
    "**Pandas**\n",
    "```\n",
    "Sit on top of numpy\n",
    "```\n",
    "```\n",
    "It has tabular struc\n",
    "```\n",
    "```\n",
    "data mani, clean, merging, pivot anything to do with data\n",
    "```\n"
   ]
  },
  {
   "cell_type": "code",
   "execution_count": 76,
   "metadata": {},
   "outputs": [],
   "source": [
    "import pandas as pd"
   ]
  },
  {
   "cell_type": "code",
   "execution_count": 81,
   "metadata": {},
   "outputs": [],
   "source": [
    "emp=pd.read_csv(Dataset+\"\\\\employees.csv\")"
   ]
  },
  {
   "cell_type": "code",
   "execution_count": 82,
   "metadata": {},
   "outputs": [
    {
     "data": {
      "text/html": [
       "<div>\n",
       "<style scoped>\n",
       "    .dataframe tbody tr th:only-of-type {\n",
       "        vertical-align: middle;\n",
       "    }\n",
       "\n",
       "    .dataframe tbody tr th {\n",
       "        vertical-align: top;\n",
       "    }\n",
       "\n",
       "    .dataframe thead th {\n",
       "        text-align: right;\n",
       "    }\n",
       "</style>\n",
       "<table border=\"1\" class=\"dataframe\">\n",
       "  <thead>\n",
       "    <tr style=\"text-align: right;\">\n",
       "      <th></th>\n",
       "      <th>Emp ID</th>\n",
       "      <th>Name Prefix</th>\n",
       "      <th>First Name</th>\n",
       "      <th>Middle Initial</th>\n",
       "      <th>Last Name</th>\n",
       "      <th>Gender</th>\n",
       "      <th>E Mail</th>\n",
       "      <th>Father's Name</th>\n",
       "      <th>Mother's Name</th>\n",
       "      <th>Mother's Maiden Name</th>\n",
       "      <th>...</th>\n",
       "      <th>SSN</th>\n",
       "      <th>Phone No.</th>\n",
       "      <th>Place Name</th>\n",
       "      <th>County</th>\n",
       "      <th>City</th>\n",
       "      <th>State</th>\n",
       "      <th>Zip</th>\n",
       "      <th>Region</th>\n",
       "      <th>User Name</th>\n",
       "      <th>Password</th>\n",
       "    </tr>\n",
       "  </thead>\n",
       "  <tbody>\n",
       "    <tr>\n",
       "      <th>0</th>\n",
       "      <td>677509</td>\n",
       "      <td>Drs.</td>\n",
       "      <td>Lois</td>\n",
       "      <td>H</td>\n",
       "      <td>Walker</td>\n",
       "      <td>F</td>\n",
       "      <td>lois.walker@hotmail.com</td>\n",
       "      <td>Donald Walker</td>\n",
       "      <td>Helen Walker</td>\n",
       "      <td>Lewis</td>\n",
       "      <td>...</td>\n",
       "      <td>467-99-4677</td>\n",
       "      <td>303-572-8492</td>\n",
       "      <td>Denver</td>\n",
       "      <td>Denver</td>\n",
       "      <td>Denver</td>\n",
       "      <td>CO</td>\n",
       "      <td>80224</td>\n",
       "      <td>West</td>\n",
       "      <td>lhwalker</td>\n",
       "      <td>DCa}.T}X:v?NP</td>\n",
       "    </tr>\n",
       "    <tr>\n",
       "      <th>1</th>\n",
       "      <td>940761</td>\n",
       "      <td>Ms.</td>\n",
       "      <td>Brenda</td>\n",
       "      <td>S</td>\n",
       "      <td>Robinson</td>\n",
       "      <td>F</td>\n",
       "      <td>brenda.robinson@gmail.com</td>\n",
       "      <td>Raymond Robinson</td>\n",
       "      <td>Judy Robinson</td>\n",
       "      <td>Perry</td>\n",
       "      <td>...</td>\n",
       "      <td>537-71-4566</td>\n",
       "      <td>225-945-4954</td>\n",
       "      <td>Stonewall</td>\n",
       "      <td>De Soto</td>\n",
       "      <td>Stonewall</td>\n",
       "      <td>LA</td>\n",
       "      <td>71078</td>\n",
       "      <td>South</td>\n",
       "      <td>bsrobinson</td>\n",
       "      <td>TCo\\j#Zg;SQ~o</td>\n",
       "    </tr>\n",
       "    <tr>\n",
       "      <th>2</th>\n",
       "      <td>428945</td>\n",
       "      <td>Dr.</td>\n",
       "      <td>Joe</td>\n",
       "      <td>W</td>\n",
       "      <td>Robinson</td>\n",
       "      <td>M</td>\n",
       "      <td>joe.robinson@gmail.com</td>\n",
       "      <td>Scott Robinson</td>\n",
       "      <td>Stephanie Robinson</td>\n",
       "      <td>Taylor</td>\n",
       "      <td>...</td>\n",
       "      <td>025-92-3584</td>\n",
       "      <td>219-904-2161</td>\n",
       "      <td>Michigantown</td>\n",
       "      <td>Clinton</td>\n",
       "      <td>Michigantown</td>\n",
       "      <td>IN</td>\n",
       "      <td>46057</td>\n",
       "      <td>Midwest</td>\n",
       "      <td>jwrobinson</td>\n",
       "      <td>GO4$J8MiEh[A</td>\n",
       "    </tr>\n",
       "    <tr>\n",
       "      <th>3</th>\n",
       "      <td>408351</td>\n",
       "      <td>Drs.</td>\n",
       "      <td>Diane</td>\n",
       "      <td>I</td>\n",
       "      <td>Evans</td>\n",
       "      <td>F</td>\n",
       "      <td>diane.evans@yahoo.com</td>\n",
       "      <td>Jason Evans</td>\n",
       "      <td>Michelle Evans</td>\n",
       "      <td>Allen</td>\n",
       "      <td>...</td>\n",
       "      <td>314-35-9851</td>\n",
       "      <td>215-793-6791</td>\n",
       "      <td>Hydetown</td>\n",
       "      <td>Crawford</td>\n",
       "      <td>Hydetown</td>\n",
       "      <td>PA</td>\n",
       "      <td>16328</td>\n",
       "      <td>Northeast</td>\n",
       "      <td>dievans</td>\n",
       "      <td>0gGRtp1HfL&lt;r5</td>\n",
       "    </tr>\n",
       "    <tr>\n",
       "      <th>4</th>\n",
       "      <td>193819</td>\n",
       "      <td>Mr.</td>\n",
       "      <td>Benjamin</td>\n",
       "      <td>R</td>\n",
       "      <td>Russell</td>\n",
       "      <td>M</td>\n",
       "      <td>benjamin.russell@charter.net</td>\n",
       "      <td>Gregory Russell</td>\n",
       "      <td>Elizabeth Russell</td>\n",
       "      <td>Nelson</td>\n",
       "      <td>...</td>\n",
       "      <td>121-98-7248</td>\n",
       "      <td>262-404-2252</td>\n",
       "      <td>Fremont</td>\n",
       "      <td>Waupaca</td>\n",
       "      <td>Fremont</td>\n",
       "      <td>WI</td>\n",
       "      <td>54940</td>\n",
       "      <td>Midwest</td>\n",
       "      <td>brrussell</td>\n",
       "      <td>Rd&lt;Y8cp!@R;*%F</td>\n",
       "    </tr>\n",
       "  </tbody>\n",
       "</table>\n",
       "<p>5 rows × 37 columns</p>\n",
       "</div>"
      ],
      "text/plain": [
       "   Emp ID Name Prefix First Name Middle Initial Last Name Gender  \\\n",
       "0  677509        Drs.       Lois              H    Walker      F   \n",
       "1  940761         Ms.     Brenda              S  Robinson      F   \n",
       "2  428945         Dr.        Joe              W  Robinson      M   \n",
       "3  408351        Drs.      Diane              I     Evans      F   \n",
       "4  193819         Mr.   Benjamin              R   Russell      M   \n",
       "\n",
       "                         E Mail     Father's Name       Mother's Name  \\\n",
       "0       lois.walker@hotmail.com     Donald Walker        Helen Walker   \n",
       "1     brenda.robinson@gmail.com  Raymond Robinson       Judy Robinson   \n",
       "2        joe.robinson@gmail.com    Scott Robinson  Stephanie Robinson   \n",
       "3         diane.evans@yahoo.com       Jason Evans      Michelle Evans   \n",
       "4  benjamin.russell@charter.net   Gregory Russell   Elizabeth Russell   \n",
       "\n",
       "  Mother's Maiden Name       ...                SSN    Phone No.   \\\n",
       "0                Lewis       ...        467-99-4677  303-572-8492   \n",
       "1                Perry       ...        537-71-4566  225-945-4954   \n",
       "2               Taylor       ...        025-92-3584  219-904-2161   \n",
       "3                Allen       ...        314-35-9851  215-793-6791   \n",
       "4               Nelson       ...        121-98-7248  262-404-2252   \n",
       "\n",
       "     Place Name    County          City State    Zip     Region   User Name  \\\n",
       "0        Denver    Denver        Denver    CO  80224       West    lhwalker   \n",
       "1     Stonewall   De Soto     Stonewall    LA  71078      South  bsrobinson   \n",
       "2  Michigantown   Clinton  Michigantown    IN  46057    Midwest  jwrobinson   \n",
       "3      Hydetown  Crawford      Hydetown    PA  16328  Northeast     dievans   \n",
       "4       Fremont   Waupaca       Fremont    WI  54940    Midwest   brrussell   \n",
       "\n",
       "         Password  \n",
       "0   DCa}.T}X:v?NP  \n",
       "1   TCo\\j#Zg;SQ~o  \n",
       "2    GO4$J8MiEh[A  \n",
       "3   0gGRtp1HfL<r5  \n",
       "4  Rd<Y8cp!@R;*%F  \n",
       "\n",
       "[5 rows x 37 columns]"
      ]
     },
     "execution_count": 82,
     "metadata": {},
     "output_type": "execute_result"
    }
   ],
   "source": [
    "emp.head()# top 5 rows"
   ]
  },
  {
   "cell_type": "code",
   "execution_count": 83,
   "metadata": {},
   "outputs": [
    {
     "data": {
      "text/html": [
       "<div>\n",
       "<style scoped>\n",
       "    .dataframe tbody tr th:only-of-type {\n",
       "        vertical-align: middle;\n",
       "    }\n",
       "\n",
       "    .dataframe tbody tr th {\n",
       "        vertical-align: top;\n",
       "    }\n",
       "\n",
       "    .dataframe thead th {\n",
       "        text-align: right;\n",
       "    }\n",
       "</style>\n",
       "<table border=\"1\" class=\"dataframe\">\n",
       "  <thead>\n",
       "    <tr style=\"text-align: right;\">\n",
       "      <th></th>\n",
       "      <th>Emp ID</th>\n",
       "      <th>Name Prefix</th>\n",
       "      <th>First Name</th>\n",
       "      <th>Middle Initial</th>\n",
       "      <th>Last Name</th>\n",
       "      <th>Gender</th>\n",
       "      <th>E Mail</th>\n",
       "      <th>Father's Name</th>\n",
       "      <th>Mother's Name</th>\n",
       "      <th>Mother's Maiden Name</th>\n",
       "      <th>...</th>\n",
       "      <th>SSN</th>\n",
       "      <th>Phone No.</th>\n",
       "      <th>Place Name</th>\n",
       "      <th>County</th>\n",
       "      <th>City</th>\n",
       "      <th>State</th>\n",
       "      <th>Zip</th>\n",
       "      <th>Region</th>\n",
       "      <th>User Name</th>\n",
       "      <th>Password</th>\n",
       "    </tr>\n",
       "  </thead>\n",
       "  <tbody>\n",
       "    <tr>\n",
       "      <th>95</th>\n",
       "      <td>639892</td>\n",
       "      <td>Mr.</td>\n",
       "      <td>Jose</td>\n",
       "      <td>K</td>\n",
       "      <td>Hill</td>\n",
       "      <td>M</td>\n",
       "      <td>jose.hill@hotmail.com</td>\n",
       "      <td>Carlos Hill</td>\n",
       "      <td>Anna Hill</td>\n",
       "      <td>Hayes</td>\n",
       "      <td>...</td>\n",
       "      <td>171-86-3825</td>\n",
       "      <td>228-245-5000</td>\n",
       "      <td>Biloxi</td>\n",
       "      <td>Harrison</td>\n",
       "      <td>Biloxi</td>\n",
       "      <td>MS</td>\n",
       "      <td>39532</td>\n",
       "      <td>South</td>\n",
       "      <td>jkhill</td>\n",
       "      <td>a_!SKb6h3?w*Mad</td>\n",
       "    </tr>\n",
       "    <tr>\n",
       "      <th>96</th>\n",
       "      <td>704709</td>\n",
       "      <td>Dr.</td>\n",
       "      <td>Harold</td>\n",
       "      <td>Z</td>\n",
       "      <td>Nelson</td>\n",
       "      <td>M</td>\n",
       "      <td>harold.nelson@gmail.com</td>\n",
       "      <td>Richard Nelson</td>\n",
       "      <td>Pamela Nelson</td>\n",
       "      <td>Smith</td>\n",
       "      <td>...</td>\n",
       "      <td>456-99-2066</td>\n",
       "      <td>217-555-9216</td>\n",
       "      <td>Carol Stream</td>\n",
       "      <td>Carol Stream</td>\n",
       "      <td>Carol Stream</td>\n",
       "      <td>IL</td>\n",
       "      <td>60351</td>\n",
       "      <td>Midwest</td>\n",
       "      <td>hznelson</td>\n",
       "      <td>z/-hEz3&amp;^q5</td>\n",
       "    </tr>\n",
       "    <tr>\n",
       "      <th>97</th>\n",
       "      <td>461593</td>\n",
       "      <td>Ms.</td>\n",
       "      <td>Nicole</td>\n",
       "      <td>O</td>\n",
       "      <td>Ward</td>\n",
       "      <td>F</td>\n",
       "      <td>nicole.ward@yahoo.com</td>\n",
       "      <td>Ralph Ward</td>\n",
       "      <td>Julia Ward</td>\n",
       "      <td>Lee</td>\n",
       "      <td>...</td>\n",
       "      <td>196-84-2551</td>\n",
       "      <td>231-761-7861</td>\n",
       "      <td>Detroit</td>\n",
       "      <td>Wayne</td>\n",
       "      <td>Detroit</td>\n",
       "      <td>MI</td>\n",
       "      <td>48278</td>\n",
       "      <td>Midwest</td>\n",
       "      <td>noward</td>\n",
       "      <td>AUe6s0@:@]A3Ze</td>\n",
       "    </tr>\n",
       "    <tr>\n",
       "      <th>98</th>\n",
       "      <td>392491</td>\n",
       "      <td>Mrs.</td>\n",
       "      <td>Theresa</td>\n",
       "      <td>R</td>\n",
       "      <td>Murphy</td>\n",
       "      <td>F</td>\n",
       "      <td>theresa.murphy@gmail.com</td>\n",
       "      <td>George Murphy</td>\n",
       "      <td>Jacqueline Murphy</td>\n",
       "      <td>Peterson</td>\n",
       "      <td>...</td>\n",
       "      <td>249-99-8801</td>\n",
       "      <td>907-356-1555</td>\n",
       "      <td>Mc Grath</td>\n",
       "      <td>Yukon-Koyukuk (CA)</td>\n",
       "      <td>Mc Grath</td>\n",
       "      <td>AK</td>\n",
       "      <td>99627</td>\n",
       "      <td>West</td>\n",
       "      <td>trmurphy</td>\n",
       "      <td>V]PGw&gt;4h9</td>\n",
       "    </tr>\n",
       "    <tr>\n",
       "      <th>99</th>\n",
       "      <td>495141</td>\n",
       "      <td>Drs.</td>\n",
       "      <td>Tammy</td>\n",
       "      <td>B</td>\n",
       "      <td>Young</td>\n",
       "      <td>F</td>\n",
       "      <td>tammy.young@comcast.net</td>\n",
       "      <td>Andrew Young</td>\n",
       "      <td>Brenda Young</td>\n",
       "      <td>Robinson</td>\n",
       "      <td>...</td>\n",
       "      <td>771-02-7046</td>\n",
       "      <td>231-290-3075</td>\n",
       "      <td>Alma</td>\n",
       "      <td>Gratiot</td>\n",
       "      <td>Alma</td>\n",
       "      <td>MI</td>\n",
       "      <td>48801</td>\n",
       "      <td>Midwest</td>\n",
       "      <td>tbyoung</td>\n",
       "      <td>d6!&amp;xu12A1H^i![</td>\n",
       "    </tr>\n",
       "  </tbody>\n",
       "</table>\n",
       "<p>5 rows × 37 columns</p>\n",
       "</div>"
      ],
      "text/plain": [
       "    Emp ID Name Prefix First Name Middle Initial Last Name Gender  \\\n",
       "95  639892         Mr.       Jose              K      Hill      M   \n",
       "96  704709         Dr.     Harold              Z    Nelson      M   \n",
       "97  461593         Ms.     Nicole              O      Ward      F   \n",
       "98  392491        Mrs.    Theresa              R    Murphy      F   \n",
       "99  495141        Drs.      Tammy              B     Young      F   \n",
       "\n",
       "                      E Mail   Father's Name      Mother's Name  \\\n",
       "95     jose.hill@hotmail.com     Carlos Hill          Anna Hill   \n",
       "96   harold.nelson@gmail.com  Richard Nelson      Pamela Nelson   \n",
       "97     nicole.ward@yahoo.com      Ralph Ward         Julia Ward   \n",
       "98  theresa.murphy@gmail.com   George Murphy  Jacqueline Murphy   \n",
       "99   tammy.young@comcast.net    Andrew Young       Brenda Young   \n",
       "\n",
       "   Mother's Maiden Name       ...                 SSN    Phone No.   \\\n",
       "95                Hayes       ...         171-86-3825  228-245-5000   \n",
       "96                Smith       ...         456-99-2066  217-555-9216   \n",
       "97                  Lee       ...         196-84-2551  231-761-7861   \n",
       "98             Peterson       ...         249-99-8801  907-356-1555   \n",
       "99             Robinson       ...         771-02-7046  231-290-3075   \n",
       "\n",
       "      Place Name              County          City State    Zip   Region  \\\n",
       "95        Biloxi            Harrison        Biloxi    MS  39532    South   \n",
       "96  Carol Stream        Carol Stream  Carol Stream    IL  60351  Midwest   \n",
       "97       Detroit               Wayne       Detroit    MI  48278  Midwest   \n",
       "98      Mc Grath  Yukon-Koyukuk (CA)      Mc Grath    AK  99627     West   \n",
       "99          Alma             Gratiot          Alma    MI  48801  Midwest   \n",
       "\n",
       "    User Name         Password  \n",
       "95     jkhill  a_!SKb6h3?w*Mad  \n",
       "96   hznelson      z/-hEz3&^q5  \n",
       "97     noward   AUe6s0@:@]A3Ze  \n",
       "98   trmurphy        V]PGw>4h9  \n",
       "99    tbyoung  d6!&xu12A1H^i![  \n",
       "\n",
       "[5 rows x 37 columns]"
      ]
     },
     "execution_count": 83,
     "metadata": {},
     "output_type": "execute_result"
    }
   ],
   "source": [
    "emp.tail() #bottom 5 rows"
   ]
  },
  {
   "cell_type": "code",
   "execution_count": 84,
   "metadata": {},
   "outputs": [
    {
     "data": {
      "text/plain": [
       "pandas.core.frame.DataFrame"
      ]
     },
     "execution_count": 84,
     "metadata": {},
     "output_type": "execute_result"
    }
   ],
   "source": [
    "type(emp)"
   ]
  },
  {
   "cell_type": "code",
   "execution_count": 85,
   "metadata": {},
   "outputs": [
    {
     "data": {
      "text/html": [
       "<div>\n",
       "<style scoped>\n",
       "    .dataframe tbody tr th:only-of-type {\n",
       "        vertical-align: middle;\n",
       "    }\n",
       "\n",
       "    .dataframe tbody tr th {\n",
       "        vertical-align: top;\n",
       "    }\n",
       "\n",
       "    .dataframe thead th {\n",
       "        text-align: right;\n",
       "    }\n",
       "</style>\n",
       "<table border=\"1\" class=\"dataframe\">\n",
       "  <thead>\n",
       "    <tr style=\"text-align: right;\">\n",
       "      <th></th>\n",
       "      <th>Emp ID</th>\n",
       "      <th>Name Prefix</th>\n",
       "      <th>First Name</th>\n",
       "      <th>Middle Initial</th>\n",
       "      <th>Last Name</th>\n",
       "      <th>Gender</th>\n",
       "      <th>E Mail</th>\n",
       "      <th>Father's Name</th>\n",
       "      <th>Mother's Name</th>\n",
       "      <th>Mother's Maiden Name</th>\n",
       "      <th>...</th>\n",
       "      <th>SSN</th>\n",
       "      <th>Phone No.</th>\n",
       "      <th>Place Name</th>\n",
       "      <th>County</th>\n",
       "      <th>City</th>\n",
       "      <th>State</th>\n",
       "      <th>Zip</th>\n",
       "      <th>Region</th>\n",
       "      <th>User Name</th>\n",
       "      <th>Password</th>\n",
       "    </tr>\n",
       "  </thead>\n",
       "  <tbody>\n",
       "    <tr>\n",
       "      <th>0</th>\n",
       "      <td>677509</td>\n",
       "      <td>Drs.</td>\n",
       "      <td>Lois</td>\n",
       "      <td>H</td>\n",
       "      <td>Walker</td>\n",
       "      <td>F</td>\n",
       "      <td>lois.walker@hotmail.com</td>\n",
       "      <td>Donald Walker</td>\n",
       "      <td>Helen Walker</td>\n",
       "      <td>Lewis</td>\n",
       "      <td>...</td>\n",
       "      <td>467-99-4677</td>\n",
       "      <td>303-572-8492</td>\n",
       "      <td>Denver</td>\n",
       "      <td>Denver</td>\n",
       "      <td>Denver</td>\n",
       "      <td>CO</td>\n",
       "      <td>80224</td>\n",
       "      <td>West</td>\n",
       "      <td>lhwalker</td>\n",
       "      <td>DCa}.T}X:v?NP</td>\n",
       "    </tr>\n",
       "    <tr>\n",
       "      <th>1</th>\n",
       "      <td>940761</td>\n",
       "      <td>Ms.</td>\n",
       "      <td>Brenda</td>\n",
       "      <td>S</td>\n",
       "      <td>Robinson</td>\n",
       "      <td>F</td>\n",
       "      <td>brenda.robinson@gmail.com</td>\n",
       "      <td>Raymond Robinson</td>\n",
       "      <td>Judy Robinson</td>\n",
       "      <td>Perry</td>\n",
       "      <td>...</td>\n",
       "      <td>537-71-4566</td>\n",
       "      <td>225-945-4954</td>\n",
       "      <td>Stonewall</td>\n",
       "      <td>De Soto</td>\n",
       "      <td>Stonewall</td>\n",
       "      <td>LA</td>\n",
       "      <td>71078</td>\n",
       "      <td>South</td>\n",
       "      <td>bsrobinson</td>\n",
       "      <td>TCo\\j#Zg;SQ~o</td>\n",
       "    </tr>\n",
       "    <tr>\n",
       "      <th>2</th>\n",
       "      <td>428945</td>\n",
       "      <td>Dr.</td>\n",
       "      <td>Joe</td>\n",
       "      <td>W</td>\n",
       "      <td>Robinson</td>\n",
       "      <td>M</td>\n",
       "      <td>joe.robinson@gmail.com</td>\n",
       "      <td>Scott Robinson</td>\n",
       "      <td>Stephanie Robinson</td>\n",
       "      <td>Taylor</td>\n",
       "      <td>...</td>\n",
       "      <td>025-92-3584</td>\n",
       "      <td>219-904-2161</td>\n",
       "      <td>Michigantown</td>\n",
       "      <td>Clinton</td>\n",
       "      <td>Michigantown</td>\n",
       "      <td>IN</td>\n",
       "      <td>46057</td>\n",
       "      <td>Midwest</td>\n",
       "      <td>jwrobinson</td>\n",
       "      <td>GO4$J8MiEh[A</td>\n",
       "    </tr>\n",
       "    <tr>\n",
       "      <th>3</th>\n",
       "      <td>408351</td>\n",
       "      <td>Drs.</td>\n",
       "      <td>Diane</td>\n",
       "      <td>I</td>\n",
       "      <td>Evans</td>\n",
       "      <td>F</td>\n",
       "      <td>diane.evans@yahoo.com</td>\n",
       "      <td>Jason Evans</td>\n",
       "      <td>Michelle Evans</td>\n",
       "      <td>Allen</td>\n",
       "      <td>...</td>\n",
       "      <td>314-35-9851</td>\n",
       "      <td>215-793-6791</td>\n",
       "      <td>Hydetown</td>\n",
       "      <td>Crawford</td>\n",
       "      <td>Hydetown</td>\n",
       "      <td>PA</td>\n",
       "      <td>16328</td>\n",
       "      <td>Northeast</td>\n",
       "      <td>dievans</td>\n",
       "      <td>0gGRtp1HfL&lt;r5</td>\n",
       "    </tr>\n",
       "    <tr>\n",
       "      <th>4</th>\n",
       "      <td>193819</td>\n",
       "      <td>Mr.</td>\n",
       "      <td>Benjamin</td>\n",
       "      <td>R</td>\n",
       "      <td>Russell</td>\n",
       "      <td>M</td>\n",
       "      <td>benjamin.russell@charter.net</td>\n",
       "      <td>Gregory Russell</td>\n",
       "      <td>Elizabeth Russell</td>\n",
       "      <td>Nelson</td>\n",
       "      <td>...</td>\n",
       "      <td>121-98-7248</td>\n",
       "      <td>262-404-2252</td>\n",
       "      <td>Fremont</td>\n",
       "      <td>Waupaca</td>\n",
       "      <td>Fremont</td>\n",
       "      <td>WI</td>\n",
       "      <td>54940</td>\n",
       "      <td>Midwest</td>\n",
       "      <td>brrussell</td>\n",
       "      <td>Rd&lt;Y8cp!@R;*%F</td>\n",
       "    </tr>\n",
       "    <tr>\n",
       "      <th>5</th>\n",
       "      <td>499687</td>\n",
       "      <td>Mr.</td>\n",
       "      <td>Patrick</td>\n",
       "      <td>F</td>\n",
       "      <td>Bailey</td>\n",
       "      <td>M</td>\n",
       "      <td>patrick.bailey@aol.com</td>\n",
       "      <td>Ralph Bailey</td>\n",
       "      <td>Laura Bailey</td>\n",
       "      <td>Henderson</td>\n",
       "      <td>...</td>\n",
       "      <td>439-99-7721</td>\n",
       "      <td>319-812-6957</td>\n",
       "      <td>Macksburg</td>\n",
       "      <td>Madison</td>\n",
       "      <td>Macksburg</td>\n",
       "      <td>IA</td>\n",
       "      <td>50155</td>\n",
       "      <td>Midwest</td>\n",
       "      <td>pfbailey</td>\n",
       "      <td>K7&amp;5aY/*</td>\n",
       "    </tr>\n",
       "    <tr>\n",
       "      <th>6</th>\n",
       "      <td>539712</td>\n",
       "      <td>Ms.</td>\n",
       "      <td>Nancy</td>\n",
       "      <td>T</td>\n",
       "      <td>Baker</td>\n",
       "      <td>F</td>\n",
       "      <td>nancy.baker@bp.com</td>\n",
       "      <td>Scott Baker</td>\n",
       "      <td>Judy Baker</td>\n",
       "      <td>Thomas</td>\n",
       "      <td>...</td>\n",
       "      <td>641-29-2071</td>\n",
       "      <td>229-336-5117</td>\n",
       "      <td>Atlanta</td>\n",
       "      <td>Fulton</td>\n",
       "      <td>Atlanta</td>\n",
       "      <td>GA</td>\n",
       "      <td>30334</td>\n",
       "      <td>South</td>\n",
       "      <td>ntbaker</td>\n",
       "      <td>xJdKlAcYQhT_BE#</td>\n",
       "    </tr>\n",
       "    <tr>\n",
       "      <th>7</th>\n",
       "      <td>380086</td>\n",
       "      <td>Mrs.</td>\n",
       "      <td>Carol</td>\n",
       "      <td>V</td>\n",
       "      <td>Murphy</td>\n",
       "      <td>F</td>\n",
       "      <td>carol.murphy@gmail.com</td>\n",
       "      <td>Eugene Murphy</td>\n",
       "      <td>Katherine Murphy</td>\n",
       "      <td>Peterson</td>\n",
       "      <td>...</td>\n",
       "      <td>423-67-7023</td>\n",
       "      <td>216-336-0009</td>\n",
       "      <td>Blanchester</td>\n",
       "      <td>Clinton</td>\n",
       "      <td>Blanchester</td>\n",
       "      <td>OH</td>\n",
       "      <td>45107</td>\n",
       "      <td>Midwest</td>\n",
       "      <td>cvmurphy</td>\n",
       "      <td>Uc+VG%vuZU&lt;k</td>\n",
       "    </tr>\n",
       "    <tr>\n",
       "      <th>8</th>\n",
       "      <td>477616</td>\n",
       "      <td>Hon.</td>\n",
       "      <td>Frances</td>\n",
       "      <td>B</td>\n",
       "      <td>Young</td>\n",
       "      <td>F</td>\n",
       "      <td>frances.young@gmail.com</td>\n",
       "      <td>Fred Young</td>\n",
       "      <td>Lillian Young</td>\n",
       "      <td>Diaz</td>\n",
       "      <td>...</td>\n",
       "      <td>028-92-8912</td>\n",
       "      <td>210-819-9765</td>\n",
       "      <td>Delmita</td>\n",
       "      <td>Starr</td>\n",
       "      <td>Delmita</td>\n",
       "      <td>TX</td>\n",
       "      <td>78536</td>\n",
       "      <td>South</td>\n",
       "      <td>fbyoung</td>\n",
       "      <td>K}^USc0l7[A</td>\n",
       "    </tr>\n",
       "    <tr>\n",
       "      <th>9</th>\n",
       "      <td>162402</td>\n",
       "      <td>Hon.</td>\n",
       "      <td>Diana</td>\n",
       "      <td>T</td>\n",
       "      <td>Peterson</td>\n",
       "      <td>F</td>\n",
       "      <td>diana.peterson@hotmail.co.uk</td>\n",
       "      <td>Jonathan Peterson</td>\n",
       "      <td>Christina Peterson</td>\n",
       "      <td>Ross</td>\n",
       "      <td>...</td>\n",
       "      <td>512-33-6767</td>\n",
       "      <td>479-783-5656</td>\n",
       "      <td>Eureka Springs</td>\n",
       "      <td>Carroll</td>\n",
       "      <td>Eureka Springs</td>\n",
       "      <td>AR</td>\n",
       "      <td>72632</td>\n",
       "      <td>South</td>\n",
       "      <td>dtpeterson</td>\n",
       "      <td>3o8&gt;v&amp;tYxjyEAo</td>\n",
       "    </tr>\n",
       "  </tbody>\n",
       "</table>\n",
       "<p>10 rows × 37 columns</p>\n",
       "</div>"
      ],
      "text/plain": [
       "   Emp ID Name Prefix First Name Middle Initial Last Name Gender  \\\n",
       "0  677509        Drs.       Lois              H    Walker      F   \n",
       "1  940761         Ms.     Brenda              S  Robinson      F   \n",
       "2  428945         Dr.        Joe              W  Robinson      M   \n",
       "3  408351        Drs.      Diane              I     Evans      F   \n",
       "4  193819         Mr.   Benjamin              R   Russell      M   \n",
       "5  499687         Mr.    Patrick              F    Bailey      M   \n",
       "6  539712         Ms.      Nancy              T     Baker      F   \n",
       "7  380086        Mrs.      Carol              V    Murphy      F   \n",
       "8  477616        Hon.    Frances              B     Young      F   \n",
       "9  162402        Hon.      Diana              T  Peterson      F   \n",
       "\n",
       "                         E Mail      Father's Name       Mother's Name  \\\n",
       "0       lois.walker@hotmail.com      Donald Walker        Helen Walker   \n",
       "1     brenda.robinson@gmail.com   Raymond Robinson       Judy Robinson   \n",
       "2        joe.robinson@gmail.com     Scott Robinson  Stephanie Robinson   \n",
       "3         diane.evans@yahoo.com        Jason Evans      Michelle Evans   \n",
       "4  benjamin.russell@charter.net    Gregory Russell   Elizabeth Russell   \n",
       "5        patrick.bailey@aol.com       Ralph Bailey        Laura Bailey   \n",
       "6            nancy.baker@bp.com        Scott Baker          Judy Baker   \n",
       "7        carol.murphy@gmail.com      Eugene Murphy    Katherine Murphy   \n",
       "8       frances.young@gmail.com         Fred Young       Lillian Young   \n",
       "9  diana.peterson@hotmail.co.uk  Jonathan Peterson  Christina Peterson   \n",
       "\n",
       "  Mother's Maiden Name       ...                 SSN    Phone No.   \\\n",
       "0                Lewis       ...         467-99-4677  303-572-8492   \n",
       "1                Perry       ...         537-71-4566  225-945-4954   \n",
       "2               Taylor       ...         025-92-3584  219-904-2161   \n",
       "3                Allen       ...         314-35-9851  215-793-6791   \n",
       "4               Nelson       ...         121-98-7248  262-404-2252   \n",
       "5            Henderson       ...         439-99-7721  319-812-6957   \n",
       "6               Thomas       ...         641-29-2071  229-336-5117   \n",
       "7             Peterson       ...         423-67-7023  216-336-0009   \n",
       "8                 Diaz       ...         028-92-8912  210-819-9765   \n",
       "9                 Ross       ...         512-33-6767  479-783-5656   \n",
       "\n",
       "       Place Name    County            City State    Zip     Region  \\\n",
       "0          Denver    Denver          Denver    CO  80224       West   \n",
       "1       Stonewall   De Soto       Stonewall    LA  71078      South   \n",
       "2    Michigantown   Clinton    Michigantown    IN  46057    Midwest   \n",
       "3        Hydetown  Crawford        Hydetown    PA  16328  Northeast   \n",
       "4         Fremont   Waupaca         Fremont    WI  54940    Midwest   \n",
       "5       Macksburg   Madison       Macksburg    IA  50155    Midwest   \n",
       "6         Atlanta    Fulton         Atlanta    GA  30334      South   \n",
       "7     Blanchester   Clinton     Blanchester    OH  45107    Midwest   \n",
       "8         Delmita     Starr         Delmita    TX  78536      South   \n",
       "9  Eureka Springs   Carroll  Eureka Springs    AR  72632      South   \n",
       "\n",
       "    User Name         Password  \n",
       "0    lhwalker    DCa}.T}X:v?NP  \n",
       "1  bsrobinson    TCo\\j#Zg;SQ~o  \n",
       "2  jwrobinson     GO4$J8MiEh[A  \n",
       "3     dievans    0gGRtp1HfL<r5  \n",
       "4   brrussell   Rd<Y8cp!@R;*%F  \n",
       "5    pfbailey         K7&5aY/*  \n",
       "6     ntbaker  xJdKlAcYQhT_BE#  \n",
       "7    cvmurphy     Uc+VG%vuZU<k  \n",
       "8     fbyoung      K}^USc0l7[A  \n",
       "9  dtpeterson   3o8>v&tYxjyEAo  \n",
       "\n",
       "[10 rows x 37 columns]"
      ]
     },
     "execution_count": 85,
     "metadata": {},
     "output_type": "execute_result"
    }
   ],
   "source": [
    "emp.head(10) # top 10 rows"
   ]
  },
  {
   "cell_type": "code",
   "execution_count": 86,
   "metadata": {},
   "outputs": [
    {
     "data": {
      "text/plain": [
       "Index(['Emp ID', 'Name Prefix', 'First Name', 'Middle Initial', 'Last Name',\n",
       "       'Gender', 'E Mail', 'Father's Name', 'Mother's Name',\n",
       "       'Mother's Maiden Name', 'Date of Birth', 'Time of Birth', 'Age in Yrs.',\n",
       "       'Weight in Kgs.', 'Date of Joining', 'Quarter of Joining',\n",
       "       'Half of Joining', 'Year of Joining', 'Month of Joining',\n",
       "       'Month Name of Joining', 'Short Month', 'Day of Joining',\n",
       "       'DOW of Joining', 'Short DOW', 'Age in Company (Years)', 'Salary',\n",
       "       'Last % Hike', 'SSN', 'Phone No. ', 'Place Name', 'County', 'City',\n",
       "       'State', 'Zip', 'Region', 'User Name', 'Password'],\n",
       "      dtype='object')"
      ]
     },
     "execution_count": 86,
     "metadata": {},
     "output_type": "execute_result"
    }
   ],
   "source": [
    "emp.columns"
   ]
  },
  {
   "cell_type": "code",
   "execution_count": 87,
   "metadata": {},
   "outputs": [
    {
     "data": {
      "text/html": [
       "<div>\n",
       "<style scoped>\n",
       "    .dataframe tbody tr th:only-of-type {\n",
       "        vertical-align: middle;\n",
       "    }\n",
       "\n",
       "    .dataframe tbody tr th {\n",
       "        vertical-align: top;\n",
       "    }\n",
       "\n",
       "    .dataframe thead th {\n",
       "        text-align: right;\n",
       "    }\n",
       "</style>\n",
       "<table border=\"1\" class=\"dataframe\">\n",
       "  <thead>\n",
       "    <tr style=\"text-align: right;\">\n",
       "      <th></th>\n",
       "      <th>Emp ID</th>\n",
       "      <th>Name Prefix</th>\n",
       "      <th>First Name</th>\n",
       "      <th>Middle Initial</th>\n",
       "      <th>Last Name</th>\n",
       "      <th>Gender</th>\n",
       "      <th>E Mail</th>\n",
       "      <th>Father's Name</th>\n",
       "      <th>Mother's Name</th>\n",
       "      <th>Mother's Maiden Name</th>\n",
       "      <th>...</th>\n",
       "      <th>SSN</th>\n",
       "      <th>Phone No.</th>\n",
       "      <th>Place Name</th>\n",
       "      <th>County</th>\n",
       "      <th>City</th>\n",
       "      <th>State</th>\n",
       "      <th>Zip</th>\n",
       "      <th>Region</th>\n",
       "      <th>User Name</th>\n",
       "      <th>Password</th>\n",
       "    </tr>\n",
       "  </thead>\n",
       "  <tbody>\n",
       "    <tr>\n",
       "      <th>8</th>\n",
       "      <td>477616</td>\n",
       "      <td>Hon.</td>\n",
       "      <td>Frances</td>\n",
       "      <td>B</td>\n",
       "      <td>Young</td>\n",
       "      <td>F</td>\n",
       "      <td>frances.young@gmail.com</td>\n",
       "      <td>Fred Young</td>\n",
       "      <td>Lillian Young</td>\n",
       "      <td>Diaz</td>\n",
       "      <td>...</td>\n",
       "      <td>028-92-8912</td>\n",
       "      <td>210-819-9765</td>\n",
       "      <td>Delmita</td>\n",
       "      <td>Starr</td>\n",
       "      <td>Delmita</td>\n",
       "      <td>TX</td>\n",
       "      <td>78536</td>\n",
       "      <td>South</td>\n",
       "      <td>fbyoung</td>\n",
       "      <td>K}^USc0l7[A</td>\n",
       "    </tr>\n",
       "    <tr>\n",
       "      <th>62</th>\n",
       "      <td>758872</td>\n",
       "      <td>Mr.</td>\n",
       "      <td>Henry</td>\n",
       "      <td>Y</td>\n",
       "      <td>Jenkins</td>\n",
       "      <td>M</td>\n",
       "      <td>henry.jenkins@hotmail.com</td>\n",
       "      <td>Albert Jenkins</td>\n",
       "      <td>Beverly Jenkins</td>\n",
       "      <td>Murphy</td>\n",
       "      <td>...</td>\n",
       "      <td>499-29-3125</td>\n",
       "      <td>314-731-7135</td>\n",
       "      <td>Riverside</td>\n",
       "      <td>Platte</td>\n",
       "      <td>Riverside</td>\n",
       "      <td>MO</td>\n",
       "      <td>64150</td>\n",
       "      <td>Midwest</td>\n",
       "      <td>hyjenkins</td>\n",
       "      <td>zPnRU5Bo</td>\n",
       "    </tr>\n",
       "    <tr>\n",
       "      <th>82</th>\n",
       "      <td>761821</td>\n",
       "      <td>Mr.</td>\n",
       "      <td>Ernest</td>\n",
       "      <td>G</td>\n",
       "      <td>Washington</td>\n",
       "      <td>M</td>\n",
       "      <td>ernest.washington@msn.com</td>\n",
       "      <td>Johnny Washington</td>\n",
       "      <td>Shirley Washington</td>\n",
       "      <td>Harris</td>\n",
       "      <td>...</td>\n",
       "      <td>178-86-1878</td>\n",
       "      <td>212-596-1659</td>\n",
       "      <td>Saranac Lake</td>\n",
       "      <td>Franklin</td>\n",
       "      <td>Saranac Lake</td>\n",
       "      <td>NY</td>\n",
       "      <td>12983</td>\n",
       "      <td>Northeast</td>\n",
       "      <td>egwashington</td>\n",
       "      <td>B\\Wb^6W-</td>\n",
       "    </tr>\n",
       "    <tr>\n",
       "      <th>16</th>\n",
       "      <td>912990</td>\n",
       "      <td>Mr.</td>\n",
       "      <td>Joshua</td>\n",
       "      <td>T</td>\n",
       "      <td>Stewart</td>\n",
       "      <td>M</td>\n",
       "      <td>joshua.stewart@yahoo.ca</td>\n",
       "      <td>Todd Stewart</td>\n",
       "      <td>Martha Stewart</td>\n",
       "      <td>Jones</td>\n",
       "      <td>...</td>\n",
       "      <td>755-07-3676</td>\n",
       "      <td>217-279-9342</td>\n",
       "      <td>New Douglas</td>\n",
       "      <td>Madison</td>\n",
       "      <td>New Douglas</td>\n",
       "      <td>IL</td>\n",
       "      <td>62074</td>\n",
       "      <td>Midwest</td>\n",
       "      <td>jtstewart</td>\n",
       "      <td>K?vi9BBznj</td>\n",
       "    </tr>\n",
       "    <tr>\n",
       "      <th>89</th>\n",
       "      <td>212893</td>\n",
       "      <td>Ms.</td>\n",
       "      <td>Janet</td>\n",
       "      <td>Y</td>\n",
       "      <td>Henderson</td>\n",
       "      <td>F</td>\n",
       "      <td>janet.henderson@ntlworld.com</td>\n",
       "      <td>Jerry Henderson</td>\n",
       "      <td>Julie Henderson</td>\n",
       "      <td>Cooper</td>\n",
       "      <td>...</td>\n",
       "      <td>018-94-7340</td>\n",
       "      <td>239-769-6347</td>\n",
       "      <td>Miami</td>\n",
       "      <td>Miami-Dade</td>\n",
       "      <td>Miami</td>\n",
       "      <td>FL</td>\n",
       "      <td>33166</td>\n",
       "      <td>South</td>\n",
       "      <td>jyhenderson</td>\n",
       "      <td>g-oCs-L/za</td>\n",
       "    </tr>\n",
       "    <tr>\n",
       "      <th>94</th>\n",
       "      <td>489424</td>\n",
       "      <td>Dr.</td>\n",
       "      <td>Phillip</td>\n",
       "      <td>F</td>\n",
       "      <td>White</td>\n",
       "      <td>M</td>\n",
       "      <td>phillip.white@gmail.com</td>\n",
       "      <td>Harold White</td>\n",
       "      <td>Frances White</td>\n",
       "      <td>Carter</td>\n",
       "      <td>...</td>\n",
       "      <td>447-27-9469</td>\n",
       "      <td>503-668-6592</td>\n",
       "      <td>Mapleton</td>\n",
       "      <td>Lane</td>\n",
       "      <td>Mapleton</td>\n",
       "      <td>OR</td>\n",
       "      <td>97453</td>\n",
       "      <td>West</td>\n",
       "      <td>pfwhite</td>\n",
       "      <td>8&lt;Mc.5]eu.*C8.</td>\n",
       "    </tr>\n",
       "    <tr>\n",
       "      <th>48</th>\n",
       "      <td>363065</td>\n",
       "      <td>Drs.</td>\n",
       "      <td>Nancy</td>\n",
       "      <td>L</td>\n",
       "      <td>Jones</td>\n",
       "      <td>F</td>\n",
       "      <td>nancy.jones@gmail.com</td>\n",
       "      <td>Eugene Jones</td>\n",
       "      <td>Sandra Jones</td>\n",
       "      <td>Jenkins</td>\n",
       "      <td>...</td>\n",
       "      <td>681-24-3165</td>\n",
       "      <td>212-825-1930</td>\n",
       "      <td>New York City</td>\n",
       "      <td>New York</td>\n",
       "      <td>New York City</td>\n",
       "      <td>NY</td>\n",
       "      <td>10087</td>\n",
       "      <td>Northeast</td>\n",
       "      <td>nljones</td>\n",
       "      <td>J}HJq/zVF-Aq2</td>\n",
       "    </tr>\n",
       "    <tr>\n",
       "      <th>98</th>\n",
       "      <td>392491</td>\n",
       "      <td>Mrs.</td>\n",
       "      <td>Theresa</td>\n",
       "      <td>R</td>\n",
       "      <td>Murphy</td>\n",
       "      <td>F</td>\n",
       "      <td>theresa.murphy@gmail.com</td>\n",
       "      <td>George Murphy</td>\n",
       "      <td>Jacqueline Murphy</td>\n",
       "      <td>Peterson</td>\n",
       "      <td>...</td>\n",
       "      <td>249-99-8801</td>\n",
       "      <td>907-356-1555</td>\n",
       "      <td>Mc Grath</td>\n",
       "      <td>Yukon-Koyukuk (CA)</td>\n",
       "      <td>Mc Grath</td>\n",
       "      <td>AK</td>\n",
       "      <td>99627</td>\n",
       "      <td>West</td>\n",
       "      <td>trmurphy</td>\n",
       "      <td>V]PGw&gt;4h9</td>\n",
       "    </tr>\n",
       "    <tr>\n",
       "      <th>57</th>\n",
       "      <td>515103</td>\n",
       "      <td>Ms.</td>\n",
       "      <td>Anne</td>\n",
       "      <td>A</td>\n",
       "      <td>Perez</td>\n",
       "      <td>F</td>\n",
       "      <td>anne.perez@sbcglobal.net</td>\n",
       "      <td>Douglas Perez</td>\n",
       "      <td>Doris Perez</td>\n",
       "      <td>Bailey</td>\n",
       "      <td>...</td>\n",
       "      <td>594-99-9091</td>\n",
       "      <td>423-837-3338</td>\n",
       "      <td>Cookeville</td>\n",
       "      <td>Putnam</td>\n",
       "      <td>Cookeville</td>\n",
       "      <td>TN</td>\n",
       "      <td>38505</td>\n",
       "      <td>South</td>\n",
       "      <td>aaperez</td>\n",
       "      <td>y;n9A#}b</td>\n",
       "    </tr>\n",
       "    <tr>\n",
       "      <th>0</th>\n",
       "      <td>677509</td>\n",
       "      <td>Drs.</td>\n",
       "      <td>Lois</td>\n",
       "      <td>H</td>\n",
       "      <td>Walker</td>\n",
       "      <td>F</td>\n",
       "      <td>lois.walker@hotmail.com</td>\n",
       "      <td>Donald Walker</td>\n",
       "      <td>Helen Walker</td>\n",
       "      <td>Lewis</td>\n",
       "      <td>...</td>\n",
       "      <td>467-99-4677</td>\n",
       "      <td>303-572-8492</td>\n",
       "      <td>Denver</td>\n",
       "      <td>Denver</td>\n",
       "      <td>Denver</td>\n",
       "      <td>CO</td>\n",
       "      <td>80224</td>\n",
       "      <td>West</td>\n",
       "      <td>lhwalker</td>\n",
       "      <td>DCa}.T}X:v?NP</td>\n",
       "    </tr>\n",
       "  </tbody>\n",
       "</table>\n",
       "<p>10 rows × 37 columns</p>\n",
       "</div>"
      ],
      "text/plain": [
       "    Emp ID Name Prefix First Name Middle Initial   Last Name Gender  \\\n",
       "8   477616        Hon.    Frances              B       Young      F   \n",
       "62  758872         Mr.      Henry              Y     Jenkins      M   \n",
       "82  761821         Mr.     Ernest              G  Washington      M   \n",
       "16  912990         Mr.     Joshua              T     Stewart      M   \n",
       "89  212893         Ms.      Janet              Y   Henderson      F   \n",
       "94  489424         Dr.    Phillip              F       White      M   \n",
       "48  363065        Drs.      Nancy              L       Jones      F   \n",
       "98  392491        Mrs.    Theresa              R      Murphy      F   \n",
       "57  515103         Ms.       Anne              A       Perez      F   \n",
       "0   677509        Drs.       Lois              H      Walker      F   \n",
       "\n",
       "                          E Mail      Father's Name       Mother's Name  \\\n",
       "8        frances.young@gmail.com         Fred Young       Lillian Young   \n",
       "62     henry.jenkins@hotmail.com     Albert Jenkins     Beverly Jenkins   \n",
       "82     ernest.washington@msn.com  Johnny Washington  Shirley Washington   \n",
       "16       joshua.stewart@yahoo.ca       Todd Stewart      Martha Stewart   \n",
       "89  janet.henderson@ntlworld.com    Jerry Henderson     Julie Henderson   \n",
       "94       phillip.white@gmail.com       Harold White       Frances White   \n",
       "48         nancy.jones@gmail.com       Eugene Jones        Sandra Jones   \n",
       "98      theresa.murphy@gmail.com      George Murphy   Jacqueline Murphy   \n",
       "57      anne.perez@sbcglobal.net      Douglas Perez         Doris Perez   \n",
       "0        lois.walker@hotmail.com      Donald Walker        Helen Walker   \n",
       "\n",
       "   Mother's Maiden Name       ...                SSN    Phone No.   \\\n",
       "8                  Diaz       ...        028-92-8912  210-819-9765   \n",
       "62               Murphy       ...        499-29-3125  314-731-7135   \n",
       "82               Harris       ...        178-86-1878  212-596-1659   \n",
       "16                Jones       ...        755-07-3676  217-279-9342   \n",
       "89               Cooper       ...        018-94-7340  239-769-6347   \n",
       "94               Carter       ...        447-27-9469  503-668-6592   \n",
       "48              Jenkins       ...        681-24-3165  212-825-1930   \n",
       "98             Peterson       ...        249-99-8801  907-356-1555   \n",
       "57               Bailey       ...        594-99-9091  423-837-3338   \n",
       "0                 Lewis       ...        467-99-4677  303-572-8492   \n",
       "\n",
       "       Place Name              County           City State    Zip     Region  \\\n",
       "8         Delmita               Starr        Delmita    TX  78536      South   \n",
       "62      Riverside              Platte      Riverside    MO  64150    Midwest   \n",
       "82   Saranac Lake            Franklin   Saranac Lake    NY  12983  Northeast   \n",
       "16    New Douglas             Madison    New Douglas    IL  62074    Midwest   \n",
       "89          Miami          Miami-Dade          Miami    FL  33166      South   \n",
       "94       Mapleton                Lane       Mapleton    OR  97453       West   \n",
       "48  New York City            New York  New York City    NY  10087  Northeast   \n",
       "98       Mc Grath  Yukon-Koyukuk (CA)       Mc Grath    AK  99627       West   \n",
       "57     Cookeville              Putnam     Cookeville    TN  38505      South   \n",
       "0          Denver              Denver         Denver    CO  80224       West   \n",
       "\n",
       "       User Name        Password  \n",
       "8        fbyoung     K}^USc0l7[A  \n",
       "62     hyjenkins        zPnRU5Bo  \n",
       "82  egwashington        B\\Wb^6W-  \n",
       "16     jtstewart      K?vi9BBznj  \n",
       "89   jyhenderson      g-oCs-L/za  \n",
       "94       pfwhite  8<Mc.5]eu.*C8.  \n",
       "48       nljones   J}HJq/zVF-Aq2  \n",
       "98      trmurphy       V]PGw>4h9  \n",
       "57       aaperez        y;n9A#}b  \n",
       "0       lhwalker   DCa}.T}X:v?NP  \n",
       "\n",
       "[10 rows x 37 columns]"
      ]
     },
     "execution_count": 87,
     "metadata": {},
     "output_type": "execute_result"
    }
   ],
   "source": [
    "emp.sample(10) # random 10 records"
   ]
  },
  {
   "cell_type": "code",
   "execution_count": 88,
   "metadata": {},
   "outputs": [
    {
     "data": {
      "text/plain": [
       "(100, 37)"
      ]
     },
     "execution_count": 88,
     "metadata": {},
     "output_type": "execute_result"
    }
   ],
   "source": [
    "emp.shape"
   ]
  },
  {
   "cell_type": "code",
   "execution_count": 89,
   "metadata": {},
   "outputs": [
    {
     "data": {
      "text/html": [
       "<div>\n",
       "<style scoped>\n",
       "    .dataframe tbody tr th:only-of-type {\n",
       "        vertical-align: middle;\n",
       "    }\n",
       "\n",
       "    .dataframe tbody tr th {\n",
       "        vertical-align: top;\n",
       "    }\n",
       "\n",
       "    .dataframe thead th {\n",
       "        text-align: right;\n",
       "    }\n",
       "</style>\n",
       "<table border=\"1\" class=\"dataframe\">\n",
       "  <thead>\n",
       "    <tr style=\"text-align: right;\">\n",
       "      <th></th>\n",
       "      <th>Emp ID</th>\n",
       "      <th>Age in Yrs.</th>\n",
       "      <th>Weight in Kgs.</th>\n",
       "      <th>Year of Joining</th>\n",
       "      <th>Month of Joining</th>\n",
       "      <th>Day of Joining</th>\n",
       "      <th>Age in Company (Years)</th>\n",
       "      <th>Salary</th>\n",
       "      <th>Zip</th>\n",
       "    </tr>\n",
       "  </thead>\n",
       "  <tbody>\n",
       "    <tr>\n",
       "      <th>count</th>\n",
       "      <td>100.00000</td>\n",
       "      <td>100.000000</td>\n",
       "      <td>100.000000</td>\n",
       "      <td>100.000000</td>\n",
       "      <td>100.000000</td>\n",
       "      <td>100.000000</td>\n",
       "      <td>100.000000</td>\n",
       "      <td>100.000000</td>\n",
       "      <td>100.000000</td>\n",
       "    </tr>\n",
       "    <tr>\n",
       "      <th>mean</th>\n",
       "      <td>547652.10000</td>\n",
       "      <td>39.238700</td>\n",
       "      <td>58.080000</td>\n",
       "      <td>2008.120000</td>\n",
       "      <td>6.250000</td>\n",
       "      <td>16.370000</td>\n",
       "      <td>8.978400</td>\n",
       "      <td>119738.090000</td>\n",
       "      <td>53011.230000</td>\n",
       "    </tr>\n",
       "    <tr>\n",
       "      <th>std</th>\n",
       "      <td>257664.16679</td>\n",
       "      <td>12.066252</td>\n",
       "      <td>12.294106</td>\n",
       "      <td>8.642484</td>\n",
       "      <td>3.453515</td>\n",
       "      <td>9.403046</td>\n",
       "      <td>8.657358</td>\n",
       "      <td>46185.278194</td>\n",
       "      <td>23007.336848</td>\n",
       "    </tr>\n",
       "    <tr>\n",
       "      <th>min</th>\n",
       "      <td>134841.00000</td>\n",
       "      <td>21.100000</td>\n",
       "      <td>40.000000</td>\n",
       "      <td>1983.000000</td>\n",
       "      <td>1.000000</td>\n",
       "      <td>1.000000</td>\n",
       "      <td>0.020000</td>\n",
       "      <td>42005.000000</td>\n",
       "      <td>3867.000000</td>\n",
       "    </tr>\n",
       "    <tr>\n",
       "      <th>25%</th>\n",
       "      <td>328643.75000</td>\n",
       "      <td>28.177500</td>\n",
       "      <td>50.000000</td>\n",
       "      <td>2003.000000</td>\n",
       "      <td>3.000000</td>\n",
       "      <td>7.000000</td>\n",
       "      <td>2.152500</td>\n",
       "      <td>83979.750000</td>\n",
       "      <td>37580.500000</td>\n",
       "    </tr>\n",
       "    <tr>\n",
       "      <th>50%</th>\n",
       "      <td>497414.00000</td>\n",
       "      <td>37.595000</td>\n",
       "      <td>56.000000</td>\n",
       "      <td>2010.500000</td>\n",
       "      <td>7.000000</td>\n",
       "      <td>18.000000</td>\n",
       "      <td>6.435000</td>\n",
       "      <td>118049.500000</td>\n",
       "      <td>52855.000000</td>\n",
       "    </tr>\n",
       "    <tr>\n",
       "      <th>75%</th>\n",
       "      <td>766040.00000</td>\n",
       "      <td>49.900000</td>\n",
       "      <td>61.250000</td>\n",
       "      <td>2015.000000</td>\n",
       "      <td>8.250000</td>\n",
       "      <td>24.000000</td>\n",
       "      <td>13.762500</td>\n",
       "      <td>162509.250000</td>\n",
       "      <td>69514.500000</td>\n",
       "    </tr>\n",
       "    <tr>\n",
       "      <th>max</th>\n",
       "      <td>979607.00000</td>\n",
       "      <td>59.470000</td>\n",
       "      <td>90.000000</td>\n",
       "      <td>2017.000000</td>\n",
       "      <td>12.000000</td>\n",
       "      <td>31.000000</td>\n",
       "      <td>34.520000</td>\n",
       "      <td>197537.000000</td>\n",
       "      <td>99791.000000</td>\n",
       "    </tr>\n",
       "  </tbody>\n",
       "</table>\n",
       "</div>"
      ],
      "text/plain": [
       "             Emp ID  Age in Yrs.  Weight in Kgs.  Year of Joining  \\\n",
       "count     100.00000   100.000000      100.000000       100.000000   \n",
       "mean   547652.10000    39.238700       58.080000      2008.120000   \n",
       "std    257664.16679    12.066252       12.294106         8.642484   \n",
       "min    134841.00000    21.100000       40.000000      1983.000000   \n",
       "25%    328643.75000    28.177500       50.000000      2003.000000   \n",
       "50%    497414.00000    37.595000       56.000000      2010.500000   \n",
       "75%    766040.00000    49.900000       61.250000      2015.000000   \n",
       "max    979607.00000    59.470000       90.000000      2017.000000   \n",
       "\n",
       "       Month of Joining  Day of Joining  Age in Company (Years)  \\\n",
       "count        100.000000      100.000000              100.000000   \n",
       "mean           6.250000       16.370000                8.978400   \n",
       "std            3.453515        9.403046                8.657358   \n",
       "min            1.000000        1.000000                0.020000   \n",
       "25%            3.000000        7.000000                2.152500   \n",
       "50%            7.000000       18.000000                6.435000   \n",
       "75%            8.250000       24.000000               13.762500   \n",
       "max           12.000000       31.000000               34.520000   \n",
       "\n",
       "              Salary           Zip  \n",
       "count     100.000000    100.000000  \n",
       "mean   119738.090000  53011.230000  \n",
       "std     46185.278194  23007.336848  \n",
       "min     42005.000000   3867.000000  \n",
       "25%     83979.750000  37580.500000  \n",
       "50%    118049.500000  52855.000000  \n",
       "75%    162509.250000  69514.500000  \n",
       "max    197537.000000  99791.000000  "
      ]
     },
     "execution_count": 89,
     "metadata": {},
     "output_type": "execute_result"
    }
   ],
   "source": [
    "emp.describe()"
   ]
  },
  {
   "cell_type": "code",
   "execution_count": 110,
   "metadata": {},
   "outputs": [
    {
     "name": "stdout",
     "output_type": "stream",
     "text": [
      "<class 'pandas.core.frame.DataFrame'>\n",
      "RangeIndex: 100 entries, 0 to 99\n",
      "Data columns (total 37 columns):\n",
      "Emp ID                    100 non-null int64\n",
      "Name Prefix               100 non-null object\n",
      "First Name                100 non-null object\n",
      "Middle Initial            100 non-null object\n",
      "Last Name                 100 non-null object\n",
      "Gender                    100 non-null object\n",
      "E Mail                    100 non-null object\n",
      "Father's Name             100 non-null object\n",
      "Mother's Name             100 non-null object\n",
      "Mother's Maiden Name      100 non-null object\n",
      "Date of Birth             100 non-null object\n",
      "Time of Birth             100 non-null object\n",
      "Age in Yrs.               100 non-null float64\n",
      "Weight in Kgs.            100 non-null int64\n",
      "Date of Joining           100 non-null object\n",
      "Quarter of Joining        100 non-null object\n",
      "Half of Joining           100 non-null object\n",
      "Year of Joining           100 non-null int64\n",
      "Month of Joining          100 non-null int64\n",
      "Month Name of Joining     100 non-null object\n",
      "Short Month               100 non-null object\n",
      "Day of Joining            100 non-null int64\n",
      "DOW of Joining            100 non-null object\n",
      "Short DOW                 100 non-null object\n",
      "Age in Company (Years)    100 non-null float64\n",
      "Salary                    100 non-null int64\n",
      "Last % Hike               100 non-null object\n",
      "SSN                       100 non-null object\n",
      "Phone No.                 100 non-null object\n",
      "Place Name                100 non-null object\n",
      "County                    100 non-null object\n",
      "City                      100 non-null object\n",
      "State                     100 non-null object\n",
      "Zip                       100 non-null int64\n",
      "Region                    100 non-null object\n",
      "User Name                 100 non-null object\n",
      "Password                  100 non-null object\n",
      "dtypes: float64(2), int64(7), object(28)\n",
      "memory usage: 29.0+ KB\n"
     ]
    }
   ],
   "source": [
    "emp.info()"
   ]
  },
  {
   "cell_type": "code",
   "execution_count": null,
   "metadata": {},
   "outputs": [],
   "source": []
  }
 ],
 "metadata": {
  "kernelspec": {
   "display_name": "Python 3",
   "language": "python",
   "name": "python3"
  },
  "language_info": {
   "codemirror_mode": {
    "name": "ipython",
    "version": 3
   },
   "file_extension": ".py",
   "mimetype": "text/x-python",
   "name": "python",
   "nbconvert_exporter": "python",
   "pygments_lexer": "ipython3",
   "version": "3.6.4"
  }
 },
 "nbformat": 4,
 "nbformat_minor": 2
}
