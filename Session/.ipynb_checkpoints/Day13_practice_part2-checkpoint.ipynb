{
 "cells": [
  {
   "cell_type": "markdown",
   "metadata": {},
   "source": [
    "# Day 13 Part 2"
   ]
  },
  {
   "cell_type": "code",
   "execution_count": null,
   "metadata": {
    "collapsed": true
   },
   "outputs": [],
   "source": [
    "from IPython.core.interactiveshell import InteractiveShell\n",
    "InteractiveShell.ast_node_interactivity = \"all\"\n",
    "import numpy as np\n",
    "import pandas as pd\n",
    "import matplotlib.pyplot as plt\n",
    "from matplotlib import style\n",
    "import seaborn as sns\n",
    "%matplotlib inline"
   ]
  },
  {
   "cell_type": "markdown",
   "metadata": {},
   "source": [
    "1. 1D data is called series data\n",
    "2. 2D data is called dataframe data\n",
    "3. 3D and above data is called panel data"
   ]
  },
  {
   "cell_type": "code",
   "execution_count": null,
   "metadata": {
    "collapsed": true
   },
   "outputs": [],
   "source": [
    "Dataset=\"../Datasets/\""
   ]
  },
  {
   "cell_type": "markdown",
   "metadata": {},
   "source": [
    "**There are 3 type of Data structure in pandas**\n",
    "1. Series: It is 1D array which assign index to each value.\n",
    "2. Dataframe: It is 2D array. Its a tabular data structure.\n",
    "3. Panel: It has 3 dimensional and more dimensional array."
   ]
  },
  {
   "cell_type": "markdown",
   "metadata": {},
   "source": [
    "# Read CSV file and creating dataframe"
   ]
  },
  {
   "cell_type": "markdown",
   "metadata": {},
   "source": [
    "## World Happiness Index"
   ]
  },
  {
   "cell_type": "code",
   "execution_count": null,
   "metadata": {},
   "outputs": [],
   "source": [
    "WOH=pd.read_csv(Dataset+'/2016.csv')"
   ]
  },
  {
   "cell_type": "markdown",
   "metadata": {},
   "source": [
    "**20 Most Happiest country in the world**"
   ]
  },
  {
   "cell_type": "code",
   "execution_count": null,
   "metadata": {},
   "outputs": [],
   "source": [
    "WOH.head(20)"
   ]
  },
  {
   "cell_type": "markdown",
   "metadata": {},
   "source": [
    "**20 Least Happiest country in the world**"
   ]
  },
  {
   "cell_type": "code",
   "execution_count": null,
   "metadata": {},
   "outputs": [],
   "source": [
    "WOH.tail(20)"
   ]
  },
  {
   "cell_type": "code",
   "execution_count": null,
   "metadata": {},
   "outputs": [],
   "source": [
    "WOH.info()"
   ]
  },
  {
   "cell_type": "code",
   "execution_count": null,
   "metadata": {},
   "outputs": [],
   "source": [
    "no_Of_Countries=len(WOH.Country.unique())\n",
    "no_Of_Countries\n",
    "list_countries=WOH.Country.unique()\n",
    "list_countries"
   ]
  },
  {
   "cell_type": "code",
   "execution_count": null,
   "metadata": {},
   "outputs": [],
   "source": [
    "no_Of_regions=len(WOH.Region.unique())\n",
    "no_Of_regions\n",
    "list_regions=WOH.Region.unique()\n",
    "list_regions"
   ]
  },
  {
   "cell_type": "code",
   "execution_count": null,
   "metadata": {},
   "outputs": [],
   "source": [
    "Happiest_10=WOH.head(10)\n",
    "x=Happiest_10['Happiness Rank']\n",
    "y=Happiest_10['Economy (GDP per Capita)']\n",
    "x\n",
    "y\n",
    "plt.plot(x,y)\n",
    "plt.title('World Happiness Rank top 10')\n",
    "plt.xlabel='Rank'\n",
    "plt.ylabel='GDP'\n",
    "plt.show()"
   ]
  },
  {
   "cell_type": "code",
   "execution_count": null,
   "metadata": {
    "collapsed": true
   },
   "outputs": [],
   "source": [
    "woh_2015=pd.read_csv(Dataset+'/2015.csv')\n",
    "woh_2016=pd.read_csv(Dataset+'/2016.csv')\n",
    "#woh_2017=pd.read_csv(Dataset+'/2017.csv')"
   ]
  },
  {
   "cell_type": "code",
   "execution_count": null,
   "metadata": {
    "collapsed": true
   },
   "outputs": [],
   "source": [
    "woh_2015_top10=woh_2015.head(10)\n",
    "woh_2016_top10=woh_2016.head(10)\n",
    "#woh_2017_top10=woh_2017.head(10)"
   ]
  },
  {
   "cell_type": "code",
   "execution_count": null,
   "metadata": {},
   "outputs": [],
   "source": [
    "x_2015=woh_2015_top10['Happiness Rank']\n",
    "x_2016=woh_2016_top10['Happiness Rank']\n",
    "#x_2017=woh_2017_top10['Happiness Rank']\n",
    "y_2015=woh_2015_top10['Economy (GDP per Capita)']\n",
    "y_2016=woh_2016_top10['Economy (GDP per Capita)']\n",
    "#y_2017=woh_2017_top10['Economy (GDP per Capita)']"
   ]
  },
  {
   "cell_type": "code",
   "execution_count": null,
   "metadata": {
    "collapsed": true
   },
   "outputs": [],
   "source": [
    "df_compare=pd.DataFrame({'GDP 2015':y_2015,'GDP 2016':y_2016})"
   ]
  },
  {
   "cell_type": "code",
   "execution_count": null,
   "metadata": {},
   "outputs": [],
   "source": [
    "df_compare"
   ]
  },
  {
   "cell_type": "code",
   "execution_count": null,
   "metadata": {},
   "outputs": [],
   "source": [
    "style.use('ggplot')\n",
    "plt.plot(x_2016,y_2016,'blue',label='2016',linewidth=5)\n",
    "plt.title('World Happiness Report 2015-2016')\n",
    "#plt.xlabel('Happiness Rank')\n",
    "#plt.ylabel('GDP')\n",
    "plt.legend()\n",
    "plt.grid(True,color='k')\n",
    "plt.show();"
   ]
  },
  {
   "cell_type": "code",
   "execution_count": null,
   "metadata": {
    "collapsed": true
   },
   "outputs": [],
   "source": [
    "woh_2015_top50=woh_2015.head(50)\n",
    "woh_2016_top50=woh_2016.head(50)"
   ]
  },
  {
   "cell_type": "code",
   "execution_count": null,
   "metadata": {},
   "outputs": [],
   "source": [
    "x=woh_2015_top50['Happiness Rank'].groupby(woh_2015_top50['Region']).count()\n",
    "y=woh_2016_top50['Happiness Rank'].groupby(woh_2016_top50['Region']).count()\n",
    "x\n",
    "y"
   ]
  },
  {
   "cell_type": "code",
   "execution_count": null,
   "metadata": {
    "collapsed": true
   },
   "outputs": [],
   "source": [
    "\n"
   ]
  },
  {
   "cell_type": "code",
   "execution_count": null,
   "metadata": {},
   "outputs": [],
   "source": [
    "regions=['ANZ','CEE','EA','LA','ME','NA','SA','WE']\n",
    "plt.figure(figsize=(20,6))\n",
    "plt.subplot(121)\n",
    "plt.bar(regions,x.values,color='b',label='2015',width=0.5)\n",
    "plt.title('World Happiness Report 2015')\n",
    "plt.ylabel('Number of countries in top 50')\n",
    "plt.xlabel('Region')\n",
    "plt.legend()\n",
    "\n",
    "plt.subplot(122)\n",
    "plt.bar(regions,y.values,color='c',label='2016',width=0.3)\n",
    "plt.title('World Happiness Report 2016')\n",
    "plt.ylabel('Number of countries in top 50')\n",
    "plt.xlabel('Region')\n",
    "plt.legend()\n",
    "plt.show()"
   ]
  },
  {
   "cell_type": "code",
   "execution_count": null,
   "metadata": {},
   "outputs": [],
   "source": []
  },
  {
   "cell_type": "code",
   "execution_count": null,
   "metadata": {
    "collapsed": true
   },
   "outputs": [],
   "source": []
  }
 ],
 "metadata": {
  "kernelspec": {
   "display_name": "Python 3",
   "language": "python",
   "name": "python3"
  },
  "language_info": {
   "codemirror_mode": {
    "name": "ipython",
    "version": 3
   },
   "file_extension": ".py",
   "mimetype": "text/x-python",
   "name": "python",
   "nbconvert_exporter": "python",
   "pygments_lexer": "ipython3",
   "version": "3.6.1"
  }
 },
 "nbformat": 4,
 "nbformat_minor": 2
}
