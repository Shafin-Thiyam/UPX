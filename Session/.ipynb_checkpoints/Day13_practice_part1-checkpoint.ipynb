{
 "cells": [
  {
   "cell_type": "markdown",
   "metadata": {},
   "source": [
    "# Day 13"
   ]
  },
  {
   "cell_type": "code",
   "execution_count": null,
   "metadata": {
    "collapsed": true
   },
   "outputs": [],
   "source": [
    "from IPython.core.interactiveshell import InteractiveShell\n",
    "InteractiveShell.ast_node_interactivity = \"all\"\n",
    "import numpy as np\n",
    "import pandas as pd\n",
    "import matplotlib.pyplot as plt\n",
    "import seaborn as sns\n",
    "%matplotlib inline"
   ]
  },
  {
   "cell_type": "markdown",
   "metadata": {},
   "source": [
    "1. 1D data is called series data\n",
    "2. 2D data is called dataframe data\n",
    "3. 3D and above data is called panel data"
   ]
  },
  {
   "cell_type": "code",
   "execution_count": null,
   "metadata": {
    "collapsed": true
   },
   "outputs": [],
   "source": [
    "Dataset=\"../Datasets/\""
   ]
  },
  {
   "cell_type": "markdown",
   "metadata": {},
   "source": [
    "**There are 3 type of Data structure in pandas**\n",
    "1. Series: It is 1D array which assign index to each value.\n",
    "2. Dataframe: It is 2D array. Its a tabular data structure.\n",
    "3. Panel: It has 3 dimensional and more dimensional array."
   ]
  },
  {
   "cell_type": "markdown",
   "metadata": {},
   "source": [
    "# Missing data"
   ]
  },
  {
   "cell_type": "markdown",
   "metadata": {},
   "source": [
    "1. Accuracy in calculation is effected"
   ]
  },
  {
   "cell_type": "code",
   "execution_count": null,
   "metadata": {},
   "outputs": [],
   "source": [
    "years = [90, 91, 92, 93, 94, 95]\n",
    "f1 = {90:8, 91:9, 92:7, 93:8, 94:9, 95:11}\n",
    "firm1 = pd.Series(f1,index=years)\n",
    "firm1\n",
    "f2 = {90:14,92:9, 93:13, 94:15}\n",
    "firm2 = pd.Series(f2,index=years)\n",
    "firm2\n",
    "f3 = {93:10, 94:12, 95: 13}\n",
    "firm3 = pd.Series(f3,index=years)\n",
    "firm3\n",
    "df3 = pd.DataFrame(columns=['Firm1','Firm2','Firm3'],index=years)\n",
    "df3\n",
    "df3.Firm1 = firm1\n",
    "df3.Firm2 = firm2\n",
    "df3.Firm3 = firm3\n",
    "df3"
   ]
  },
  {
   "cell_type": "code",
   "execution_count": null,
   "metadata": {},
   "outputs": [],
   "source": [
    "nadeleted = firm2.dropna()\n",
    "firm2\n",
    "nadeleted"
   ]
  },
  {
   "cell_type": "code",
   "execution_count": null,
   "metadata": {},
   "outputs": [],
   "source": [
    "cleandf3 = df3.dropna()\n",
    "df3\n",
    "cleandf3"
   ]
  },
  {
   "cell_type": "code",
   "execution_count": null,
   "metadata": {},
   "outputs": [],
   "source": [
    "df3\n",
    "clean2 = df3.dropna(how = 'any')\n",
    "clean2\n",
    "clean3 = df3.dropna(how = 'all')\n",
    "clean3"
   ]
  },
  {
   "cell_type": "code",
   "execution_count": null,
   "metadata": {},
   "outputs": [],
   "source": [
    "columndrop = df3.dropna(axis=1)\n",
    "columndrop\n",
    "columndrop2 = df3.dropna(axis=1,how='all')\n",
    "columndrop2"
   ]
  },
  {
   "cell_type": "markdown",
   "metadata": {},
   "source": [
    "**threshold define maximum 2 NaN in a row than row will be drop.**"
   ]
  },
  {
   "cell_type": "code",
   "execution_count": null,
   "metadata": {},
   "outputs": [],
   "source": [
    "df3\n",
    "thresholddf = df3.dropna(thresh=2)\n",
    "thresholddf"
   ]
  },
  {
   "cell_type": "markdown",
   "metadata": {},
   "source": [
    "**Fill na with 0**"
   ]
  },
  {
   "cell_type": "code",
   "execution_count": null,
   "metadata": {},
   "outputs": [],
   "source": [
    "fillna1=df3.fillna(0)\n",
    "fillna1"
   ]
  },
  {
   "cell_type": "markdown",
   "metadata": {},
   "source": [
    "**Fill all na for columns Firm1, Firm2, Firm3 with 2,3, 0 respectively**"
   ]
  },
  {
   "cell_type": "code",
   "execution_count": null,
   "metadata": {},
   "outputs": [],
   "source": [
    "df3\n",
    "fillna2=df3.fillna({'Firm1':2,'Firm2':3,'Firm3':0})\n",
    "fillna2"
   ]
  },
  {
   "cell_type": "markdown",
   "metadata": {},
   "source": [
    "**Do forwardfill next NaN with current value given that current value is not NaN.**\n",
    "1. Firm2 column has NaN at 91,95 index row. There is NaN after 90 index for Firm2 so it replace 91 index value with 90th index same goes true for 95th index which is replaced with 94th index value.\n",
    "2. Firm3 columns has NaN but there is no index row that has NaN in next index. In other word 93 is not NaN and has no forward index value as NaN, though 90-92 has NaN but has no non-NaN value precedes."
   ]
  },
  {
   "cell_type": "code",
   "execution_count": null,
   "metadata": {},
   "outputs": [],
   "source": [
    "df3\n",
    "fillna3=df3.fillna(method='ffill')\n",
    "fillna3"
   ]
  },
  {
   "cell_type": "markdown",
   "metadata": {},
   "source": [
    "**Do Backwardfill fill previous NaN with current value given that current value is not NaN.**\n",
    "1. Firm2 column has NaN at 91,95 index row. There is NaN before 92nd index for Firm2 so it replace 91 index value with 92nd index. Since 95th is the last index for Firm2 and doesnt have following index with non-NaN value hence its remain NaN.\n",
    "2. Firm3 columns has NaN at 90-92 and 93 is not NaN 90-92 were backward filled with 93rd index value."
   ]
  },
  {
   "cell_type": "code",
   "execution_count": null,
   "metadata": {},
   "outputs": [],
   "source": [
    "df3\n",
    "fillna4=df3.fillna(method='bfill')\n",
    "fillna4"
   ]
  },
  {
   "cell_type": "markdown",
   "metadata": {},
   "source": [
    "**limit define how many row's NaN will be filled**"
   ]
  },
  {
   "cell_type": "code",
   "execution_count": null,
   "metadata": {},
   "outputs": [],
   "source": [
    "df3\n",
    "fillna5=df3.fillna(method='bfill',limit=2)\n",
    "fillna5"
   ]
  },
  {
   "cell_type": "code",
   "execution_count": null,
   "metadata": {},
   "outputs": [],
   "source": [
    "df3\n",
    "fillna6=df3.fillna(df3.median())\n",
    "fillna6"
   ]
  },
  {
   "cell_type": "markdown",
   "metadata": {},
   "source": [
    "**we can replace unrecognized data to NaN will loading data from external files**\n",
    "```\n",
    "Here we replace 'NULL',-999,'RP','10000.00%' to NaN"
   ]
  },
  {
   "cell_type": "code",
   "execution_count": null,
   "metadata": {},
   "outputs": [],
   "source": [
    "rowmiss=pd.read_csv(Dataset+'roemissing.csv',na_values=['NULL',-999,'RP','10000.00%'])"
   ]
  },
  {
   "cell_type": "code",
   "execution_count": null,
   "metadata": {},
   "outputs": [],
   "source": [
    "rowmiss.head(20)"
   ]
  },
  {
   "cell_type": "markdown",
   "metadata": {},
   "source": [
    "**replace 'NULL',-999,'RP' in 'Number of firms' column to NaN and '10000.00%' in 'ROE' column to NaN**"
   ]
  },
  {
   "cell_type": "code",
   "execution_count": null,
   "metadata": {},
   "outputs": [],
   "source": [
    "rowmiss2=pd.read_csv(Dataset+'roemissing.csv',na_values={'Number of firms':['NULL',-999,'RP'],'ROE':['10000.00%']})\n",
    "rowmiss2.head(20)"
   ]
  },
  {
   "cell_type": "code",
   "execution_count": null,
   "metadata": {},
   "outputs": [],
   "source": [
    "#will give list of data in dataset and also shows how many missing value  are there\n",
    "rowmiss.info()"
   ]
  },
  {
   "cell_type": "code",
   "execution_count": null,
   "metadata": {},
   "outputs": [],
   "source": [
    "rowmiss2.isnull()"
   ]
  },
  {
   "cell_type": "code",
   "execution_count": null,
   "metadata": {},
   "outputs": [],
   "source": [
    "#give the count of null values\n",
    "rowmiss2.isnull().sum()"
   ]
  },
  {
   "cell_type": "code",
   "execution_count": null,
   "metadata": {
    "collapsed": true
   },
   "outputs": [],
   "source": [
    "rowmiss2.to_csv(Dataset+'Added_NaN.csv', index=False,)"
   ]
  },
  {
   "cell_type": "markdown",
   "metadata": {},
   "source": [
    "**Multi Indexing**"
   ]
  },
  {
   "cell_type": "code",
   "execution_count": null,
   "metadata": {},
   "outputs": [],
   "source": [
    "h_i_data=pd.Series(np.random.randn(10),index=[['ind1','ind1','ind1','ind1','ind2','ind2','ind2','ind3','ind3','ind3'],\n",
    "                                             [1,2,3,4,1,2,3,1,2,3]])"
   ]
  },
  {
   "cell_type": "code",
   "execution_count": null,
   "metadata": {},
   "outputs": [],
   "source": [
    "h_i_data"
   ]
  },
  {
   "cell_type": "code",
   "execution_count": null,
   "metadata": {},
   "outputs": [],
   "source": [
    "h_i_data['ind1'][:2]"
   ]
  },
  {
   "cell_type": "markdown",
   "metadata": {},
   "source": [
    "**unstack create dataframe with level 0 as cloumn.**"
   ]
  },
  {
   "cell_type": "code",
   "execution_count": null,
   "metadata": {},
   "outputs": [],
   "source": [
    "h_i_data.unstack(level=0)"
   ]
  },
  {
   "cell_type": "code",
   "execution_count": null,
   "metadata": {},
   "outputs": [],
   "source": [
    "h_i_data.unstack(level=1)"
   ]
  },
  {
   "cell_type": "code",
   "execution_count": null,
   "metadata": {},
   "outputs": [],
   "source": [
    "h_i_data.round(1)\n",
    "h_i_data.round(1).sum()"
   ]
  },
  {
   "cell_type": "code",
   "execution_count": null,
   "metadata": {},
   "outputs": [],
   "source": [
    "h_i_data.sum(level=1)\n",
    "h_i_data.round(1).sum(level=1)"
   ]
  },
  {
   "cell_type": "code",
   "execution_count": null,
   "metadata": {},
   "outputs": [],
   "source": [
    "h_i_data.sum(level=0)"
   ]
  },
  {
   "cell_type": "code",
   "execution_count": null,
   "metadata": {
    "collapsed": true
   },
   "outputs": [],
   "source": []
  }
 ],
 "metadata": {
  "kernelspec": {
   "display_name": "Python 3",
   "language": "python",
   "name": "python3"
  },
  "language_info": {
   "codemirror_mode": {
    "name": "ipython",
    "version": 3
   },
   "file_extension": ".py",
   "mimetype": "text/x-python",
   "name": "python",
   "nbconvert_exporter": "python",
   "pygments_lexer": "ipython3",
   "version": "3.6.1"
  }
 },
 "nbformat": 4,
 "nbformat_minor": 2
}
