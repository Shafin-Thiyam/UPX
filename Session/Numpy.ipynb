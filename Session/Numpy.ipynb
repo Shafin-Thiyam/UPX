{
 "cells": [
  {
   "cell_type": "markdown",
   "metadata": {},
   "source": [
    "# NUMPY\n",
    "```\n",
    "The NumPy library is the core library for scientific computing in\n",
    "Python. It provides a high-performance multidimensional array\n",
    "object, and tools for working with these arrays.\n",
    "```"
   ]
  },
  {
   "cell_type": "markdown",
   "metadata": {},
   "source": [
    "<img src=\"Numpy_arrayType.png\" ></img>"
   ]
  },
  {
   "cell_type": "code",
   "execution_count": 1,
   "metadata": {
    "collapsed": true
   },
   "outputs": [],
   "source": [
    "import numpy as np\n",
    "from numpy import array"
   ]
  },
  {
   "cell_type": "code",
   "execution_count": 2,
   "metadata": {
    "collapsed": true
   },
   "outputs": [],
   "source": [
    "from IPython.core.interactiveshell import InteractiveShell\n",
    "InteractiveShell.ast_node_interactivity = \"all\""
   ]
  },
  {
   "cell_type": "code",
   "execution_count": 3,
   "metadata": {
    "collapsed": true
   },
   "outputs": [],
   "source": [
    "Dataset=\"../Datasets\""
   ]
  },
  {
   "cell_type": "code",
   "execution_count": 28,
   "metadata": {},
   "outputs": [
    {
     "name": "stdout",
     "output_type": "stream",
     "text": [
      "Below is the example of 1D array\n"
     ]
    },
    {
     "data": {
      "text/plain": [
       "1"
      ]
     },
     "execution_count": 28,
     "metadata": {},
     "output_type": "execute_result"
    },
    {
     "data": {
      "text/plain": [
       "(3,)"
      ]
     },
     "execution_count": 28,
     "metadata": {},
     "output_type": "execute_result"
    },
    {
     "data": {
      "text/plain": [
       "array([1, 2, 3])"
      ]
     },
     "execution_count": 28,
     "metadata": {},
     "output_type": "execute_result"
    }
   ],
   "source": [
    "# Creating an 1D array\n",
    "a=np.array([1,2,3])\n",
    "print(\"Below is the example of 1D array\")\n",
    "a.ndim\n",
    "a.shape\n",
    "a"
   ]
  },
  {
   "cell_type": "code",
   "execution_count": 29,
   "metadata": {},
   "outputs": [
    {
     "name": "stdout",
     "output_type": "stream",
     "text": [
      "Below is the example of 2D array\n"
     ]
    },
    {
     "data": {
      "text/plain": [
       "2"
      ]
     },
     "execution_count": 29,
     "metadata": {},
     "output_type": "execute_result"
    },
    {
     "data": {
      "text/plain": [
       "(2, 3)"
      ]
     },
     "execution_count": 29,
     "metadata": {},
     "output_type": "execute_result"
    },
    {
     "data": {
      "text/plain": [
       "array([[1, 2, 3],\n",
       "       [3, 4, 5]])"
      ]
     },
     "execution_count": 29,
     "metadata": {},
     "output_type": "execute_result"
    }
   ],
   "source": [
    "# Creating an 2D array\n",
    "b=np.array([(1,2,3),(3,4,5)], dtype=int)\n",
    "print(\"Below is the example of 2D array\")\n",
    "b.ndim\n",
    "b.shape\n",
    "b"
   ]
  },
  {
   "cell_type": "code",
   "execution_count": 30,
   "metadata": {},
   "outputs": [
    {
     "name": "stdout",
     "output_type": "stream",
     "text": [
      "Below is the example of 3D array\n"
     ]
    },
    {
     "data": {
      "text/plain": [
       "3"
      ]
     },
     "execution_count": 30,
     "metadata": {},
     "output_type": "execute_result"
    },
    {
     "data": {
      "text/plain": [
       "(3, 3, 3)"
      ]
     },
     "execution_count": 30,
     "metadata": {},
     "output_type": "execute_result"
    },
    {
     "data": {
      "text/plain": [
       "dtype('int16')"
      ]
     },
     "execution_count": 30,
     "metadata": {},
     "output_type": "execute_result"
    },
    {
     "data": {
      "text/plain": [
       "array([[[ 1,  2,  3],\n",
       "        [ 4,  5,  6],\n",
       "        [ 7,  8,  9]],\n",
       "\n",
       "       [[10, 11, 12],\n",
       "        [13, 14, 15],\n",
       "        [16, 17, 18]],\n",
       "\n",
       "       [[19, 20, 21],\n",
       "        [22, 23, 24],\n",
       "        [25, 26, 27]]], dtype=int16)"
      ]
     },
     "execution_count": 30,
     "metadata": {},
     "output_type": "execute_result"
    }
   ],
   "source": [
    "# Creating an 3D array\n",
    "c=np.array([[(1,2,3), (4,5,6),(7,8,9)], [(10,11,12),(13,14,15), (16,17,18)],[(19,20,21),(22,23,24), (25,26,27)]], dtype=np.int16)\n",
    "print(\"Below is the example of 3D array\")\n",
    "c.ndim\n",
    "c.shape\n",
    "c.dtype\n",
    "c"
   ]
  },
  {
   "cell_type": "code",
   "execution_count": 31,
   "metadata": {},
   "outputs": [
    {
     "name": "stdout",
     "output_type": "stream",
     "text": [
      "Below is the example of 4D array\n"
     ]
    },
    {
     "data": {
      "text/plain": [
       "4"
      ]
     },
     "execution_count": 31,
     "metadata": {},
     "output_type": "execute_result"
    },
    {
     "data": {
      "text/plain": [
       "(2, 2, 2, 3)"
      ]
     },
     "execution_count": 31,
     "metadata": {},
     "output_type": "execute_result"
    },
    {
     "data": {
      "text/plain": [
       "dtype('int32')"
      ]
     },
     "execution_count": 31,
     "metadata": {},
     "output_type": "execute_result"
    },
    {
     "data": {
      "text/plain": [
       "(48, 24, 12, 4)"
      ]
     },
     "execution_count": 31,
     "metadata": {},
     "output_type": "execute_result"
    },
    {
     "data": {
      "text/plain": [
       "array([[[[ 1,  2,  3],\n",
       "         [ 4,  5,  6]],\n",
       "\n",
       "        [[ 7,  8,  9],\n",
       "         [10, 11, 12]]],\n",
       "\n",
       "\n",
       "       [[[13, 14, 15],\n",
       "         [16, 17, 18]],\n",
       "\n",
       "        [[19, 20, 21],\n",
       "         [22, 23, 24]]]])"
      ]
     },
     "execution_count": 31,
     "metadata": {},
     "output_type": "execute_result"
    }
   ],
   "source": [
    "# Creating an 4D array\n",
    "d=np.array([([(1,2,3), (4,5,6)], [(7,8,9), (10,11,12)]),([(13,14,15), (16,17,18)], [(19,20,21), (22,23,24)])], dtype=int)\n",
    "print(\"Below is the example of 4D array\")\n",
    "d.ndim\n",
    "d.shape\n",
    "d.dtype\n",
    "d.strides\n",
    "d"
   ]
  },
  {
   "cell_type": "code",
   "execution_count": 32,
   "metadata": {},
   "outputs": [
    {
     "data": {
      "text/plain": [
       "array([[[ 1,  2,  3],\n",
       "        [ 4,  5,  6]],\n",
       "\n",
       "       [[ 7,  8,  9],\n",
       "        [10, 11, 12]]])"
      ]
     },
     "execution_count": 32,
     "metadata": {},
     "output_type": "execute_result"
    },
    {
     "data": {
      "text/plain": [
       "array([[1, 2, 3],\n",
       "       [4, 5, 6]])"
      ]
     },
     "execution_count": 32,
     "metadata": {},
     "output_type": "execute_result"
    },
    {
     "data": {
      "text/plain": [
       "array([1, 2, 3])"
      ]
     },
     "execution_count": 32,
     "metadata": {},
     "output_type": "execute_result"
    }
   ],
   "source": [
    "d[0]\n",
    "d[0][0]\n",
    "d[0][0][0]"
   ]
  },
  {
   "cell_type": "code",
   "execution_count": 33,
   "metadata": {},
   "outputs": [
    {
     "data": {
      "text/plain": [
       "array([[[13, 14, 15],\n",
       "        [16, 17, 18]],\n",
       "\n",
       "       [[19, 20, 21],\n",
       "        [22, 23, 24]]])"
      ]
     },
     "execution_count": 33,
     "metadata": {},
     "output_type": "execute_result"
    },
    {
     "data": {
      "text/plain": [
       "array([[13, 14, 15],\n",
       "       [16, 17, 18]])"
      ]
     },
     "execution_count": 33,
     "metadata": {},
     "output_type": "execute_result"
    },
    {
     "data": {
      "text/plain": [
       "array([13, 14, 15])"
      ]
     },
     "execution_count": 33,
     "metadata": {},
     "output_type": "execute_result"
    }
   ],
   "source": [
    "d[1]\n",
    "d[1][0]\n",
    "d[1][0][0]"
   ]
  },
  {
   "cell_type": "code",
   "execution_count": 34,
   "metadata": {},
   "outputs": [
    {
     "data": {
      "text/plain": [
       "array([[[ 1,  2,  3],\n",
       "        [ 4,  5,  6],\n",
       "        [ 7,  8,  9]],\n",
       "\n",
       "       [[10, 11, 12],\n",
       "        [13, 14, 15],\n",
       "        [16, 17, 18]],\n",
       "\n",
       "       [[19, 20, 21],\n",
       "        [22, 23, 24],\n",
       "        [25, 26, 27]]], dtype=int16)"
      ]
     },
     "execution_count": 34,
     "metadata": {},
     "output_type": "execute_result"
    },
    {
     "data": {
      "text/plain": [
       "(3, 3, 3)"
      ]
     },
     "execution_count": 34,
     "metadata": {},
     "output_type": "execute_result"
    },
    {
     "data": {
      "text/plain": [
       "dtype('int16')"
      ]
     },
     "execution_count": 34,
     "metadata": {},
     "output_type": "execute_result"
    },
    {
     "data": {
      "text/plain": [
       "(18, 6, 2)"
      ]
     },
     "execution_count": 34,
     "metadata": {},
     "output_type": "execute_result"
    }
   ],
   "source": [
    "c\n",
    "c.shape\n",
    "c.dtype\n",
    "c.strides"
   ]
  },
  {
   "cell_type": "markdown",
   "metadata": {},
   "source": [
    "**Creating array as place holder for future assignment**\n",
    "1. One array\n",
    "2. Zero array\n",
    "3. random array\n",
    "3. Empty array\n",
    "5. full array"
   ]
  },
  {
   "cell_type": "code",
   "execution_count": 35,
   "metadata": {},
   "outputs": [
    {
     "data": {
      "text/plain": [
       "array([[[1., 1., 1., 1., 1.],\n",
       "        [1., 1., 1., 1., 1.],\n",
       "        [1., 1., 1., 1., 1.],\n",
       "        [1., 1., 1., 1., 1.]],\n",
       "\n",
       "       [[1., 1., 1., 1., 1.],\n",
       "        [1., 1., 1., 1., 1.],\n",
       "        [1., 1., 1., 1., 1.],\n",
       "        [1., 1., 1., 1., 1.]],\n",
       "\n",
       "       [[1., 1., 1., 1., 1.],\n",
       "        [1., 1., 1., 1., 1.],\n",
       "        [1., 1., 1., 1., 1.],\n",
       "        [1., 1., 1., 1., 1.]],\n",
       "\n",
       "       [[1., 1., 1., 1., 1.],\n",
       "        [1., 1., 1., 1., 1.],\n",
       "        [1., 1., 1., 1., 1.],\n",
       "        [1., 1., 1., 1., 1.]]])"
      ]
     },
     "execution_count": 35,
     "metadata": {},
     "output_type": "execute_result"
    },
    {
     "data": {
      "text/plain": [
       "array([[[1., 1., 1., 1., 1.],\n",
       "        [1., 1., 1., 1., 1.],\n",
       "        [1., 1., 1., 1., 1.],\n",
       "        [1., 1., 1., 1., 1.]],\n",
       "\n",
       "       [[1., 1., 1., 1., 1.],\n",
       "        [1., 1., 1., 1., 1.],\n",
       "        [1., 1., 1., 1., 1.],\n",
       "        [1., 1., 1., 1., 1.]]])"
      ]
     },
     "execution_count": 35,
     "metadata": {},
     "output_type": "execute_result"
    }
   ],
   "source": [
    "np.ones(shape=(4,4,5))\n",
    "#Above is similar to below initialization\n",
    "np.ones((2,4,5))"
   ]
  },
  {
   "cell_type": "code",
   "execution_count": 36,
   "metadata": {},
   "outputs": [
    {
     "data": {
      "text/plain": [
       "array([[[0, 0, 0, 0],\n",
       "        [0, 0, 0, 0],\n",
       "        [0, 0, 0, 0]],\n",
       "\n",
       "       [[0, 0, 0, 0],\n",
       "        [0, 0, 0, 0],\n",
       "        [0, 0, 0, 0]]], dtype=int16)"
      ]
     },
     "execution_count": 36,
     "metadata": {},
     "output_type": "execute_result"
    }
   ],
   "source": [
    "np.zeros(shape=(2,3,4), dtype=np.int16)"
   ]
  },
  {
   "cell_type": "code",
   "execution_count": 37,
   "metadata": {},
   "outputs": [
    {
     "data": {
      "text/plain": [
       "array([[0.26655984, 0.95458401, 0.68257798, 0.19325658],\n",
       "       [0.86268528, 0.44204985, 0.25094094, 0.96943291]])"
      ]
     },
     "execution_count": 37,
     "metadata": {},
     "output_type": "execute_result"
    }
   ],
   "source": [
    "np.random.random((2,4))"
   ]
  },
  {
   "cell_type": "code",
   "execution_count": 38,
   "metadata": {},
   "outputs": [
    {
     "data": {
      "text/plain": [
       "array([[[6.23042070e-307, 3.56043053e-307, 1.60219306e-306],\n",
       "        [7.56571288e-307, 1.89146896e-307, 1.37961302e-306],\n",
       "        [1.05699242e-307, 8.01097889e-307, 1.78020169e-306]],\n",
       "\n",
       "       [[7.56601165e-307, 1.02359984e-306, 1.33510679e-306],\n",
       "        [2.22522597e-306, 6.23053614e-307, 2.22522597e-306],\n",
       "        [1.06810268e-306, 6.23052935e-307, 1.33511562e-306]],\n",
       "\n",
       "       [[6.89805151e-307, 2.22522597e-306, 1.33511969e-306],\n",
       "        [8.34425615e-308, 8.34444713e-308, 1.33508760e-307],\n",
       "        [1.22383731e-307, 1.05695847e-307, 2.66795449e-322]]])"
      ]
     },
     "execution_count": 38,
     "metadata": {},
     "output_type": "execute_result"
    }
   ],
   "source": [
    "np.empty((3,3,3))"
   ]
  },
  {
   "cell_type": "code",
   "execution_count": 39,
   "metadata": {},
   "outputs": [
    {
     "data": {
      "text/plain": [
       "array([[[7, 7, 7],\n",
       "        [7, 7, 7],\n",
       "        [7, 7, 7],\n",
       "        [7, 7, 7]],\n",
       "\n",
       "       [[7, 7, 7],\n",
       "        [7, 7, 7],\n",
       "        [7, 7, 7],\n",
       "        [7, 7, 7]],\n",
       "\n",
       "       [[7, 7, 7],\n",
       "        [7, 7, 7],\n",
       "        [7, 7, 7],\n",
       "        [7, 7, 7]]])"
      ]
     },
     "execution_count": 39,
     "metadata": {},
     "output_type": "execute_result"
    },
    {
     "data": {
      "text/plain": [
       "array([[[7, 7, 7],\n",
       "        [7, 7, 7],\n",
       "        [7, 7, 7],\n",
       "        [7, 7, 7]],\n",
       "\n",
       "       [[7, 7, 7],\n",
       "        [7, 7, 7],\n",
       "        [7, 7, 7],\n",
       "        [7, 7, 7]],\n",
       "\n",
       "       [[7, 7, 7],\n",
       "        [7, 7, 7],\n",
       "        [7, 7, 7],\n",
       "        [7, 7, 7]]])"
      ]
     },
     "execution_count": 39,
     "metadata": {},
     "output_type": "execute_result"
    }
   ],
   "source": [
    "np.full(shape=(3,4,3),fill_value=7)\n",
    "# This same as below\n",
    "np.full((3,4,3),7)\n"
   ]
  },
  {
   "cell_type": "markdown",
   "metadata": {},
   "source": [
    "#### Linespace and Arrange create an array of evenly-spaced values\n",
    "**Linespace**\n",
    "``` \n",
    "Last value of the three argument that are passed in the code chunk below designates the step value\n",
    "```\n",
    "**Arrange**\n",
    "``` \n",
    "Last value of the three argument that are passed in the code chunk below designates number of samples or step value.\n",
    "```"
   ]
  },
  {
   "cell_type": "code",
   "execution_count": 40,
   "metadata": {},
   "outputs": [
    {
     "data": {
      "text/plain": [
       "array([0. , 0.5, 1. , 1.5, 2. ])"
      ]
     },
     "execution_count": 40,
     "metadata": {},
     "output_type": "execute_result"
    }
   ],
   "source": [
    "np.linspace(0,2,5)"
   ]
  },
  {
   "cell_type": "code",
   "execution_count": 41,
   "metadata": {},
   "outputs": [
    {
     "data": {
      "text/plain": [
       "array([ 0,  5, 10])"
      ]
     },
     "execution_count": 41,
     "metadata": {},
     "output_type": "execute_result"
    }
   ],
   "source": [
    "np.arange(0,11,5)"
   ]
  },
  {
   "cell_type": "markdown",
   "metadata": {},
   "source": [
    "**Creating identity Matrix**\n",
    "1. eye\n",
    "2. identity"
   ]
  },
  {
   "cell_type": "code",
   "execution_count": 42,
   "metadata": {},
   "outputs": [
    {
     "data": {
      "text/plain": [
       "array([[1, 0, 0],\n",
       "       [0, 1, 0],\n",
       "       [0, 0, 1]], dtype=int16)"
      ]
     },
     "execution_count": 42,
     "metadata": {},
     "output_type": "execute_result"
    },
    {
     "data": {
      "text/plain": [
       "array([[1, 0, 0],\n",
       "       [0, 1, 0],\n",
       "       [0, 0, 1]], dtype=int16)"
      ]
     },
     "execution_count": 42,
     "metadata": {},
     "output_type": "execute_result"
    },
    {
     "data": {
      "text/plain": [
       "array([[1, 0, 0],\n",
       "       [0, 1, 0],\n",
       "       [0, 0, 1]])"
      ]
     },
     "execution_count": 42,
     "metadata": {},
     "output_type": "execute_result"
    }
   ],
   "source": [
    "np.eye(N=3,dtype=np.int16)\n",
    "np.identity(n=3,dtype=np.int16)\n",
    "np.array([(1,0,0), (0,1,0),(0,0,1)])"
   ]
  },
  {
   "cell_type": "markdown",
   "metadata": {},
   "source": [
    "#### Load NumPy Arrays From Text"
   ]
  },
  {
   "cell_type": "code",
   "execution_count": 43,
   "metadata": {
    "collapsed": true
   },
   "outputs": [],
   "source": [
    "data1=np.loadtxt(Dataset+\"/emp.txt\",unpack=True,delimiter=' ', dtype=np.str)"
   ]
  },
  {
   "cell_type": "code",
   "execution_count": 44,
   "metadata": {
    "collapsed": true
   },
   "outputs": [],
   "source": [
    "data2=np.genfromtxt(Dataset+\"\\\\emp1.txt\",unpack=True,delimiter='\\t', dtype=np.str,filling_values='M', missing_values='M')"
   ]
  },
  {
   "cell_type": "code",
   "execution_count": 45,
   "metadata": {},
   "outputs": [
    {
     "data": {
      "text/plain": [
       "array([['677509', '940761', '428945', '408351', '193819', '499687',\n",
       "        '539712', '380086', '477616', '162402', '231469', '153989'],\n",
       "       ['Dr', 'Ms', 'Dr', 'Dr', 'Mr', 'Mr', 'Ms', 'Mrs', 'Hon', 'Hon',\n",
       "        'Mr', 'Prof'],\n",
       "       ['Lois', 'Brenda', 'Joe', 'Diane', 'Benjamin', 'Patrick', 'Nancy',\n",
       "        'Carol', 'Frances', 'Diana', 'Ralph', 'Jack'],\n",
       "       ['H', 'S', 'W', 'I', 'R', 'F', 'T', 'V', 'B', 'T', 'L', 'C'],\n",
       "       ['Walker', 'Robinson', 'Robinson', 'Evans', 'Russell', 'Bailey',\n",
       "        'Baker', 'Murphy', 'Young', 'Peterson', 'Flores', 'Alexander'],\n",
       "       ['F', 'F', 'M', 'F', 'M', 'M', 'F', 'F', 'F', 'F', 'M', 'M'],\n",
       "       ['lois.walker@hotmail.com', 'brenda.robinson@gmail.com',\n",
       "        'joe.robinson@gmail.com', 'diane.evans@yahoo.com',\n",
       "        'benjamin.russell@charter.net', 'patrick.bailey@aol.com',\n",
       "        'nancy.baker@bp.com', 'carol.murphy@gmail.com',\n",
       "        'frances.young@gmail.com', 'diana.peterson@hotmail.co.uk',\n",
       "        'ralph.flores@yahoo.com', 'jack.alexander@gmail.com']],\n",
       "      dtype='<U28')"
      ]
     },
     "execution_count": 45,
     "metadata": {},
     "output_type": "execute_result"
    }
   ],
   "source": [
    "data1"
   ]
  },
  {
   "cell_type": "code",
   "execution_count": 46,
   "metadata": {},
   "outputs": [
    {
     "data": {
      "text/plain": [
       "2"
      ]
     },
     "execution_count": 46,
     "metadata": {},
     "output_type": "execute_result"
    }
   ],
   "source": [
    "data2.ndim"
   ]
  },
  {
   "cell_type": "code",
   "execution_count": 47,
   "metadata": {},
   "outputs": [
    {
     "data": {
      "text/plain": [
       "[1, 2, 3, 4, 5, 6]"
      ]
     },
     "execution_count": 47,
     "metadata": {},
     "output_type": "execute_result"
    },
    {
     "data": {
      "text/plain": [
       "list"
      ]
     },
     "execution_count": 47,
     "metadata": {},
     "output_type": "execute_result"
    }
   ],
   "source": [
    "a=[1,2,3]\n",
    "b=[4,5,6]\n",
    "c=a+b\n",
    "c\n",
    "type(c)"
   ]
  },
  {
   "cell_type": "code",
   "execution_count": 48,
   "metadata": {},
   "outputs": [
    {
     "ename": "TypeError",
     "evalue": "unsupported operand type(s) for /: 'list' and 'list'",
     "output_type": "error",
     "traceback": [
      "\u001b[1;31m---------------------------------------------------------------------------\u001b[0m",
      "\u001b[1;31mTypeError\u001b[0m                                 Traceback (most recent call last)",
      "\u001b[1;32m<ipython-input-48-e419cabafdad>\u001b[0m in \u001b[0;36m<module>\u001b[1;34m()\u001b[0m\n\u001b[0;32m      2\u001b[0m \u001b[0mdistance\u001b[0m\u001b[1;33m=\u001b[0m\u001b[1;33m[\u001b[0m\u001b[1;36m45\u001b[0m\u001b[1;33m,\u001b[0m\u001b[1;36m50\u001b[0m\u001b[1;33m,\u001b[0m\u001b[1;36m35\u001b[0m\u001b[1;33m]\u001b[0m\u001b[1;33m\u001b[0m\u001b[0m\n\u001b[0;32m      3\u001b[0m \u001b[0mspeed\u001b[0m\u001b[1;33m=\u001b[0m\u001b[1;33m[\u001b[0m\u001b[1;36m5\u001b[0m\u001b[1;33m,\u001b[0m\u001b[1;36m10\u001b[0m\u001b[1;33m,\u001b[0m\u001b[1;36m7\u001b[0m\u001b[1;33m]\u001b[0m\u001b[1;33m\u001b[0m\u001b[0m\n\u001b[1;32m----> 4\u001b[1;33m \u001b[0mtime\u001b[0m \u001b[1;33m=\u001b[0m\u001b[0mdistance\u001b[0m\u001b[1;33m/\u001b[0m\u001b[0mspeed\u001b[0m\u001b[1;33m\u001b[0m\u001b[0m\n\u001b[0m",
      "\u001b[1;31mTypeError\u001b[0m: unsupported operand type(s) for /: 'list' and 'list'"
     ]
    }
   ],
   "source": [
    "# This will throw error is division and multiplication  is not allowed in list\n",
    "distance=[45,50,35]\n",
    "speed=[5,10,7]\n",
    "time =distance/speed"
   ]
  },
  {
   "cell_type": "code",
   "execution_count": 49,
   "metadata": {
    "collapsed": true
   },
   "outputs": [],
   "source": [
    "dist=np.array(distance)\n",
    "spd=np.array(speed)\n",
    "t=dist/spd"
   ]
  },
  {
   "cell_type": "code",
   "execution_count": 50,
   "metadata": {},
   "outputs": [
    {
     "data": {
      "text/plain": [
       "array([9., 5., 5.])"
      ]
     },
     "execution_count": 50,
     "metadata": {},
     "output_type": "execute_result"
    },
    {
     "data": {
      "text/plain": [
       "(3,)"
      ]
     },
     "execution_count": 50,
     "metadata": {},
     "output_type": "execute_result"
    },
    {
     "data": {
      "text/plain": [
       "1"
      ]
     },
     "execution_count": 50,
     "metadata": {},
     "output_type": "execute_result"
    },
    {
     "data": {
      "text/plain": [
       "dtype('float64')"
      ]
     },
     "execution_count": 50,
     "metadata": {},
     "output_type": "execute_result"
    },
    {
     "data": {
      "text/plain": [
       "3"
      ]
     },
     "execution_count": 50,
     "metadata": {},
     "output_type": "execute_result"
    },
    {
     "data": {
      "text/plain": [
       "3"
      ]
     },
     "execution_count": 50,
     "metadata": {},
     "output_type": "execute_result"
    },
    {
     "data": {
      "text/plain": [
       "'float64'"
      ]
     },
     "execution_count": 50,
     "metadata": {},
     "output_type": "execute_result"
    },
    {
     "data": {
      "text/plain": [
       "array([9, 5, 5])"
      ]
     },
     "execution_count": 50,
     "metadata": {},
     "output_type": "execute_result"
    },
    {
     "data": {
      "text/plain": [
       "dtype('int32')"
      ]
     },
     "execution_count": 50,
     "metadata": {},
     "output_type": "execute_result"
    }
   ],
   "source": [
    "t\n",
    "t.shape\n",
    "t.ndim\n",
    "t.dtype\n",
    "len(t)\n",
    "t.size\n",
    "t.dtype.name\n",
    "int_t=t.astype(np.int32)\n",
    "int_t\n",
    "int_t.dtype"
   ]
  },
  {
   "cell_type": "code",
   "execution_count": 51,
   "metadata": {
    "collapsed": true
   },
   "outputs": [],
   "source": [
    "c=np.array(np.arange(1,37,2)) # We are generating array starting from 1 and increament to 5 till 23"
   ]
  },
  {
   "cell_type": "code",
   "execution_count": 52,
   "metadata": {},
   "outputs": [
    {
     "data": {
      "text/plain": [
       "array([ 1,  3,  5,  7,  9, 11, 13, 15, 17, 19, 21, 23, 25, 27, 29, 31, 33,\n",
       "       35])"
      ]
     },
     "execution_count": 52,
     "metadata": {},
     "output_type": "execute_result"
    },
    {
     "data": {
      "text/plain": [
       "18"
      ]
     },
     "execution_count": 52,
     "metadata": {},
     "output_type": "execute_result"
    }
   ],
   "source": [
    "c\n",
    "c.size"
   ]
  },
  {
   "cell_type": "code",
   "execution_count": 53,
   "metadata": {},
   "outputs": [
    {
     "data": {
      "text/plain": [
       "2"
      ]
     },
     "execution_count": 53,
     "metadata": {},
     "output_type": "execute_result"
    },
    {
     "data": {
      "text/plain": [
       "array([[ 1,  3,  5],\n",
       "       [ 7,  9, 11],\n",
       "       [13, 15, 17],\n",
       "       [19, 21, 23],\n",
       "       [25, 27, 29],\n",
       "       [31, 33, 35]])"
      ]
     },
     "execution_count": 53,
     "metadata": {},
     "output_type": "execute_result"
    }
   ],
   "source": [
    "reshaped_2d=c.reshape(6,3)\n",
    "reshaped_2d.ndim\n",
    "reshaped_2d"
   ]
  },
  {
   "cell_type": "code",
   "execution_count": 54,
   "metadata": {},
   "outputs": [
    {
     "data": {
      "text/plain": [
       "3"
      ]
     },
     "execution_count": 54,
     "metadata": {},
     "output_type": "execute_result"
    },
    {
     "data": {
      "text/plain": [
       "array([[[ 1,  3],\n",
       "        [ 5,  7],\n",
       "        [ 9, 11]],\n",
       "\n",
       "       [[13, 15],\n",
       "        [17, 19],\n",
       "        [21, 23]],\n",
       "\n",
       "       [[25, 27],\n",
       "        [29, 31],\n",
       "        [33, 35]]])"
      ]
     },
     "execution_count": 54,
     "metadata": {},
     "output_type": "execute_result"
    },
    {
     "data": {
      "text/plain": [
       "(3, 3, 2)"
      ]
     },
     "execution_count": 54,
     "metadata": {},
     "output_type": "execute_result"
    },
    {
     "data": {
      "text/plain": [
       "18"
      ]
     },
     "execution_count": 54,
     "metadata": {},
     "output_type": "execute_result"
    },
    {
     "data": {
      "text/plain": [
       "dtype('int32')"
      ]
     },
     "execution_count": 54,
     "metadata": {},
     "output_type": "execute_result"
    },
    {
     "data": {
      "text/plain": [
       "35"
      ]
     },
     "execution_count": 54,
     "metadata": {},
     "output_type": "execute_result"
    },
    {
     "data": {
      "text/plain": [
       "1"
      ]
     },
     "execution_count": 54,
     "metadata": {},
     "output_type": "execute_result"
    },
    {
     "data": {
      "text/plain": [
       "18.0"
      ]
     },
     "execution_count": 54,
     "metadata": {},
     "output_type": "execute_result"
    }
   ],
   "source": [
    "reshaped_3d=c.reshape(3,3,2)\n",
    "reshaped_3d.ndim\n",
    "reshaped_3d\n",
    "reshaped_3d.shape\n",
    "reshaped_3d.size\n",
    "reshaped_3d.dtype\n",
    "reshaped_3d.max()\n",
    "reshaped_3d.min()\n",
    "reshaped_3d.mean()"
   ]
  },
  {
   "cell_type": "code",
   "execution_count": 55,
   "metadata": {
    "collapsed": true
   },
   "outputs": [],
   "source": [
    "linspc_array=np.array(np.linspace(1,100,48))"
   ]
  },
  {
   "cell_type": "code",
   "execution_count": 56,
   "metadata": {},
   "outputs": [
    {
     "data": {
      "text/plain": [
       "array([  1.  ,   3.11,   5.21,   7.32,   9.43,  11.53,  13.64,  15.74,\n",
       "        17.85,  19.96,  22.06,  24.17,  26.28,  28.38,  30.49,  32.6 ,\n",
       "        34.7 ,  36.81,  38.91,  41.02,  43.13,  45.23,  47.34,  49.45,\n",
       "        51.55,  53.66,  55.77,  57.87,  59.98,  62.09,  64.19,  66.3 ,\n",
       "        68.4 ,  70.51,  72.62,  74.72,  76.83,  78.94,  81.04,  83.15,\n",
       "        85.26,  87.36,  89.47,  91.57,  93.68,  95.79,  97.89, 100.  ])"
      ]
     },
     "execution_count": 56,
     "metadata": {},
     "output_type": "execute_result"
    },
    {
     "data": {
      "text/plain": [
       "array([  1.,   3.,   5.,   7.,   9.,  12.,  14.,  16.,  18.,  20.,  22.,\n",
       "        24.,  26.,  28.,  30.,  33.,  35.,  37.,  39.,  41.,  43.,  45.,\n",
       "        47.,  49.,  52.,  54.,  56.,  58.,  60.,  62.,  64.,  66.,  68.,\n",
       "        71.,  73.,  75.,  77.,  79.,  81.,  83.,  85.,  87.,  89.,  92.,\n",
       "        94.,  96.,  98., 100.])"
      ]
     },
     "execution_count": 56,
     "metadata": {},
     "output_type": "execute_result"
    }
   ],
   "source": [
    "linspc_array.round(2)\n",
    "np.round(linspc_array,0)"
   ]
  },
  {
   "cell_type": "code",
   "execution_count": 64,
   "metadata": {
    "collapsed": true
   },
   "outputs": [],
   "source": [
    "linspc_arr_3d=np.round(linspc_array,2).reshape(2,4,6)"
   ]
  },
  {
   "cell_type": "code",
   "execution_count": 70,
   "metadata": {},
   "outputs": [
    {
     "data": {
      "text/plain": [
       "array([[[  1,   3,   5,   7,   9,  11],\n",
       "        [ 13,  15,  17,  19,  22,  24],\n",
       "        [ 26,  28,  30,  32,  34,  36],\n",
       "        [ 38,  41,  43,  45,  47,  49]],\n",
       "\n",
       "       [[ 51,  53,  55,  57,  59,  62],\n",
       "        [ 64,  66,  68,  70,  72,  74],\n",
       "        [ 76,  78,  81,  83,  85,  87],\n",
       "        [ 89,  91,  93,  95,  97, 100]]])"
      ]
     },
     "execution_count": 70,
     "metadata": {},
     "output_type": "execute_result"
    },
    {
     "data": {
      "text/plain": [
       "3"
      ]
     },
     "execution_count": 70,
     "metadata": {},
     "output_type": "execute_result"
    },
    {
     "data": {
      "text/plain": [
       "array([[[  1.  ,   3.11,   5.21,   7.32,   9.43,  11.53],\n",
       "        [ 13.64,  15.74,  17.85,  19.96,  22.06,  24.17],\n",
       "        [ 26.28,  28.38,  30.49,  32.6 ,  34.7 ,  36.81],\n",
       "        [ 38.91,  41.02,  43.13,  45.23,  47.34,  49.45]],\n",
       "\n",
       "       [[ 51.55,  53.66,  55.77,  57.87,  59.98,  62.09],\n",
       "        [ 64.19,  66.3 ,  68.4 ,  70.51,  72.62,  74.72],\n",
       "        [ 76.83,  78.94,  81.04,  83.15,  85.26,  87.36],\n",
       "        [ 89.47,  91.57,  93.68,  95.79,  97.89, 100.  ]]])"
      ]
     },
     "execution_count": 70,
     "metadata": {},
     "output_type": "execute_result"
    }
   ],
   "source": [
    "linspc_arr_3d.astype('int')\n",
    "linspc_arr_3d.ndim\n",
    "linspc_arr_3d\n",
    "linspc_arr_3d_transposed=linspc_arr_3d.T\n"
   ]
  },
  {
   "cell_type": "code",
   "execution_count": 59,
   "metadata": {
    "collapsed": true
   },
   "outputs": [],
   "source": [
    "data2=np.array([(1,2,3,4),(5,6,7,8)])"
   ]
  },
  {
   "cell_type": "code",
   "execution_count": 60,
   "metadata": {},
   "outputs": [
    {
     "data": {
      "text/plain": [
       "2"
      ]
     },
     "execution_count": 60,
     "metadata": {},
     "output_type": "execute_result"
    },
    {
     "data": {
      "text/plain": [
       "8"
      ]
     },
     "execution_count": 60,
     "metadata": {},
     "output_type": "execute_result"
    },
    {
     "data": {
      "text/plain": [
       "(2, 4)"
      ]
     },
     "execution_count": 60,
     "metadata": {},
     "output_type": "execute_result"
    },
    {
     "data": {
      "text/plain": [
       "dtype('int32')"
      ]
     },
     "execution_count": 60,
     "metadata": {},
     "output_type": "execute_result"
    }
   ],
   "source": [
    "data2.ndim\n",
    "data2.size\n",
    "data2.shape\n",
    "data2.dtype"
   ]
  },
  {
   "cell_type": "code",
   "execution_count": 61,
   "metadata": {
    "collapsed": true
   },
   "outputs": [],
   "source": [
    "zeros=np.zeros(10).reshape(2,5)"
   ]
  },
  {
   "cell_type": "code",
   "execution_count": 62,
   "metadata": {},
   "outputs": [
    {
     "data": {
      "text/plain": [
       "array([[0., 0., 0., 0., 0.],\n",
       "       [0., 0., 0., 0., 0.]])"
      ]
     },
     "execution_count": 62,
     "metadata": {},
     "output_type": "execute_result"
    }
   ],
   "source": [
    "zeros"
   ]
  },
  {
   "cell_type": "code",
   "execution_count": 63,
   "metadata": {},
   "outputs": [
    {
     "data": {
      "text/plain": [
       "array([[[0, 0, 0, 0, 0],\n",
       "        [0, 0, 0, 0, 0],\n",
       "        [0, 0, 0, 0, 0]],\n",
       "\n",
       "       [[0, 0, 0, 0, 0],\n",
       "        [0, 0, 0, 0, 0],\n",
       "        [0, 0, 0, 0, 0]]], dtype=int16)"
      ]
     },
     "execution_count": 63,
     "metadata": {},
     "output_type": "execute_result"
    }
   ],
   "source": [
    "np.zeros((2,3,5),dtype=np.int16)"
   ]
  },
  {
   "cell_type": "code",
   "execution_count": 73,
   "metadata": {},
   "outputs": [
    {
     "data": {
      "text/plain": [
       "array([[[  1.  ,  51.55],\n",
       "        [ 13.64,  64.19],\n",
       "        [ 26.28,  76.83],\n",
       "        [ 38.91,  89.47]],\n",
       "\n",
       "       [[  3.11,  53.66],\n",
       "        [ 15.74,  66.3 ],\n",
       "        [ 28.38,  78.94],\n",
       "        [ 41.02,  91.57]],\n",
       "\n",
       "       [[  5.21,  55.77],\n",
       "        [ 17.85,  68.4 ],\n",
       "        [ 30.49,  81.04],\n",
       "        [ 43.13,  93.68]],\n",
       "\n",
       "       [[  7.32,  57.87],\n",
       "        [ 19.96,  70.51],\n",
       "        [ 32.6 ,  83.15],\n",
       "        [ 45.23,  95.79]],\n",
       "\n",
       "       [[  9.43,  59.98],\n",
       "        [ 22.06,  72.62],\n",
       "        [ 34.7 ,  85.26],\n",
       "        [ 47.34,  97.89]],\n",
       "\n",
       "       [[ 11.53,  62.09],\n",
       "        [ 24.17,  74.72],\n",
       "        [ 36.81,  87.36],\n",
       "        [ 49.45, 100.  ]]])"
      ]
     },
     "execution_count": 73,
     "metadata": {},
     "output_type": "execute_result"
    },
    {
     "data": {
      "text/plain": [
       "38"
      ]
     },
     "execution_count": 73,
     "metadata": {},
     "output_type": "execute_result"
    }
   ],
   "source": [
    "linspc_arr_3d_transposed\n",
    "(linspc_arr_3d_transposed>20).sum()"
   ]
  },
  {
   "cell_type": "code",
   "execution_count": 91,
   "metadata": {},
   "outputs": [
    {
     "data": {
      "text/plain": [
       "array([[0.12],\n",
       "       [0.2 ],\n",
       "       [0.14]])"
      ]
     },
     "execution_count": 91,
     "metadata": {},
     "output_type": "execute_result"
    },
    {
     "data": {
      "text/plain": [
       "array([[0.19, 0.99, 0.99, 0.52, 0.29],\n",
       "       [0.38, 0.14, 0.7 , 0.84, 0.36],\n",
       "       [0.1 , 0.81, 0.54, 0.18, 0.39]])"
      ]
     },
     "execution_count": 91,
     "metadata": {},
     "output_type": "execute_result"
    },
    {
     "data": {
      "text/plain": [
       "0.99"
      ]
     },
     "execution_count": 91,
     "metadata": {},
     "output_type": "execute_result"
    },
    {
     "data": {
      "text/plain": [
       "0.1"
      ]
     },
     "execution_count": 91,
     "metadata": {},
     "output_type": "execute_result"
    }
   ],
   "source": [
    "arr1=np.round(np.random.random(3).reshape(3,1),2)\n",
    "arr1\n",
    "arr2=np.round(np.random.random(15).reshape(3,5),2)\n",
    "arr2\n",
    "arr2.max()\n",
    "arr2.min()\n"
   ]
  },
  {
   "cell_type": "code",
   "execution_count": 84,
   "metadata": {},
   "outputs": [
    {
     "data": {
      "text/plain": [
       "0.5239999999999999"
      ]
     },
     "execution_count": 84,
     "metadata": {},
     "output_type": "execute_result"
    }
   ],
   "source": [
    "arr2.mean()"
   ]
  },
  {
   "cell_type": "code",
   "execution_count": 85,
   "metadata": {},
   "outputs": [
    {
     "data": {
      "text/plain": [
       "0.2983912420519968"
      ]
     },
     "execution_count": 85,
     "metadata": {},
     "output_type": "execute_result"
    }
   ],
   "source": [
    "arr2.std()"
   ]
  },
  {
   "cell_type": "code",
   "execution_count": 86,
   "metadata": {},
   "outputs": [
    {
     "data": {
      "text/plain": [
       "array([0.88, 1.45, 1.55, 1.98, 2.81, 3.7 , 3.72, 4.32, 4.67, 5.36, 5.77,\n",
       "       6.39, 6.82, 7.81, 7.86])"
      ]
     },
     "execution_count": 86,
     "metadata": {},
     "output_type": "execute_result"
    }
   ],
   "source": [
    "arr2.cumsum()"
   ]
  },
  {
   "cell_type": "code",
   "execution_count": 87,
   "metadata": {},
   "outputs": [
    {
     "data": {
      "text/plain": [
       "array([0.88, 0.57, 0.1 , 0.43, 0.83, 0.89, 0.02, 0.6 , 0.35, 0.69, 0.41,\n",
       "       0.62, 0.43, 0.99, 0.05])"
      ]
     },
     "execution_count": 87,
     "metadata": {},
     "output_type": "execute_result"
    }
   ],
   "source": [
    "arr2.flatten()"
   ]
  },
  {
   "cell_type": "code",
   "execution_count": 88,
   "metadata": {},
   "outputs": [
    {
     "data": {
      "text/plain": [
       "array([0.88, 0.57, 0.1 , 0.43, 0.83, 0.89, 0.02, 0.6 , 0.35, 0.69, 0.41,\n",
       "       0.62, 0.43, 0.99, 0.05])"
      ]
     },
     "execution_count": 88,
     "metadata": {},
     "output_type": "execute_result"
    }
   ],
   "source": [
    "arr2.ravel()"
   ]
  },
  {
   "cell_type": "markdown",
   "metadata": {},
   "source": [
    "**Broadcasting: where one array in summition is scalar array**\n",
    "```\n",
    "Scalar array where either row or column is of length 1\n",
    "```"
   ]
  },
  {
   "cell_type": "code",
   "execution_count": 93,
   "metadata": {},
   "outputs": [
    {
     "data": {
      "text/plain": [
       "array([[0.12],\n",
       "       [0.2 ],\n",
       "       [0.14]])"
      ]
     },
     "execution_count": 93,
     "metadata": {},
     "output_type": "execute_result"
    },
    {
     "data": {
      "text/plain": [
       "array([[0.19, 0.99, 0.99, 0.52, 0.29],\n",
       "       [0.38, 0.14, 0.7 , 0.84, 0.36],\n",
       "       [0.1 , 0.81, 0.54, 0.18, 0.39]])"
      ]
     },
     "execution_count": 93,
     "metadata": {},
     "output_type": "execute_result"
    },
    {
     "data": {
      "text/plain": [
       "array([[0.31, 1.11, 1.11, 0.64, 0.41],\n",
       "       [0.58, 0.34, 0.9 , 1.04, 0.56],\n",
       "       [0.24, 0.95, 0.68, 0.32, 0.53]])"
      ]
     },
     "execution_count": 93,
     "metadata": {},
     "output_type": "execute_result"
    }
   ],
   "source": [
    "arr1\n",
    "arr2\n",
    "arr3=arr1+arr2\n",
    "arr3"
   ]
  },
  {
   "cell_type": "code",
   "execution_count": 94,
   "metadata": {},
   "outputs": [
    {
     "data": {
      "text/plain": [
       "array([[0.12, 0.12, 0.12, 0.12, 0.12],\n",
       "       [0.2 , 0.2 , 0.2 , 0.2 , 0.2 ],\n",
       "       [0.14, 0.14, 0.14, 0.14, 0.14]])"
      ]
     },
     "execution_count": 94,
     "metadata": {},
     "output_type": "execute_result"
    }
   ],
   "source": [
    "arr4=arr3-arr2\n",
    "arr4"
   ]
  },
  {
   "cell_type": "code",
   "execution_count": 118,
   "metadata": {},
   "outputs": [
    {
     "data": {
      "text/plain": [
       "array([0.08, 0.8 , 0.25, 0.68, 0.53])"
      ]
     },
     "execution_count": 118,
     "metadata": {},
     "output_type": "execute_result"
    },
    {
     "data": {
      "text/plain": [
       "array([[0.31, 1.11, 1.11, 0.64, 0.41],\n",
       "       [0.58, 0.34, 0.9 , 1.04, 0.56],\n",
       "       [0.24, 0.95, 0.68, 0.32, 0.53]])"
      ]
     },
     "execution_count": 118,
     "metadata": {},
     "output_type": "execute_result"
    },
    {
     "data": {
      "text/plain": [
       "array([[0.39, 1.91, 1.36, 1.32, 0.94],\n",
       "       [0.66, 1.14, 1.15, 1.72, 1.09],\n",
       "       [0.32, 1.75, 0.93, 1.  , 1.06]])"
      ]
     },
     "execution_count": 118,
     "metadata": {},
     "output_type": "execute_result"
    }
   ],
   "source": [
    "arr5=np.round(np.random.random(5),2)\n",
    "arr5\n",
    "arr3\n",
    "arr6=arr3+arr5\n",
    "arr6"
   ]
  },
  {
   "cell_type": "markdown",
   "metadata": {},
   "source": [
    "**we can do any mathematical operation considering one of the array should be scalar**"
   ]
  },
  {
   "cell_type": "code",
   "execution_count": 98,
   "metadata": {},
   "outputs": [
    {
     "data": {
      "text/plain": [
       "array([[1.64516129, 0.31531532, 0.68468468, 0.75      , 0.70731707],\n",
       "       [0.87931034, 1.02941176, 0.84444444, 0.46153846, 0.51785714],\n",
       "       [2.125     , 0.36842105, 1.11764706, 1.5       , 0.54716981]])"
      ]
     },
     "execution_count": 98,
     "metadata": {},
     "output_type": "execute_result"
    },
    {
     "data": {
      "text/plain": [
       "array([[0.1581, 0.3885, 0.8436, 0.3072, 0.1189],\n",
       "       [0.2958, 0.119 , 0.684 , 0.4992, 0.1624],\n",
       "       [0.1224, 0.3325, 0.5168, 0.1536, 0.1537]])"
      ]
     },
     "execution_count": 98,
     "metadata": {},
     "output_type": "execute_result"
    },
    {
     "data": {
      "text/plain": [
       "array([[0.81160881, 0.3118283 , 0.73739992, 0.62516462, 0.60198155],\n",
       "       [0.67669147, 0.69981482, 0.78114604, 0.46611265, 0.49996877],\n",
       "       [0.85077916, 0.36886262, 0.82976143, 0.79067352, 0.51888479]])"
      ]
     },
     "execution_count": 98,
     "metadata": {},
     "output_type": "execute_result"
    },
    {
     "data": {
      "text/plain": [
       "array([[ 0.2 , -0.76, -0.35, -0.16, -0.12],\n",
       "       [-0.07,  0.01, -0.14, -0.56, -0.27],\n",
       "       [ 0.27, -0.6 ,  0.08,  0.16, -0.24]])"
      ]
     },
     "execution_count": 98,
     "metadata": {},
     "output_type": "execute_result"
    },
    {
     "data": {
      "text/plain": [
       "array([[0.82, 1.46, 1.87, 1.12, 0.7 ],\n",
       "       [1.09, 0.69, 1.66, 1.52, 0.85],\n",
       "       [0.75, 1.3 , 1.44, 0.8 , 0.82]])"
      ]
     },
     "execution_count": 98,
     "metadata": {},
     "output_type": "execute_result"
    }
   ],
   "source": [
    "arr5/arr3\n",
    "arr5*arr3\n",
    "arr5**arr3\n",
    "arr5-arr3\n",
    "arr5+arr3"
   ]
  },
  {
   "cell_type": "code",
   "execution_count": 120,
   "metadata": {},
   "outputs": [
    {
     "data": {
      "text/plain": [
       "array([0.08, 0.25, 0.53, 0.68, 0.8 ])"
      ]
     },
     "execution_count": 120,
     "metadata": {},
     "output_type": "execute_result"
    }
   ],
   "source": [
    "# Array are sorted by default  by row\n",
    "arr5.sort()\n",
    "np.sort(arr5)"
   ]
  },
  {
   "cell_type": "code",
   "execution_count": 123,
   "metadata": {},
   "outputs": [
    {
     "data": {
      "text/plain": [
       "array([[0.39, 1.91, 1.36, 1.32, 0.94],\n",
       "       [0.66, 1.14, 1.15, 1.72, 1.09],\n",
       "       [0.32, 1.75, 0.93, 1.  , 1.06]])"
      ]
     },
     "execution_count": 123,
     "metadata": {},
     "output_type": "execute_result"
    },
    {
     "data": {
      "text/plain": [
       "array([[0.32, 1.14, 0.93, 1.  , 0.94],\n",
       "       [0.39, 1.75, 1.15, 1.32, 1.06],\n",
       "       [0.66, 1.91, 1.36, 1.72, 1.09]])"
      ]
     },
     "execution_count": 123,
     "metadata": {},
     "output_type": "execute_result"
    },
    {
     "data": {
      "text/plain": [
       "array([[0.39, 0.94, 1.32, 1.36, 1.91],\n",
       "       [0.66, 1.09, 1.14, 1.15, 1.72],\n",
       "       [0.32, 0.93, 1.  , 1.06, 1.75]])"
      ]
     },
     "execution_count": 123,
     "metadata": {},
     "output_type": "execute_result"
    }
   ],
   "source": [
    "arr6\n",
    "np.sort(arr6, axis=0)# rowise sorting\n",
    "np.sort(arr6, axis=1)# column sorting\n"
   ]
  },
  {
   "cell_type": "code",
   "execution_count": 124,
   "metadata": {},
   "outputs": [
    {
     "data": {
      "text/plain": [
       "array([[False,  True,  True,  True,  True],\n",
       "       [False,  True,  True,  True,  True],\n",
       "       [False,  True,  True,  True,  True]])"
      ]
     },
     "execution_count": 124,
     "metadata": {},
     "output_type": "execute_result"
    }
   ],
   "source": [
    "arr6>0.7"
   ]
  },
  {
   "cell_type": "code",
   "execution_count": 143,
   "metadata": {},
   "outputs": [
    {
     "data": {
      "text/plain": [
       "0.39"
      ]
     },
     "execution_count": 143,
     "metadata": {},
     "output_type": "execute_result"
    },
    {
     "data": {
      "text/plain": [
       "1.91"
      ]
     },
     "execution_count": 143,
     "metadata": {},
     "output_type": "execute_result"
    },
    {
     "data": {
      "text/plain": [
       "array([1.15, 1.72, 1.09])"
      ]
     },
     "execution_count": 143,
     "metadata": {},
     "output_type": "execute_result"
    },
    {
     "data": {
      "text/plain": [
       "array([1.15, 1.72, 1.09])"
      ]
     },
     "execution_count": 143,
     "metadata": {},
     "output_type": "execute_result"
    }
   ],
   "source": [
    "arr6[0,0]\n",
    "arr6[0,1]\n",
    "arr6[1,2:]\n",
    "arr6[1,-3:]"
   ]
  },
  {
   "cell_type": "code",
   "execution_count": 149,
   "metadata": {},
   "outputs": [
    {
     "data": {
      "text/plain": [
       "array([[0.31, 1.11, 1.11, 0.64, 0.41],\n",
       "       [0.58, 0.34, 0.9 , 1.04, 0.56],\n",
       "       [0.24, 0.95, 0.68, 0.32, 0.53]])"
      ]
     },
     "execution_count": 149,
     "metadata": {},
     "output_type": "execute_result"
    },
    {
     "data": {
      "text/plain": [
       "array([[0.39, 1.91, 1.36, 1.32, 0.94],\n",
       "       [0.66, 1.14, 1.15, 1.72, 1.09],\n",
       "       [0.32, 1.75, 0.93, 1.  , 1.06]])"
      ]
     },
     "execution_count": 149,
     "metadata": {},
     "output_type": "execute_result"
    },
    {
     "data": {
      "text/plain": [
       "array([[ True,  True,  True,  True,  True],\n",
       "       [ True,  True,  True,  True,  True],\n",
       "       [ True,  True,  True,  True,  True]])"
      ]
     },
     "execution_count": 149,
     "metadata": {},
     "output_type": "execute_result"
    },
    {
     "data": {
      "text/plain": [
       "array([[False, False, False, False, False],\n",
       "       [False, False, False, False, False],\n",
       "       [False, False, False, False, False]])"
      ]
     },
     "execution_count": 149,
     "metadata": {},
     "output_type": "execute_result"
    },
    {
     "data": {
      "text/plain": [
       "False"
      ]
     },
     "execution_count": 149,
     "metadata": {},
     "output_type": "execute_result"
    }
   ],
   "source": [
    "arr3\n",
    "arr6\n",
    "arr3<arr6\n",
    "arr3==arr6\n",
    "np.array_equal(arr3,arr6)"
   ]
  },
  {
   "cell_type": "code",
   "execution_count": 150,
   "metadata": {},
   "outputs": [
    {
     "data": {
      "text/plain": [
       "array([[0.58, 0.34, 0.9 , 1.04, 0.56],\n",
       "       [0.24, 0.95, 0.68, 0.32, 0.53]])"
      ]
     },
     "execution_count": 150,
     "metadata": {},
     "output_type": "execute_result"
    }
   ],
   "source": [
    "arr3[[1,2]]"
   ]
  },
  {
   "cell_type": "markdown",
   "metadata": {},
   "source": [
    "**Fancy Indexing**"
   ]
  },
  {
   "cell_type": "code",
   "execution_count": 160,
   "metadata": {},
   "outputs": [
    {
     "data": {
      "text/plain": [
       "array([[0.34, 1.11, 1.04, 1.11],\n",
       "       [1.11, 0.56, 0.95, 0.64]])"
      ]
     },
     "execution_count": 160,
     "metadata": {},
     "output_type": "execute_result"
    }
   ],
   "source": [
    "arr3[[[1, 0, 1, 0],[0, 1, 2, 0]],[[1,2,3,1],[2,4,1,3]]]"
   ]
  },
  {
   "cell_type": "code",
   "execution_count": 161,
   "metadata": {},
   "outputs": [
    {
     "data": {
      "text/plain": [
       "array([[0.58, 0.34, 0.9 , 0.58],\n",
       "       [0.31, 1.11, 1.11, 0.31],\n",
       "       [0.58, 0.34, 0.9 , 0.58],\n",
       "       [0.31, 1.11, 1.11, 0.31]])"
      ]
     },
     "execution_count": 161,
     "metadata": {},
     "output_type": "execute_result"
    }
   ],
   "source": [
    "arr3[[1, 0, 1, 0]][:,[0,1,2,0]]"
   ]
  },
  {
   "cell_type": "code",
   "execution_count": 165,
   "metadata": {},
   "outputs": [
    {
     "data": {
      "text/plain": [
       "array([[3, 0, 0],\n",
       "       [0, 3, 0],\n",
       "       [0, 0, 3]])"
      ]
     },
     "execution_count": 165,
     "metadata": {},
     "output_type": "execute_result"
    },
    {
     "data": {
      "text/plain": [
       "array([[1, 0, 0],\n",
       "       [0, 1, 0],\n",
       "       [0, 0, 1]], dtype=int16)"
      ]
     },
     "execution_count": 165,
     "metadata": {},
     "output_type": "execute_result"
    }
   ],
   "source": [
    "np.diag(np.array([3,3,3]))\n",
    "np.identity(n=3,dtype=np.int16)"
   ]
  },
  {
   "cell_type": "code",
   "execution_count": 167,
   "metadata": {
    "collapsed": true
   },
   "outputs": [],
   "source": [
    "indexing=np.round(np.random.random(64).reshape(16,4),2)"
   ]
  },
  {
   "cell_type": "code",
   "execution_count": 168,
   "metadata": {},
   "outputs": [
    {
     "data": {
      "text/plain": [
       "array([[0.88, 0.33, 0.63, 0.51],\n",
       "       [0.52, 0.42, 0.08, 0.27],\n",
       "       [0.25, 0.8 , 0.61, 0.02],\n",
       "       [0.92, 0.77, 0.03, 0.9 ],\n",
       "       [0.08, 0.37, 0.7 , 0.23],\n",
       "       [0.9 , 0.22, 0.72, 0.44],\n",
       "       [0.3 , 0.66, 0.29, 0.84],\n",
       "       [0.19, 0.63, 0.69, 0.33],\n",
       "       [0.27, 0.37, 0.35, 0.8 ],\n",
       "       [0.74, 0.98, 0.3 , 0.7 ],\n",
       "       [0.4 , 0.89, 0.07, 0.01],\n",
       "       [0.06, 0.8 , 0.42, 0.97],\n",
       "       [0.96, 0.28, 0.99, 0.29],\n",
       "       [0.05, 0.66, 0.04, 0.16],\n",
       "       [0.38, 0.36, 0.37, 0.57],\n",
       "       [0.99, 0.29, 0.56, 0.33]])"
      ]
     },
     "execution_count": 168,
     "metadata": {},
     "output_type": "execute_result"
    }
   ],
   "source": [
    "indexing"
   ]
  },
  {
   "cell_type": "code",
   "execution_count": 169,
   "metadata": {},
   "outputs": [
    {
     "data": {
      "text/plain": [
       "array([[0.22, 0.72],\n",
       "       [0.66, 0.29],\n",
       "       [0.63, 0.69],\n",
       "       [0.37, 0.35],\n",
       "       [0.98, 0.3 ],\n",
       "       [0.89, 0.07]])"
      ]
     },
     "execution_count": 169,
     "metadata": {},
     "output_type": "execute_result"
    }
   ],
   "source": [
    "indexing[5:11,1:3]"
   ]
  },
  {
   "cell_type": "code",
   "execution_count": 170,
   "metadata": {
    "collapsed": true
   },
   "outputs": [],
   "source": [
    "import matplotlib.pyplot as plt\n",
    "%matplotlib inline"
   ]
  },
  {
   "cell_type": "code",
   "execution_count": 171,
   "metadata": {
    "collapsed": true
   },
   "outputs": [],
   "source": [
    "arr =np.linspace(0,15,40)"
   ]
  },
  {
   "cell_type": "code",
   "execution_count": 172,
   "metadata": {},
   "outputs": [
    {
     "data": {
      "text/plain": [
       "array([ 0.        ,  0.38461538,  0.76923077,  1.15384615,  1.53846154,\n",
       "        1.92307692,  2.30769231,  2.69230769,  3.07692308,  3.46153846,\n",
       "        3.84615385,  4.23076923,  4.61538462,  5.        ,  5.38461538,\n",
       "        5.76923077,  6.15384615,  6.53846154,  6.92307692,  7.30769231,\n",
       "        7.69230769,  8.07692308,  8.46153846,  8.84615385,  9.23076923,\n",
       "        9.61538462, 10.        , 10.38461538, 10.76923077, 11.15384615,\n",
       "       11.53846154, 11.92307692, 12.30769231, 12.69230769, 13.07692308,\n",
       "       13.46153846, 13.84615385, 14.23076923, 14.61538462, 15.        ])"
      ]
     },
     "execution_count": 172,
     "metadata": {},
     "output_type": "execute_result"
    }
   ],
   "source": [
    "arr"
   ]
  },
  {
   "cell_type": "code",
   "execution_count": 173,
   "metadata": {},
   "outputs": [
    {
     "data": {
      "text/plain": [
       "dtype('float64')"
      ]
     },
     "execution_count": 173,
     "metadata": {},
     "output_type": "execute_result"
    }
   ],
   "source": [
    "arr.dtype"
   ]
  },
  {
   "cell_type": "code",
   "execution_count": 174,
   "metadata": {
    "collapsed": true
   },
   "outputs": [],
   "source": [
    "add =arr+1"
   ]
  },
  {
   "cell_type": "code",
   "execution_count": 175,
   "metadata": {},
   "outputs": [
    {
     "data": {
      "text/plain": [
       "array([ 1.        ,  1.38461538,  1.76923077,  2.15384615,  2.53846154,\n",
       "        2.92307692,  3.30769231,  3.69230769,  4.07692308,  4.46153846,\n",
       "        4.84615385,  5.23076923,  5.61538462,  6.        ,  6.38461538,\n",
       "        6.76923077,  7.15384615,  7.53846154,  7.92307692,  8.30769231,\n",
       "        8.69230769,  9.07692308,  9.46153846,  9.84615385, 10.23076923,\n",
       "       10.61538462, 11.        , 11.38461538, 11.76923077, 12.15384615,\n",
       "       12.53846154, 12.92307692, 13.30769231, 13.69230769, 14.07692308,\n",
       "       14.46153846, 14.84615385, 15.23076923, 15.61538462, 16.        ])"
      ]
     },
     "execution_count": 175,
     "metadata": {},
     "output_type": "execute_result"
    }
   ],
   "source": [
    "add"
   ]
  },
  {
   "cell_type": "code",
   "execution_count": 176,
   "metadata": {
    "collapsed": true
   },
   "outputs": [],
   "source": [
    "sin_arr=np.sin(arr)"
   ]
  },
  {
   "cell_type": "code",
   "execution_count": 177,
   "metadata": {},
   "outputs": [
    {
     "data": {
      "text/plain": [
       "array([ 0.        ,  0.37520265,  0.69558279,  0.91432829,  0.99947728,\n",
       "        0.93858826,  0.740558  ,  0.43432157,  0.06462451, -0.31451512,\n",
       "       -0.64769957, -0.88624579, -0.99529876, -0.95892427, -0.78243716,\n",
       "       -0.49162472, -0.12897884,  0.2525127 ,  0.5971085 ,  0.85445817,\n",
       "        0.98695921,  0.97525132,  0.82104518,  0.54687254,  0.19279396,\n",
       "       -0.1894546 , -0.54402111, -0.81909832, -0.97449348, -0.98750113,\n",
       "       -0.85622067, -0.59983405, -0.25580306,  0.12560445,  0.48865933,\n",
       "        0.78031406,  0.95795369,  0.9956225 ,  0.88781655,  0.65028784])"
      ]
     },
     "execution_count": 177,
     "metadata": {},
     "output_type": "execute_result"
    }
   ],
   "source": [
    "sin_arr"
   ]
  },
  {
   "cell_type": "code",
   "execution_count": 178,
   "metadata": {},
   "outputs": [
    {
     "data": {
      "text/plain": [
       "[<matplotlib.lines.Line2D at 0x1204f8013c8>]"
      ]
     },
     "execution_count": 178,
     "metadata": {},
     "output_type": "execute_result"
    },
    {
     "data": {
      "image/png": "[encoded data removed]",
      "text/plain": [
       "<matplotlib.figure.Figure at 0x1204f4d48d0>"
      ]
     },
     "metadata": {},
     "output_type": "display_data"
    }
   ],
   "source": [
    "plt.plot(arr,sin_arr)"
   ]
  },
  {
   "cell_type": "code",
   "execution_count": 181,
   "metadata": {},
   "outputs": [
    {
     "data": {
      "text/plain": [
       "array([ 0.84147098,  0.98271834,  0.9803764 ,  0.83478738,  0.56722392,\n",
       "        0.21678089, -0.16533695, -0.52329668, -0.80479525, -0.96870165,\n",
       "       -0.99106681, -0.86862286, -0.61926062, -0.2794155 ,  0.10125625,\n",
       "        0.467133  ,  0.7647549 ,  0.95063512,  0.99761387,  0.89882689,\n",
       "        0.66870838,  0.34088196, -0.03675222, -0.40901637, -0.72151735,\n",
       "       -0.92859427, -0.99999021, -0.9252732 , -0.71536047, -0.40092329,\n",
       "       -0.02790545,  0.34918977,  0.67526335,  0.90267124,  0.99818589,\n",
       "        0.94785122,  0.75902186,  0.45928849,  0.09244646, -0.28790332])"
      ]
     },
     "execution_count": 181,
     "metadata": {},
     "output_type": "execute_result"
    },
    {
     "data": {
      "text/plain": [
       "array([ 1.        ,  1.38461538,  1.76923077,  2.15384615,  2.53846154,\n",
       "        2.92307692,  3.30769231,  3.69230769,  4.07692308,  4.46153846,\n",
       "        4.84615385,  5.23076923,  5.61538462,  6.        ,  6.38461538,\n",
       "        6.76923077,  7.15384615,  7.53846154,  7.92307692,  8.30769231,\n",
       "        8.69230769,  9.07692308,  9.46153846,  9.84615385, 10.23076923,\n",
       "       10.61538462, 11.        , 11.38461538, 11.76923077, 12.15384615,\n",
       "       12.53846154, 12.92307692, 13.30769231, 13.69230769, 14.07692308,\n",
       "       14.46153846, 14.84615385, 15.23076923, 15.61538462, 16.        ])"
      ]
     },
     "execution_count": 181,
     "metadata": {},
     "output_type": "execute_result"
    }
   ],
   "source": [
    "sin_add=np.sin(add)\n",
    "sin_add\n",
    "add"
   ]
  },
  {
   "cell_type": "code",
   "execution_count": 180,
   "metadata": {},
   "outputs": [
    {
     "data": {
      "text/plain": [
       "[<matplotlib.lines.Line2D at 0x1204f7fb518>]"
      ]
     },
     "execution_count": 180,
     "metadata": {},
     "output_type": "execute_result"
    },
    {
     "data": {
      "image/png": "[encoded data removed]",
      "text/plain": [
       "<matplotlib.figure.Figure at 0x1204f3d8c88>"
      ]
     },
     "metadata": {},
     "output_type": "display_data"
    }
   ],
   "source": [
    "plt.plot(add,sin_add)"
   ]
  },
  {
   "cell_type": "code",
   "execution_count": null,
   "metadata": {
    "collapsed": true
   },
   "outputs": [],
   "source": []
  }
 ],
 "metadata": {
  "kernelspec": {
   "display_name": "Python 3",
   "language": "python",
   "name": "python3"
  },
  "language_info": {
   "codemirror_mode": {
    "name": "ipython",
    "version": 3
   },
   "file_extension": ".py",
   "mimetype": "text/x-python",
   "name": "python",
   "nbconvert_exporter": "python",
   "pygments_lexer": "ipython3",
   "version": "3.6.1"
  }
 },
 "nbformat": 4,
 "nbformat_minor": 2
}
