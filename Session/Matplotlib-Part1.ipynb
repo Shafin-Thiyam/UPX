{
 "cells": [
  {
   "cell_type": "markdown",
   "metadata": {},
   "source": [
    "# Matplotlib"
   ]
  },
  {
   "cell_type": "code",
   "execution_count": 1,
   "metadata": {},
   "outputs": [],
   "source": [
    "from IPython.core.interactiveshell import InteractiveShell\n",
    "InteractiveShell.ast_node_interactivity = \"all\"\n",
    "import numpy as np\n",
    "import pandas as pd\n",
    "import matplotlib.pyplot as plt\n",
    "%matplotlib inline"
   ]
  },
  {
   "cell_type": "markdown",
   "metadata": {},
   "source": [
    "1. 1D data is called series data\n",
    "2. 2D data is called dataframe data\n",
    "3. 3D and above data is called panel data"
   ]
  },
  {
   "cell_type": "code",
   "execution_count": 2,
   "metadata": {},
   "outputs": [],
   "source": [
    "Dataset=\"../Datasets\""
   ]
  },
  {
   "cell_type": "markdown",
   "metadata": {},
   "source": [
    "**There are 3 type of Data structure in pandas**\n",
    "1. Series: It is 1D array which assign index to each value.\n",
    "2. Dataframe: It is 2D array. Its a tabular data structure.\n",
    "3. Panel: It has 3 dimensional and more dimensional array."
   ]
  },
  {
   "cell_type": "markdown",
   "metadata": {},
   "source": [
    "# Read CSV file and creating dataframe"
   ]
  },
  {
   "cell_type": "code",
   "execution_count": 3,
   "metadata": {},
   "outputs": [],
   "source": [
    "cars_df=pd.read_csv(Dataset+'/cars.csv')"
   ]
  },
  {
   "cell_type": "code",
   "execution_count": 4,
   "metadata": {},
   "outputs": [],
   "source": [
    "#We can change column name to our requirement\n",
    "\n",
    "cars_df.columns=['Model','Actual_MPG', 'cylinder','Engine_disp', 'horsepower','weight','accelarate','year','origin']"
   ]
  },
  {
   "cell_type": "markdown",
   "metadata": {},
   "source": [
    "**Correlation**\n",
    "```\n",
    "How factor x1  is co related to x2\n",
    "```"
   ]
  },
  {
   "cell_type": "markdown",
   "metadata": {},
   "source": [
    "**Here x2 and x1 is changing in same direction this is called Positive Correlation**\n",
    "<img src=\"corr.jpg\" width=\"250\"/>\n",
    "```\n",
    "Closer its to '1' stronger the positive correlation and in other word its 100% positive correlated\n",
    "```"
   ]
  },
  {
   "cell_type": "markdown",
   "metadata": {},
   "source": [
    "**Here x2 and x1 is changing in different direction this is called negative correlation**\n",
    "<img src=\"corr2.jpg\" width=\"250\"/>\n",
    "```\n",
    "Closer its to '-1' stronger the negative correlation and in other word its 100% negative correlated\n",
    "```"
   ]
  },
  {
   "cell_type": "markdown",
   "metadata": {},
   "source": [
    "**Here x1 changes but has no effect on x2 this is called No correlation or uncorrelated**\n",
    "<img src=\"corr3.jpg\" width=\"250\"/>"
   ]
  },
  {
   "cell_type": "markdown",
   "metadata": {},
   "source": [
    "```Point to remember```\n",
    "1. Correlation coeficieant can be between +1 and -1\n",
    "2. If correlation is close to +1 its positive correlated and if its close to -1 its negative correlation and if its 0 then no correlation"
   ]
  },
  {
   "cell_type": "markdown",
   "metadata": {},
   "source": [
    "```\n",
    "From below considering \"Actual MPG\" has strong negative correlation with \"weight\".\n",
    "```\n",
    "```\n",
    "It means If weight increase Acutal MPG will decrease and vice versa.\n",
    "```\n",
    "```\n",
    "From below considering \"Actual MPG\" has positive correlation with \"Accelerated\"/\"year\".\n",
    "```\n",
    "```\n",
    "It means If Accelerate increase Acutal MPG will increase and vice versa.\n",
    "```\n",
    "```\n",
    "If vehicle is newer Acutal MPG will also increase and vice versa.\n",
    "```"
   ]
  },
  {
   "cell_type": "code",
   "execution_count": 5,
   "metadata": {},
   "outputs": [],
   "source": [
    "cars_df_correlation=round(cars_df.corr(),2)"
   ]
  },
  {
   "cell_type": "markdown",
   "metadata": {},
   "source": [
    "# Covarience Is bit technical need to check later\n",
    "**cars_df.cov()**"
   ]
  },
  {
   "cell_type": "markdown",
   "metadata": {},
   "source": [
    "## Groupby"
   ]
  },
  {
   "cell_type": "code",
   "execution_count": 6,
   "metadata": {},
   "outputs": [],
   "source": [
    "cars_grp_median=round(cars_df.groupby('origin').median())"
   ]
  },
  {
   "cell_type": "code",
   "execution_count": 7,
   "metadata": {},
   "outputs": [],
   "source": [
    "cars_grp_mean=round(cars_df.groupby('origin').mean())"
   ]
  },
  {
   "cell_type": "markdown",
   "metadata": {},
   "source": [
    "# Pivot Table Demo\n",
    "\n",
    "**Summerizing data in table in different bucket.A pivot table allows you to extract the significance from a large, detailed data set.**\n",
    "```Create a spreadsheet-style pivot table as a DataFrame. The levels in the pivot table will be stored in MultiIndex objects (hierarchical indexes) on the index and columns of the result DataFrame```"
   ]
  },
  {
   "cell_type": "code",
   "execution_count": 8,
   "metadata": {},
   "outputs": [],
   "source": [
    "car_table1=pd.pivot_table(cars_df,values='Actual_MPG',index=['cylinder','origin'], columns='year',aggfunc=np.median)"
   ]
  },
  {
   "cell_type": "code",
   "execution_count": 9,
   "metadata": {},
   "outputs": [],
   "source": [
    "car_table2=pd.pivot_table(cars_df,values='Actual_MPG',index=['cylinder'], columns='year',aggfunc=np.median)\n"
   ]
  },
  {
   "cell_type": "code",
   "execution_count": 10,
   "metadata": {},
   "outputs": [],
   "source": [
    "car_table3=pd.pivot_table(cars_df,values='Actual_MPG',index=['cylinder'],aggfunc=np.mean)\n"
   ]
  },
  {
   "cell_type": "code",
   "execution_count": 11,
   "metadata": {},
   "outputs": [],
   "source": [
    "car_comprehensive_table=pd.pivot_table(cars_df,values=['Actual_MPG','weight'],index=['cylinder','origin'],columns=['year','horsepower'] ,aggfunc=np.mean)"
   ]
  },
  {
   "cell_type": "markdown",
   "metadata": {},
   "source": [
    "# Matplotlib"
   ]
  },
  {
   "cell_type": "markdown",
   "metadata": {},
   "source": [
    "## Below is the sample code. \n",
    "[Matplotlib](https://matplotlib.org/gallery)"
   ]
  },
  {
   "cell_type": "markdown",
   "metadata": {},
   "source": [
    "### Cross- and Auto-Correlation Demo"
   ]
  },
  {
   "cell_type": "code",
   "execution_count": 16,
   "metadata": {},
   "outputs": [
    {
     "data": {
      "image/png": "[encoded data removed]",
      "text/plain": [
       "<matplotlib.figure.Figure at 0x2131412d780>"
      ]
     },
     "metadata": {},
     "output_type": "display_data"
    }
   ],
   "source": [
    "import matplotlib.pyplot as plt\n",
    "import numpy as np\n",
    "\n",
    "\n",
    "# Fixing random state for reproducibility\n",
    "np.random.seed(19680801)\n",
    "\n",
    "\n",
    "x, y = np.random.randn(2, 100)\n",
    "fig, [ax1, ax2] = plt.subplots(2, 1, sharex=True)\n",
    "ax1.xcorr(x, y, usevlines=True, maxlags=50, normed=True, lw=2)\n",
    "ax1.grid(True)\n",
    "ax1.axhline(0, color='black', lw=2)\n",
    "\n",
    "ax2.acorr(x, usevlines=True, normed=True, maxlags=50, lw=2)\n",
    "ax2.grid(True)\n",
    "ax2.axhline(0, color='black', lw=2)\n",
    "\n",
    "plt.show();"
   ]
  },
  {
   "cell_type": "markdown",
   "metadata": {},
   "source": [
    "### Stacked Bar Graph"
   ]
  },
  {
   "cell_type": "code",
   "execution_count": 17,
   "metadata": {},
   "outputs": [
    {
     "data": {
      "image/png": "[encoded data removed]",
      "text/plain": [
       "<matplotlib.figure.Figure at 0x213142acbe0>"
      ]
     },
     "metadata": {},
     "output_type": "display_data"
    }
   ],
   "source": [
    "import numpy as np\n",
    "import matplotlib.pyplot as plt\n",
    "\n",
    "\n",
    "N = 5\n",
    "menMeans = (20, 35, 30, 35, 27)\n",
    "womenMeans = (25, 32, 34, 20, 25)\n",
    "menStd = (2, 3, 4, 1, 2)\n",
    "womenStd = (3, 5, 2, 3, 3)\n",
    "ind = np.arange(N)    # the x locations for the groups\n",
    "width = 0.35       # the width of the bars: can also be len(x) sequence\n",
    "\n",
    "p1 = plt.bar(ind, menMeans, width, yerr=menStd)\n",
    "p2 = plt.bar(ind, womenMeans, width,\n",
    "             bottom=menMeans, yerr=womenStd)\n",
    "\n",
    "plt.ylabel('Scores')\n",
    "plt.title('Scores by group and gender')\n",
    "plt.xticks(ind, ('G1', 'G2', 'G3', 'G4', 'G5'))\n",
    "plt.yticks(np.arange(0, 81, 10))\n",
    "plt.legend((p1[0], p2[0]), ('Men', 'Women'))\n",
    "\n",
    "plt.show();"
   ]
  },
  {
   "cell_type": "code",
   "execution_count": 19,
   "metadata": {},
   "outputs": [
    {
     "data": {
      "text/html": [
       "<div>\n",
       "<style scoped>\n",
       "    .dataframe tbody tr th:only-of-type {\n",
       "        vertical-align: middle;\n",
       "    }\n",
       "\n",
       "    .dataframe tbody tr th {\n",
       "        vertical-align: top;\n",
       "    }\n",
       "\n",
       "    .dataframe thead th {\n",
       "        text-align: right;\n",
       "    }\n",
       "</style>\n",
       "<table border=\"1\" class=\"dataframe\">\n",
       "  <thead>\n",
       "    <tr style=\"text-align: right;\">\n",
       "      <th></th>\n",
       "      <th>Actual_MPG</th>\n",
       "      <th>cylinder</th>\n",
       "      <th>Engine_disp</th>\n",
       "      <th>horsepower</th>\n",
       "      <th>weight</th>\n",
       "      <th>accelarate</th>\n",
       "      <th>year</th>\n",
       "    </tr>\n",
       "  </thead>\n",
       "  <tbody>\n",
       "    <tr>\n",
       "      <th>Actual_MPG</th>\n",
       "      <td>1.00</td>\n",
       "      <td>-0.78</td>\n",
       "      <td>-0.81</td>\n",
       "      <td>-0.78</td>\n",
       "      <td>-0.83</td>\n",
       "      <td>0.42</td>\n",
       "      <td>0.58</td>\n",
       "    </tr>\n",
       "    <tr>\n",
       "      <th>cylinder</th>\n",
       "      <td>-0.78</td>\n",
       "      <td>1.00</td>\n",
       "      <td>0.95</td>\n",
       "      <td>0.84</td>\n",
       "      <td>0.90</td>\n",
       "      <td>-0.50</td>\n",
       "      <td>-0.35</td>\n",
       "    </tr>\n",
       "    <tr>\n",
       "      <th>Engine_disp</th>\n",
       "      <td>-0.81</td>\n",
       "      <td>0.95</td>\n",
       "      <td>1.00</td>\n",
       "      <td>0.90</td>\n",
       "      <td>0.93</td>\n",
       "      <td>-0.54</td>\n",
       "      <td>-0.37</td>\n",
       "    </tr>\n",
       "    <tr>\n",
       "      <th>horsepower</th>\n",
       "      <td>-0.78</td>\n",
       "      <td>0.84</td>\n",
       "      <td>0.90</td>\n",
       "      <td>1.00</td>\n",
       "      <td>0.86</td>\n",
       "      <td>-0.69</td>\n",
       "      <td>-0.42</td>\n",
       "    </tr>\n",
       "    <tr>\n",
       "      <th>weight</th>\n",
       "      <td>-0.83</td>\n",
       "      <td>0.90</td>\n",
       "      <td>0.93</td>\n",
       "      <td>0.86</td>\n",
       "      <td>1.00</td>\n",
       "      <td>-0.42</td>\n",
       "      <td>-0.31</td>\n",
       "    </tr>\n",
       "    <tr>\n",
       "      <th>accelarate</th>\n",
       "      <td>0.42</td>\n",
       "      <td>-0.50</td>\n",
       "      <td>-0.54</td>\n",
       "      <td>-0.69</td>\n",
       "      <td>-0.42</td>\n",
       "      <td>1.00</td>\n",
       "      <td>0.29</td>\n",
       "    </tr>\n",
       "    <tr>\n",
       "      <th>year</th>\n",
       "      <td>0.58</td>\n",
       "      <td>-0.35</td>\n",
       "      <td>-0.37</td>\n",
       "      <td>-0.42</td>\n",
       "      <td>-0.31</td>\n",
       "      <td>0.29</td>\n",
       "      <td>1.00</td>\n",
       "    </tr>\n",
       "  </tbody>\n",
       "</table>\n",
       "</div>"
      ],
      "text/plain": [
       "             Actual_MPG  cylinder  Engine_disp  horsepower  weight  \\\n",
       "Actual_MPG         1.00     -0.78        -0.81       -0.78   -0.83   \n",
       "cylinder          -0.78      1.00         0.95        0.84    0.90   \n",
       "Engine_disp       -0.81      0.95         1.00        0.90    0.93   \n",
       "horsepower        -0.78      0.84         0.90        1.00    0.86   \n",
       "weight            -0.83      0.90         0.93        0.86    1.00   \n",
       "accelarate         0.42     -0.50        -0.54       -0.69   -0.42   \n",
       "year               0.58     -0.35        -0.37       -0.42   -0.31   \n",
       "\n",
       "             accelarate  year  \n",
       "Actual_MPG         0.42  0.58  \n",
       "cylinder          -0.50 -0.35  \n",
       "Engine_disp       -0.54 -0.37  \n",
       "horsepower        -0.69 -0.42  \n",
       "weight            -0.42 -0.31  \n",
       "accelarate         1.00  0.29  \n",
       "year               0.29  1.00  "
      ]
     },
     "execution_count": 19,
     "metadata": {},
     "output_type": "execute_result"
    }
   ],
   "source": [
    "cars_df_correlation"
   ]
  },
  {
   "cell_type": "code",
   "execution_count": 30,
   "metadata": {},
   "outputs": [
    {
     "data": {
      "image/png": "[encoded data removed]",
      "text/plain": [
       "<matplotlib.figure.Figure at 0x213170c1e80>"
      ]
     },
     "metadata": {},
     "output_type": "display_data"
    }
   ],
   "source": [
    "plt.scatter(cars_df.weight, cars_df.Actual_MPG,color='orange')\n",
    "plt.xlabel ('Weight')\n",
    "plt.ylabel ('MPG')\n",
    "plt.show;"
   ]
  },
  {
   "cell_type": "code",
   "execution_count": 29,
   "metadata": {},
   "outputs": [
    {
     "data": {
      "image/png": "[encoded data removed]",
      "text/plain": [
       "<matplotlib.figure.Figure at 0x2131760a550>"
      ]
     },
     "metadata": {},
     "output_type": "display_data"
    }
   ],
   "source": [
    "plt.scatter(cars_df_correlation.weight, cars_df_correlation.Actual_MPG,color='orange')\n",
    "plt.xlabel ('Weight')\n",
    "plt.ylabel ('MPG')\n",
    "plt.show;"
   ]
  },
  {
   "cell_type": "code",
   "execution_count": 34,
   "metadata": {},
   "outputs": [
    {
     "data": {
      "image/png": "[encoded data removed]",
      "text/plain": [
       "<matplotlib.figure.Figure at 0x213176632e8>"
      ]
     },
     "metadata": {},
     "output_type": "display_data"
    }
   ],
   "source": [
    "plt.plot(cars_df.horsepower,cars_df.Actual_MPG,'b',linestyle = '--',color='red', linewidth=1)\n",
    "plt.xlabel ('Horsepower')\n",
    "plt.ylabel ('MPG')\n",
    "plt.title('Horsepower verses MPG')\n",
    "plt.show();"
   ]
  },
  {
   "cell_type": "code",
   "execution_count": null,
   "metadata": {},
   "outputs": [],
   "source": []
  }
 ],
 "metadata": {
  "kernelspec": {
   "display_name": "Python 3",
   "language": "python",
   "name": "python3"
  },
  "language_info": {
   "codemirror_mode": {
    "name": "ipython",
    "version": 3
   },
   "file_extension": ".py",
   "mimetype": "text/x-python",
   "name": "python",
   "nbconvert_exporter": "python",
   "pygments_lexer": "ipython3",
   "version": "3.6.4"
  }
 },
 "nbformat": 4,
 "nbformat_minor": 2
}
