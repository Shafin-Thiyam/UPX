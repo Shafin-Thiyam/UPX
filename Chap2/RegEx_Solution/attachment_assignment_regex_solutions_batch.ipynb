{
 "cells": [
  {
   "cell_type": "markdown",
   "metadata": {},
   "source": [
    "#                     Regex Assignment Solutions"
   ]
  },
  {
   "cell_type": "markdown",
   "metadata": {},
   "source": [
    "# Regex\n",
    "### The data is present in a html file. The data is the baby names sorted by popularity for the year 1998.\n",
    "1. **Create a function for the following questions in python**\n",
    "2. Find a way to get this data into python list and print the data.\n",
    "3. Find and extract the year and print it\n",
    "4. Extract the names and rank numbers and print them\n",
    "5. Get the names data into a dictionary and print it. Store data into a dictionary using each name as a key and that name's rank number as the value.\n",
    "6. Build the [year, 'name rank', ... ] list and print it. The list format should be ‘year’ followed by name and rank in ascending order e.g: ['1998', 'Aaliyah 222', 'Aaron 37', 'Abbey 408', 'Abbie 603', 'Abbigail 612', 'Abby 194', 'Abdul 970', 'Abdullah 897',…………..] To learn more about regex go to: https://regexr.com "
   ]
  },
  {
   "cell_type": "code",
   "execution_count": 2,
   "metadata": {},
   "outputs": [],
   "source": [
    "#importing required packages\n",
    "import sys\n",
    "import re"
   ]
  },
  {
   "cell_type": "code",
   "execution_count": 6,
   "metadata": {},
   "outputs": [],
   "source": [
    "def extract_names(filename):\n",
    "  names=[]\n",
    "  # Open and read the file.\n",
    "  f = open(filename, 'r')\n",
    "  text = f.read()\n",
    "  #print(text)\n",
    "  \n",
    "  # Get the year.\n",
    "  year_match = re.search(r'Popularity\\sin\\s(\\d\\d\\d\\d)', text)\n",
    "  if not year_match:\n",
    "    # We didn't find a year, so we'll exit with an error message.\n",
    "    sys.stderr.write('Couldn\\'t find the year!\\n')\n",
    "    sys.exit(1)\n",
    "  year = year_match.group(1)\n",
    "  names.append(year)\n",
    "  #print(year)\n",
    "\n",
    "  # Extract all the data tuples with a findall()\n",
    "  # each tuple is: (rank, boy-name, girl-name)\n",
    "  tuples = re.findall(r'<td>(\\d+)</td><td>(\\w+)</td>\\<td>(\\w+)</td>', text)\n",
    "  #print(tuples)\n",
    "\n",
    "  # Store data into a dict using each name as a key and that\n",
    "  # name's rank number as the value.\n",
    "  # (if the name is already in there, don't add it, since\n",
    "  # this new rank will be bigger than the previous rank).\n",
    "  names_to_rank =  {}\n",
    "  for rank_tuple in tuples:\n",
    "    (rank, boyname, girlname) = rank_tuple  # unpack the tuple into 3 vars\n",
    "    if boyname not in names_to_rank:\n",
    "      names_to_rank[boyname] = rank\n",
    "    if girlname not in names_to_rank:\n",
    "      names_to_rank[girlname] = rank\n",
    "\n",
    "  # Get the names, sorted in the right order\n",
    "  sorted_names = sorted(names_to_rank.keys())\n",
    "\n",
    "  # Build up result list, one element per line\n",
    "  for name in sorted_names:\n",
    "    names.append(name + \" \" + names_to_rank[name])\n",
    "\n",
    "  return names\n",
    "  # LAB(replace solution)\n",
    "  # return\n",
    "  # LAB(end solution)"
   ]
  },
  {
   "cell_type": "code",
   "execution_count": 19,
   "metadata": {},
   "outputs": [],
   "source": [
    "extrlist=extract_names(\"..//baby1998.html\")"
   ]
  },
  {
   "cell_type": "code",
   "execution_count": 21,
   "metadata": {},
   "outputs": [
    {
     "data": {
      "text/plain": [
       "'1998'"
      ]
     },
     "execution_count": 21,
     "metadata": {},
     "output_type": "execute_result"
    }
   ],
   "source": [
    "extrlist[0]"
   ]
  },
  {
   "cell_type": "code",
   "execution_count": null,
   "metadata": {},
   "outputs": [],
   "source": [
    "list"
   ]
  }
 ],
 "metadata": {
  "kernelspec": {
   "display_name": "Python 3",
   "language": "python",
   "name": "python3"
  },
  "language_info": {
   "codemirror_mode": {
    "name": "ipython",
    "version": 3
   },
   "file_extension": ".py",
   "mimetype": "text/x-python",
   "name": "python",
   "nbconvert_exporter": "python",
   "pygments_lexer": "ipython3",
   "version": "3.6.4"
  }
 },
 "nbformat": 4,
 "nbformat_minor": 2
}
