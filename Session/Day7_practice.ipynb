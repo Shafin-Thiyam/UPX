{
 "cells": [
  {
   "cell_type": "markdown",
   "metadata": {},
   "source": [
    "## Day 7"
   ]
  },
  {
   "cell_type": "code",
   "execution_count": 1,
   "metadata": {},
   "outputs": [],
   "source": [
    "Dataset=\"F:\\\\UPX_TechM\\\\Data Analytic\\\\Practicals\\\\Datasets\""
   ]
  },
  {
   "cell_type": "code",
   "execution_count": 2,
   "metadata": {},
   "outputs": [],
   "source": [
    "from IPython.core.interactiveshell import InteractiveShell\n",
    "InteractiveShell.ast_node_interactivity = \"all\""
   ]
  },
  {
   "cell_type": "markdown",
   "metadata": {},
   "source": [
    "1. Function\n",
    "   - lambda function\n",
    "2.\texception handling\n",
    "3.\tsets\n",
    "4.\tModules\n",
    "5.\tNumpy\n",
    "6.  **Panda <--**    \n",
    "```\n",
    "Sit on top of numpy\n",
    "```\n",
    "```\n",
    "It has tabular struc\n",
    "```\n",
    "```\n",
    "data mani, clean, merging, pivot anything to do with data\n",
    "```\n",
    "\n"
   ]
  },
  {
   "cell_type": "code",
   "execution_count": 3,
   "metadata": {},
   "outputs": [],
   "source": [
    "import numpy as np\n",
    "import pandas as pd"
   ]
  },
  {
   "cell_type": "code",
   "execution_count": 4,
   "metadata": {},
   "outputs": [],
   "source": [
    "from matplotlib import pyplot as py"
   ]
  },
  {
   "cell_type": "code",
   "execution_count": 5,
   "metadata": {},
   "outputs": [
    {
     "data": {
      "text/plain": [
       "array([[0.75, 0.06, 0.71, 0.09],\n",
       "       [0.49, 0.94, 0.09, 0.61],\n",
       "       [0.38, 0.92, 0.96, 0.78],\n",
       "       [0.5 , 0.19, 0.77, 0.33],\n",
       "       [0.09, 0.94, 0.48, 0.74],\n",
       "       [0.57, 0.37, 0.69, 0.24],\n",
       "       [0.24, 0.94, 0.37, 0.61],\n",
       "       [0.77, 0.56, 0.19, 0.69],\n",
       "       [0.64, 0.9 , 0.68, 0.52],\n",
       "       [0.83, 0.64, 0.75, 0.55],\n",
       "       [0.89, 0.29, 0.36, 0.15],\n",
       "       [0.85, 0.54, 0.16, 0.56],\n",
       "       [0.6 , 0.79, 0.95, 0.58],\n",
       "       [0.71, 0.03, 0.01, 0.17],\n",
       "       [0.55, 0.02, 0.1 , 0.31],\n",
       "       [0.63, 0.84, 0.72, 0.6 ]])"
      ]
     },
     "execution_count": 5,
     "metadata": {},
     "output_type": "execute_result"
    }
   ],
   "source": [
    "indexing=np.round(np.random.random(64).reshape(16,4),2)\n",
    "indexing"
   ]
  },
  {
   "cell_type": "code",
   "execution_count": 6,
   "metadata": {},
   "outputs": [],
   "source": [
    "sin_indexing=np.sin(indexing)"
   ]
  },
  {
   "cell_type": "code",
   "execution_count": 7,
   "metadata": {},
   "outputs": [
    {
     "data": {
      "text/plain": [
       "array([[0.68163876, 0.05996401, 0.65183377, 0.08987855],\n",
       "       [0.47062589, 0.8075581 , 0.08987855, 0.57286746],\n",
       "       [0.37092047, 0.79560162, 0.81919157, 0.70327942],\n",
       "       [0.47942554, 0.18885889, 0.69613524, 0.32404303],\n",
       "       [0.08987855, 0.8075581 , 0.46177918, 0.67428791],\n",
       "       [0.53963205, 0.36161543, 0.63653718, 0.23770263],\n",
       "       [0.23770263, 0.8075581 , 0.36161543, 0.57286746],\n",
       "       [0.69613524, 0.5311862 , 0.18885889, 0.63653718],\n",
       "       [0.59719544, 0.78332691, 0.62879302, 0.49688014],\n",
       "       [0.73793137, 0.59719544, 0.68163876, 0.52268723],\n",
       "       [0.77707175, 0.28595223, 0.35227423, 0.14943813],\n",
       "       [0.75128041, 0.51413599, 0.15931821, 0.5311862 ],\n",
       "       [0.56464247, 0.71035327, 0.8134155 , 0.54802394],\n",
       "       [0.65183377, 0.0299955 , 0.00999983, 0.16918235],\n",
       "       [0.52268723, 0.01999867, 0.09983342, 0.30505864],\n",
       "       [0.58914476, 0.74464312, 0.65938467, 0.56464247]])"
      ]
     },
     "execution_count": 7,
     "metadata": {},
     "output_type": "execute_result"
    }
   ],
   "source": [
    "sin_indexing"
   ]
  },
  {
   "cell_type": "code",
   "execution_count": 8,
   "metadata": {},
   "outputs": [],
   "source": [
    "emp=pd.read_csv(Dataset+\"\\\\employees.csv\")"
   ]
  },
  {
   "cell_type": "code",
   "execution_count": 9,
   "metadata": {},
   "outputs": [
    {
     "data": {
      "text/html": [
       "<div>\n",
       "<style scoped>\n",
       "    .dataframe tbody tr th:only-of-type {\n",
       "        vertical-align: middle;\n",
       "    }\n",
       "\n",
       "    .dataframe tbody tr th {\n",
       "        vertical-align: top;\n",
       "    }\n",
       "\n",
       "    .dataframe thead th {\n",
       "        text-align: right;\n",
       "    }\n",
       "</style>\n",
       "<table border=\"1\" class=\"dataframe\">\n",
       "  <thead>\n",
       "    <tr style=\"text-align: right;\">\n",
       "      <th></th>\n",
       "      <th>Emp ID</th>\n",
       "      <th>Name Prefix</th>\n",
       "      <th>First Name</th>\n",
       "      <th>Middle Initial</th>\n",
       "      <th>Last Name</th>\n",
       "      <th>Gender</th>\n",
       "      <th>E Mail</th>\n",
       "      <th>Father's Name</th>\n",
       "      <th>Mother's Name</th>\n",
       "      <th>Mother's Maiden Name</th>\n",
       "      <th>...</th>\n",
       "      <th>SSN</th>\n",
       "      <th>Phone No.</th>\n",
       "      <th>Place Name</th>\n",
       "      <th>County</th>\n",
       "      <th>City</th>\n",
       "      <th>State</th>\n",
       "      <th>Zip</th>\n",
       "      <th>Region</th>\n",
       "      <th>User Name</th>\n",
       "      <th>Password</th>\n",
       "    </tr>\n",
       "  </thead>\n",
       "  <tbody>\n",
       "    <tr>\n",
       "      <th>0</th>\n",
       "      <td>677509</td>\n",
       "      <td>Drs.</td>\n",
       "      <td>Lois</td>\n",
       "      <td>H</td>\n",
       "      <td>Walker</td>\n",
       "      <td>F</td>\n",
       "      <td>lois.walker@hotmail.com</td>\n",
       "      <td>Donald Walker</td>\n",
       "      <td>Helen Walker</td>\n",
       "      <td>Lewis</td>\n",
       "      <td>...</td>\n",
       "      <td>467-99-4677</td>\n",
       "      <td>303-572-8492</td>\n",
       "      <td>Denver</td>\n",
       "      <td>Denver</td>\n",
       "      <td>Denver</td>\n",
       "      <td>CO</td>\n",
       "      <td>80224</td>\n",
       "      <td>West</td>\n",
       "      <td>lhwalker</td>\n",
       "      <td>DCa}.T}X:v?NP</td>\n",
       "    </tr>\n",
       "    <tr>\n",
       "      <th>1</th>\n",
       "      <td>940761</td>\n",
       "      <td>Ms.</td>\n",
       "      <td>Brenda</td>\n",
       "      <td>S</td>\n",
       "      <td>Robinson</td>\n",
       "      <td>F</td>\n",
       "      <td>brenda.robinson@gmail.com</td>\n",
       "      <td>Raymond Robinson</td>\n",
       "      <td>Judy Robinson</td>\n",
       "      <td>Perry</td>\n",
       "      <td>...</td>\n",
       "      <td>537-71-4566</td>\n",
       "      <td>225-945-4954</td>\n",
       "      <td>Stonewall</td>\n",
       "      <td>De Soto</td>\n",
       "      <td>Stonewall</td>\n",
       "      <td>LA</td>\n",
       "      <td>71078</td>\n",
       "      <td>South</td>\n",
       "      <td>bsrobinson</td>\n",
       "      <td>TCo\\j#Zg;SQ~o</td>\n",
       "    </tr>\n",
       "    <tr>\n",
       "      <th>2</th>\n",
       "      <td>428945</td>\n",
       "      <td>Dr.</td>\n",
       "      <td>Joe</td>\n",
       "      <td>W</td>\n",
       "      <td>Robinson</td>\n",
       "      <td>M</td>\n",
       "      <td>joe.robinson@gmail.com</td>\n",
       "      <td>Scott Robinson</td>\n",
       "      <td>Stephanie Robinson</td>\n",
       "      <td>Taylor</td>\n",
       "      <td>...</td>\n",
       "      <td>025-92-3584</td>\n",
       "      <td>219-904-2161</td>\n",
       "      <td>Michigantown</td>\n",
       "      <td>Clinton</td>\n",
       "      <td>Michigantown</td>\n",
       "      <td>IN</td>\n",
       "      <td>46057</td>\n",
       "      <td>Midwest</td>\n",
       "      <td>jwrobinson</td>\n",
       "      <td>GO4$J8MiEh[A</td>\n",
       "    </tr>\n",
       "    <tr>\n",
       "      <th>3</th>\n",
       "      <td>408351</td>\n",
       "      <td>Drs.</td>\n",
       "      <td>Diane</td>\n",
       "      <td>I</td>\n",
       "      <td>Evans</td>\n",
       "      <td>F</td>\n",
       "      <td>diane.evans@yahoo.com</td>\n",
       "      <td>Jason Evans</td>\n",
       "      <td>Michelle Evans</td>\n",
       "      <td>Allen</td>\n",
       "      <td>...</td>\n",
       "      <td>314-35-9851</td>\n",
       "      <td>215-793-6791</td>\n",
       "      <td>Hydetown</td>\n",
       "      <td>Crawford</td>\n",
       "      <td>Hydetown</td>\n",
       "      <td>PA</td>\n",
       "      <td>16328</td>\n",
       "      <td>Northeast</td>\n",
       "      <td>dievans</td>\n",
       "      <td>0gGRtp1HfL&lt;r5</td>\n",
       "    </tr>\n",
       "    <tr>\n",
       "      <th>4</th>\n",
       "      <td>193819</td>\n",
       "      <td>Mr.</td>\n",
       "      <td>Benjamin</td>\n",
       "      <td>R</td>\n",
       "      <td>Russell</td>\n",
       "      <td>M</td>\n",
       "      <td>benjamin.russell@charter.net</td>\n",
       "      <td>Gregory Russell</td>\n",
       "      <td>Elizabeth Russell</td>\n",
       "      <td>Nelson</td>\n",
       "      <td>...</td>\n",
       "      <td>121-98-7248</td>\n",
       "      <td>262-404-2252</td>\n",
       "      <td>Fremont</td>\n",
       "      <td>Waupaca</td>\n",
       "      <td>Fremont</td>\n",
       "      <td>WI</td>\n",
       "      <td>54940</td>\n",
       "      <td>Midwest</td>\n",
       "      <td>brrussell</td>\n",
       "      <td>Rd&lt;Y8cp!@R;*%F</td>\n",
       "    </tr>\n",
       "  </tbody>\n",
       "</table>\n",
       "<p>5 rows × 37 columns</p>\n",
       "</div>"
      ],
      "text/plain": [
       "   Emp ID Name Prefix First Name Middle Initial Last Name Gender  \\\n",
       "0  677509        Drs.       Lois              H    Walker      F   \n",
       "1  940761         Ms.     Brenda              S  Robinson      F   \n",
       "2  428945         Dr.        Joe              W  Robinson      M   \n",
       "3  408351        Drs.      Diane              I     Evans      F   \n",
       "4  193819         Mr.   Benjamin              R   Russell      M   \n",
       "\n",
       "                         E Mail     Father's Name       Mother's Name  \\\n",
       "0       lois.walker@hotmail.com     Donald Walker        Helen Walker   \n",
       "1     brenda.robinson@gmail.com  Raymond Robinson       Judy Robinson   \n",
       "2        joe.robinson@gmail.com    Scott Robinson  Stephanie Robinson   \n",
       "3         diane.evans@yahoo.com       Jason Evans      Michelle Evans   \n",
       "4  benjamin.russell@charter.net   Gregory Russell   Elizabeth Russell   \n",
       "\n",
       "  Mother's Maiden Name       ...                SSN    Phone No.   \\\n",
       "0                Lewis       ...        467-99-4677  303-572-8492   \n",
       "1                Perry       ...        537-71-4566  225-945-4954   \n",
       "2               Taylor       ...        025-92-3584  219-904-2161   \n",
       "3                Allen       ...        314-35-9851  215-793-6791   \n",
       "4               Nelson       ...        121-98-7248  262-404-2252   \n",
       "\n",
       "     Place Name    County          City State    Zip     Region   User Name  \\\n",
       "0        Denver    Denver        Denver    CO  80224       West    lhwalker   \n",
       "1     Stonewall   De Soto     Stonewall    LA  71078      South  bsrobinson   \n",
       "2  Michigantown   Clinton  Michigantown    IN  46057    Midwest  jwrobinson   \n",
       "3      Hydetown  Crawford      Hydetown    PA  16328  Northeast     dievans   \n",
       "4       Fremont   Waupaca       Fremont    WI  54940    Midwest   brrussell   \n",
       "\n",
       "         Password  \n",
       "0   DCa}.T}X:v?NP  \n",
       "1   TCo\\j#Zg;SQ~o  \n",
       "2    GO4$J8MiEh[A  \n",
       "3   0gGRtp1HfL<r5  \n",
       "4  Rd<Y8cp!@R;*%F  \n",
       "\n",
       "[5 rows x 37 columns]"
      ]
     },
     "execution_count": 9,
     "metadata": {},
     "output_type": "execute_result"
    }
   ],
   "source": [
    "emp.head()# top 5 rows"
   ]
  },
  {
   "cell_type": "code",
   "execution_count": 10,
   "metadata": {},
   "outputs": [
    {
     "data": {
      "text/html": [
       "<div>\n",
       "<style scoped>\n",
       "    .dataframe tbody tr th:only-of-type {\n",
       "        vertical-align: middle;\n",
       "    }\n",
       "\n",
       "    .dataframe tbody tr th {\n",
       "        vertical-align: top;\n",
       "    }\n",
       "\n",
       "    .dataframe thead th {\n",
       "        text-align: right;\n",
       "    }\n",
       "</style>\n",
       "<table border=\"1\" class=\"dataframe\">\n",
       "  <thead>\n",
       "    <tr style=\"text-align: right;\">\n",
       "      <th></th>\n",
       "      <th>Emp ID</th>\n",
       "      <th>Name Prefix</th>\n",
       "      <th>First Name</th>\n",
       "      <th>Middle Initial</th>\n",
       "      <th>Last Name</th>\n",
       "      <th>Gender</th>\n",
       "      <th>E Mail</th>\n",
       "      <th>Father's Name</th>\n",
       "      <th>Mother's Name</th>\n",
       "      <th>Mother's Maiden Name</th>\n",
       "      <th>...</th>\n",
       "      <th>SSN</th>\n",
       "      <th>Phone No.</th>\n",
       "      <th>Place Name</th>\n",
       "      <th>County</th>\n",
       "      <th>City</th>\n",
       "      <th>State</th>\n",
       "      <th>Zip</th>\n",
       "      <th>Region</th>\n",
       "      <th>User Name</th>\n",
       "      <th>Password</th>\n",
       "    </tr>\n",
       "  </thead>\n",
       "  <tbody>\n",
       "    <tr>\n",
       "      <th>95</th>\n",
       "      <td>639892</td>\n",
       "      <td>Mr.</td>\n",
       "      <td>Jose</td>\n",
       "      <td>K</td>\n",
       "      <td>Hill</td>\n",
       "      <td>M</td>\n",
       "      <td>jose.hill@hotmail.com</td>\n",
       "      <td>Carlos Hill</td>\n",
       "      <td>Anna Hill</td>\n",
       "      <td>Hayes</td>\n",
       "      <td>...</td>\n",
       "      <td>171-86-3825</td>\n",
       "      <td>228-245-5000</td>\n",
       "      <td>Biloxi</td>\n",
       "      <td>Harrison</td>\n",
       "      <td>Biloxi</td>\n",
       "      <td>MS</td>\n",
       "      <td>39532</td>\n",
       "      <td>South</td>\n",
       "      <td>jkhill</td>\n",
       "      <td>a_!SKb6h3?w*Mad</td>\n",
       "    </tr>\n",
       "    <tr>\n",
       "      <th>96</th>\n",
       "      <td>704709</td>\n",
       "      <td>Dr.</td>\n",
       "      <td>Harold</td>\n",
       "      <td>Z</td>\n",
       "      <td>Nelson</td>\n",
       "      <td>M</td>\n",
       "      <td>harold.nelson@gmail.com</td>\n",
       "      <td>Richard Nelson</td>\n",
       "      <td>Pamela Nelson</td>\n",
       "      <td>Smith</td>\n",
       "      <td>...</td>\n",
       "      <td>456-99-2066</td>\n",
       "      <td>217-555-9216</td>\n",
       "      <td>Carol Stream</td>\n",
       "      <td>Carol Stream</td>\n",
       "      <td>Carol Stream</td>\n",
       "      <td>IL</td>\n",
       "      <td>60351</td>\n",
       "      <td>Midwest</td>\n",
       "      <td>hznelson</td>\n",
       "      <td>z/-hEz3&amp;^q5</td>\n",
       "    </tr>\n",
       "    <tr>\n",
       "      <th>97</th>\n",
       "      <td>461593</td>\n",
       "      <td>Ms.</td>\n",
       "      <td>Nicole</td>\n",
       "      <td>O</td>\n",
       "      <td>Ward</td>\n",
       "      <td>F</td>\n",
       "      <td>nicole.ward@yahoo.com</td>\n",
       "      <td>Ralph Ward</td>\n",
       "      <td>Julia Ward</td>\n",
       "      <td>Lee</td>\n",
       "      <td>...</td>\n",
       "      <td>196-84-2551</td>\n",
       "      <td>231-761-7861</td>\n",
       "      <td>Detroit</td>\n",
       "      <td>Wayne</td>\n",
       "      <td>Detroit</td>\n",
       "      <td>MI</td>\n",
       "      <td>48278</td>\n",
       "      <td>Midwest</td>\n",
       "      <td>noward</td>\n",
       "      <td>AUe6s0@:@]A3Ze</td>\n",
       "    </tr>\n",
       "    <tr>\n",
       "      <th>98</th>\n",
       "      <td>392491</td>\n",
       "      <td>Mrs.</td>\n",
       "      <td>Theresa</td>\n",
       "      <td>R</td>\n",
       "      <td>Murphy</td>\n",
       "      <td>F</td>\n",
       "      <td>theresa.murphy@gmail.com</td>\n",
       "      <td>George Murphy</td>\n",
       "      <td>Jacqueline Murphy</td>\n",
       "      <td>Peterson</td>\n",
       "      <td>...</td>\n",
       "      <td>249-99-8801</td>\n",
       "      <td>907-356-1555</td>\n",
       "      <td>Mc Grath</td>\n",
       "      <td>Yukon-Koyukuk (CA)</td>\n",
       "      <td>Mc Grath</td>\n",
       "      <td>AK</td>\n",
       "      <td>99627</td>\n",
       "      <td>West</td>\n",
       "      <td>trmurphy</td>\n",
       "      <td>V]PGw&gt;4h9</td>\n",
       "    </tr>\n",
       "    <tr>\n",
       "      <th>99</th>\n",
       "      <td>495141</td>\n",
       "      <td>Drs.</td>\n",
       "      <td>Tammy</td>\n",
       "      <td>B</td>\n",
       "      <td>Young</td>\n",
       "      <td>F</td>\n",
       "      <td>tammy.young@comcast.net</td>\n",
       "      <td>Andrew Young</td>\n",
       "      <td>Brenda Young</td>\n",
       "      <td>Robinson</td>\n",
       "      <td>...</td>\n",
       "      <td>771-02-7046</td>\n",
       "      <td>231-290-3075</td>\n",
       "      <td>Alma</td>\n",
       "      <td>Gratiot</td>\n",
       "      <td>Alma</td>\n",
       "      <td>MI</td>\n",
       "      <td>48801</td>\n",
       "      <td>Midwest</td>\n",
       "      <td>tbyoung</td>\n",
       "      <td>d6!&amp;xu12A1H^i![</td>\n",
       "    </tr>\n",
       "  </tbody>\n",
       "</table>\n",
       "<p>5 rows × 37 columns</p>\n",
       "</div>"
      ],
      "text/plain": [
       "    Emp ID Name Prefix First Name Middle Initial Last Name Gender  \\\n",
       "95  639892         Mr.       Jose              K      Hill      M   \n",
       "96  704709         Dr.     Harold              Z    Nelson      M   \n",
       "97  461593         Ms.     Nicole              O      Ward      F   \n",
       "98  392491        Mrs.    Theresa              R    Murphy      F   \n",
       "99  495141        Drs.      Tammy              B     Young      F   \n",
       "\n",
       "                      E Mail   Father's Name      Mother's Name  \\\n",
       "95     jose.hill@hotmail.com     Carlos Hill          Anna Hill   \n",
       "96   harold.nelson@gmail.com  Richard Nelson      Pamela Nelson   \n",
       "97     nicole.ward@yahoo.com      Ralph Ward         Julia Ward   \n",
       "98  theresa.murphy@gmail.com   George Murphy  Jacqueline Murphy   \n",
       "99   tammy.young@comcast.net    Andrew Young       Brenda Young   \n",
       "\n",
       "   Mother's Maiden Name       ...                 SSN    Phone No.   \\\n",
       "95                Hayes       ...         171-86-3825  228-245-5000   \n",
       "96                Smith       ...         456-99-2066  217-555-9216   \n",
       "97                  Lee       ...         196-84-2551  231-761-7861   \n",
       "98             Peterson       ...         249-99-8801  907-356-1555   \n",
       "99             Robinson       ...         771-02-7046  231-290-3075   \n",
       "\n",
       "      Place Name              County          City State    Zip   Region  \\\n",
       "95        Biloxi            Harrison        Biloxi    MS  39532    South   \n",
       "96  Carol Stream        Carol Stream  Carol Stream    IL  60351  Midwest   \n",
       "97       Detroit               Wayne       Detroit    MI  48278  Midwest   \n",
       "98      Mc Grath  Yukon-Koyukuk (CA)      Mc Grath    AK  99627     West   \n",
       "99          Alma             Gratiot          Alma    MI  48801  Midwest   \n",
       "\n",
       "    User Name         Password  \n",
       "95     jkhill  a_!SKb6h3?w*Mad  \n",
       "96   hznelson      z/-hEz3&^q5  \n",
       "97     noward   AUe6s0@:@]A3Ze  \n",
       "98   trmurphy        V]PGw>4h9  \n",
       "99    tbyoung  d6!&xu12A1H^i![  \n",
       "\n",
       "[5 rows x 37 columns]"
      ]
     },
     "execution_count": 10,
     "metadata": {},
     "output_type": "execute_result"
    }
   ],
   "source": [
    "emp.tail() #bottom 5 rows"
   ]
  },
  {
   "cell_type": "code",
   "execution_count": 11,
   "metadata": {},
   "outputs": [
    {
     "data": {
      "text/plain": [
       "pandas.core.frame.DataFrame"
      ]
     },
     "execution_count": 11,
     "metadata": {},
     "output_type": "execute_result"
    }
   ],
   "source": [
    "type(emp)"
   ]
  },
  {
   "cell_type": "code",
   "execution_count": 12,
   "metadata": {},
   "outputs": [
    {
     "data": {
      "text/html": [
       "<div>\n",
       "<style scoped>\n",
       "    .dataframe tbody tr th:only-of-type {\n",
       "        vertical-align: middle;\n",
       "    }\n",
       "\n",
       "    .dataframe tbody tr th {\n",
       "        vertical-align: top;\n",
       "    }\n",
       "\n",
       "    .dataframe thead th {\n",
       "        text-align: right;\n",
       "    }\n",
       "</style>\n",
       "<table border=\"1\" class=\"dataframe\">\n",
       "  <thead>\n",
       "    <tr style=\"text-align: right;\">\n",
       "      <th></th>\n",
       "      <th>Emp ID</th>\n",
       "      <th>Name Prefix</th>\n",
       "      <th>First Name</th>\n",
       "      <th>Middle Initial</th>\n",
       "      <th>Last Name</th>\n",
       "      <th>Gender</th>\n",
       "      <th>E Mail</th>\n",
       "      <th>Father's Name</th>\n",
       "      <th>Mother's Name</th>\n",
       "      <th>Mother's Maiden Name</th>\n",
       "      <th>...</th>\n",
       "      <th>SSN</th>\n",
       "      <th>Phone No.</th>\n",
       "      <th>Place Name</th>\n",
       "      <th>County</th>\n",
       "      <th>City</th>\n",
       "      <th>State</th>\n",
       "      <th>Zip</th>\n",
       "      <th>Region</th>\n",
       "      <th>User Name</th>\n",
       "      <th>Password</th>\n",
       "    </tr>\n",
       "  </thead>\n",
       "  <tbody>\n",
       "    <tr>\n",
       "      <th>0</th>\n",
       "      <td>677509</td>\n",
       "      <td>Drs.</td>\n",
       "      <td>Lois</td>\n",
       "      <td>H</td>\n",
       "      <td>Walker</td>\n",
       "      <td>F</td>\n",
       "      <td>lois.walker@hotmail.com</td>\n",
       "      <td>Donald Walker</td>\n",
       "      <td>Helen Walker</td>\n",
       "      <td>Lewis</td>\n",
       "      <td>...</td>\n",
       "      <td>467-99-4677</td>\n",
       "      <td>303-572-8492</td>\n",
       "      <td>Denver</td>\n",
       "      <td>Denver</td>\n",
       "      <td>Denver</td>\n",
       "      <td>CO</td>\n",
       "      <td>80224</td>\n",
       "      <td>West</td>\n",
       "      <td>lhwalker</td>\n",
       "      <td>DCa}.T}X:v?NP</td>\n",
       "    </tr>\n",
       "    <tr>\n",
       "      <th>1</th>\n",
       "      <td>940761</td>\n",
       "      <td>Ms.</td>\n",
       "      <td>Brenda</td>\n",
       "      <td>S</td>\n",
       "      <td>Robinson</td>\n",
       "      <td>F</td>\n",
       "      <td>brenda.robinson@gmail.com</td>\n",
       "      <td>Raymond Robinson</td>\n",
       "      <td>Judy Robinson</td>\n",
       "      <td>Perry</td>\n",
       "      <td>...</td>\n",
       "      <td>537-71-4566</td>\n",
       "      <td>225-945-4954</td>\n",
       "      <td>Stonewall</td>\n",
       "      <td>De Soto</td>\n",
       "      <td>Stonewall</td>\n",
       "      <td>LA</td>\n",
       "      <td>71078</td>\n",
       "      <td>South</td>\n",
       "      <td>bsrobinson</td>\n",
       "      <td>TCo\\j#Zg;SQ~o</td>\n",
       "    </tr>\n",
       "    <tr>\n",
       "      <th>2</th>\n",
       "      <td>428945</td>\n",
       "      <td>Dr.</td>\n",
       "      <td>Joe</td>\n",
       "      <td>W</td>\n",
       "      <td>Robinson</td>\n",
       "      <td>M</td>\n",
       "      <td>joe.robinson@gmail.com</td>\n",
       "      <td>Scott Robinson</td>\n",
       "      <td>Stephanie Robinson</td>\n",
       "      <td>Taylor</td>\n",
       "      <td>...</td>\n",
       "      <td>025-92-3584</td>\n",
       "      <td>219-904-2161</td>\n",
       "      <td>Michigantown</td>\n",
       "      <td>Clinton</td>\n",
       "      <td>Michigantown</td>\n",
       "      <td>IN</td>\n",
       "      <td>46057</td>\n",
       "      <td>Midwest</td>\n",
       "      <td>jwrobinson</td>\n",
       "      <td>GO4$J8MiEh[A</td>\n",
       "    </tr>\n",
       "    <tr>\n",
       "      <th>3</th>\n",
       "      <td>408351</td>\n",
       "      <td>Drs.</td>\n",
       "      <td>Diane</td>\n",
       "      <td>I</td>\n",
       "      <td>Evans</td>\n",
       "      <td>F</td>\n",
       "      <td>diane.evans@yahoo.com</td>\n",
       "      <td>Jason Evans</td>\n",
       "      <td>Michelle Evans</td>\n",
       "      <td>Allen</td>\n",
       "      <td>...</td>\n",
       "      <td>314-35-9851</td>\n",
       "      <td>215-793-6791</td>\n",
       "      <td>Hydetown</td>\n",
       "      <td>Crawford</td>\n",
       "      <td>Hydetown</td>\n",
       "      <td>PA</td>\n",
       "      <td>16328</td>\n",
       "      <td>Northeast</td>\n",
       "      <td>dievans</td>\n",
       "      <td>0gGRtp1HfL&lt;r5</td>\n",
       "    </tr>\n",
       "    <tr>\n",
       "      <th>4</th>\n",
       "      <td>193819</td>\n",
       "      <td>Mr.</td>\n",
       "      <td>Benjamin</td>\n",
       "      <td>R</td>\n",
       "      <td>Russell</td>\n",
       "      <td>M</td>\n",
       "      <td>benjamin.russell@charter.net</td>\n",
       "      <td>Gregory Russell</td>\n",
       "      <td>Elizabeth Russell</td>\n",
       "      <td>Nelson</td>\n",
       "      <td>...</td>\n",
       "      <td>121-98-7248</td>\n",
       "      <td>262-404-2252</td>\n",
       "      <td>Fremont</td>\n",
       "      <td>Waupaca</td>\n",
       "      <td>Fremont</td>\n",
       "      <td>WI</td>\n",
       "      <td>54940</td>\n",
       "      <td>Midwest</td>\n",
       "      <td>brrussell</td>\n",
       "      <td>Rd&lt;Y8cp!@R;*%F</td>\n",
       "    </tr>\n",
       "    <tr>\n",
       "      <th>5</th>\n",
       "      <td>499687</td>\n",
       "      <td>Mr.</td>\n",
       "      <td>Patrick</td>\n",
       "      <td>F</td>\n",
       "      <td>Bailey</td>\n",
       "      <td>M</td>\n",
       "      <td>patrick.bailey@aol.com</td>\n",
       "      <td>Ralph Bailey</td>\n",
       "      <td>Laura Bailey</td>\n",
       "      <td>Henderson</td>\n",
       "      <td>...</td>\n",
       "      <td>439-99-7721</td>\n",
       "      <td>319-812-6957</td>\n",
       "      <td>Macksburg</td>\n",
       "      <td>Madison</td>\n",
       "      <td>Macksburg</td>\n",
       "      <td>IA</td>\n",
       "      <td>50155</td>\n",
       "      <td>Midwest</td>\n",
       "      <td>pfbailey</td>\n",
       "      <td>K7&amp;5aY/*</td>\n",
       "    </tr>\n",
       "    <tr>\n",
       "      <th>6</th>\n",
       "      <td>539712</td>\n",
       "      <td>Ms.</td>\n",
       "      <td>Nancy</td>\n",
       "      <td>T</td>\n",
       "      <td>Baker</td>\n",
       "      <td>F</td>\n",
       "      <td>nancy.baker@bp.com</td>\n",
       "      <td>Scott Baker</td>\n",
       "      <td>Judy Baker</td>\n",
       "      <td>Thomas</td>\n",
       "      <td>...</td>\n",
       "      <td>641-29-2071</td>\n",
       "      <td>229-336-5117</td>\n",
       "      <td>Atlanta</td>\n",
       "      <td>Fulton</td>\n",
       "      <td>Atlanta</td>\n",
       "      <td>GA</td>\n",
       "      <td>30334</td>\n",
       "      <td>South</td>\n",
       "      <td>ntbaker</td>\n",
       "      <td>xJdKlAcYQhT_BE#</td>\n",
       "    </tr>\n",
       "    <tr>\n",
       "      <th>7</th>\n",
       "      <td>380086</td>\n",
       "      <td>Mrs.</td>\n",
       "      <td>Carol</td>\n",
       "      <td>V</td>\n",
       "      <td>Murphy</td>\n",
       "      <td>F</td>\n",
       "      <td>carol.murphy@gmail.com</td>\n",
       "      <td>Eugene Murphy</td>\n",
       "      <td>Katherine Murphy</td>\n",
       "      <td>Peterson</td>\n",
       "      <td>...</td>\n",
       "      <td>423-67-7023</td>\n",
       "      <td>216-336-0009</td>\n",
       "      <td>Blanchester</td>\n",
       "      <td>Clinton</td>\n",
       "      <td>Blanchester</td>\n",
       "      <td>OH</td>\n",
       "      <td>45107</td>\n",
       "      <td>Midwest</td>\n",
       "      <td>cvmurphy</td>\n",
       "      <td>Uc+VG%vuZU&lt;k</td>\n",
       "    </tr>\n",
       "    <tr>\n",
       "      <th>8</th>\n",
       "      <td>477616</td>\n",
       "      <td>Hon.</td>\n",
       "      <td>Frances</td>\n",
       "      <td>B</td>\n",
       "      <td>Young</td>\n",
       "      <td>F</td>\n",
       "      <td>frances.young@gmail.com</td>\n",
       "      <td>Fred Young</td>\n",
       "      <td>Lillian Young</td>\n",
       "      <td>Diaz</td>\n",
       "      <td>...</td>\n",
       "      <td>028-92-8912</td>\n",
       "      <td>210-819-9765</td>\n",
       "      <td>Delmita</td>\n",
       "      <td>Starr</td>\n",
       "      <td>Delmita</td>\n",
       "      <td>TX</td>\n",
       "      <td>78536</td>\n",
       "      <td>South</td>\n",
       "      <td>fbyoung</td>\n",
       "      <td>K}^USc0l7[A</td>\n",
       "    </tr>\n",
       "    <tr>\n",
       "      <th>9</th>\n",
       "      <td>162402</td>\n",
       "      <td>Hon.</td>\n",
       "      <td>Diana</td>\n",
       "      <td>T</td>\n",
       "      <td>Peterson</td>\n",
       "      <td>F</td>\n",
       "      <td>diana.peterson@hotmail.co.uk</td>\n",
       "      <td>Jonathan Peterson</td>\n",
       "      <td>Christina Peterson</td>\n",
       "      <td>Ross</td>\n",
       "      <td>...</td>\n",
       "      <td>512-33-6767</td>\n",
       "      <td>479-783-5656</td>\n",
       "      <td>Eureka Springs</td>\n",
       "      <td>Carroll</td>\n",
       "      <td>Eureka Springs</td>\n",
       "      <td>AR</td>\n",
       "      <td>72632</td>\n",
       "      <td>South</td>\n",
       "      <td>dtpeterson</td>\n",
       "      <td>3o8&gt;v&amp;tYxjyEAo</td>\n",
       "    </tr>\n",
       "  </tbody>\n",
       "</table>\n",
       "<p>10 rows × 37 columns</p>\n",
       "</div>"
      ],
      "text/plain": [
       "   Emp ID Name Prefix First Name Middle Initial Last Name Gender  \\\n",
       "0  677509        Drs.       Lois              H    Walker      F   \n",
       "1  940761         Ms.     Brenda              S  Robinson      F   \n",
       "2  428945         Dr.        Joe              W  Robinson      M   \n",
       "3  408351        Drs.      Diane              I     Evans      F   \n",
       "4  193819         Mr.   Benjamin              R   Russell      M   \n",
       "5  499687         Mr.    Patrick              F    Bailey      M   \n",
       "6  539712         Ms.      Nancy              T     Baker      F   \n",
       "7  380086        Mrs.      Carol              V    Murphy      F   \n",
       "8  477616        Hon.    Frances              B     Young      F   \n",
       "9  162402        Hon.      Diana              T  Peterson      F   \n",
       "\n",
       "                         E Mail      Father's Name       Mother's Name  \\\n",
       "0       lois.walker@hotmail.com      Donald Walker        Helen Walker   \n",
       "1     brenda.robinson@gmail.com   Raymond Robinson       Judy Robinson   \n",
       "2        joe.robinson@gmail.com     Scott Robinson  Stephanie Robinson   \n",
       "3         diane.evans@yahoo.com        Jason Evans      Michelle Evans   \n",
       "4  benjamin.russell@charter.net    Gregory Russell   Elizabeth Russell   \n",
       "5        patrick.bailey@aol.com       Ralph Bailey        Laura Bailey   \n",
       "6            nancy.baker@bp.com        Scott Baker          Judy Baker   \n",
       "7        carol.murphy@gmail.com      Eugene Murphy    Katherine Murphy   \n",
       "8       frances.young@gmail.com         Fred Young       Lillian Young   \n",
       "9  diana.peterson@hotmail.co.uk  Jonathan Peterson  Christina Peterson   \n",
       "\n",
       "  Mother's Maiden Name       ...                 SSN    Phone No.   \\\n",
       "0                Lewis       ...         467-99-4677  303-572-8492   \n",
       "1                Perry       ...         537-71-4566  225-945-4954   \n",
       "2               Taylor       ...         025-92-3584  219-904-2161   \n",
       "3                Allen       ...         314-35-9851  215-793-6791   \n",
       "4               Nelson       ...         121-98-7248  262-404-2252   \n",
       "5            Henderson       ...         439-99-7721  319-812-6957   \n",
       "6               Thomas       ...         641-29-2071  229-336-5117   \n",
       "7             Peterson       ...         423-67-7023  216-336-0009   \n",
       "8                 Diaz       ...         028-92-8912  210-819-9765   \n",
       "9                 Ross       ...         512-33-6767  479-783-5656   \n",
       "\n",
       "       Place Name    County            City State    Zip     Region  \\\n",
       "0          Denver    Denver          Denver    CO  80224       West   \n",
       "1       Stonewall   De Soto       Stonewall    LA  71078      South   \n",
       "2    Michigantown   Clinton    Michigantown    IN  46057    Midwest   \n",
       "3        Hydetown  Crawford        Hydetown    PA  16328  Northeast   \n",
       "4         Fremont   Waupaca         Fremont    WI  54940    Midwest   \n",
       "5       Macksburg   Madison       Macksburg    IA  50155    Midwest   \n",
       "6         Atlanta    Fulton         Atlanta    GA  30334      South   \n",
       "7     Blanchester   Clinton     Blanchester    OH  45107    Midwest   \n",
       "8         Delmita     Starr         Delmita    TX  78536      South   \n",
       "9  Eureka Springs   Carroll  Eureka Springs    AR  72632      South   \n",
       "\n",
       "    User Name         Password  \n",
       "0    lhwalker    DCa}.T}X:v?NP  \n",
       "1  bsrobinson    TCo\\j#Zg;SQ~o  \n",
       "2  jwrobinson     GO4$J8MiEh[A  \n",
       "3     dievans    0gGRtp1HfL<r5  \n",
       "4   brrussell   Rd<Y8cp!@R;*%F  \n",
       "5    pfbailey         K7&5aY/*  \n",
       "6     ntbaker  xJdKlAcYQhT_BE#  \n",
       "7    cvmurphy     Uc+VG%vuZU<k  \n",
       "8     fbyoung      K}^USc0l7[A  \n",
       "9  dtpeterson   3o8>v&tYxjyEAo  \n",
       "\n",
       "[10 rows x 37 columns]"
      ]
     },
     "execution_count": 12,
     "metadata": {},
     "output_type": "execute_result"
    }
   ],
   "source": [
    "emp.head(10) # top 10 rows"
   ]
  },
  {
   "cell_type": "code",
   "execution_count": 13,
   "metadata": {},
   "outputs": [
    {
     "data": {
      "text/plain": [
       "Index(['Emp ID', 'Name Prefix', 'First Name', 'Middle Initial', 'Last Name',\n",
       "       'Gender', 'E Mail', 'Father's Name', 'Mother's Name',\n",
       "       'Mother's Maiden Name', 'Date of Birth', 'Time of Birth', 'Age in Yrs.',\n",
       "       'Weight in Kgs.', 'Date of Joining', 'Quarter of Joining',\n",
       "       'Half of Joining', 'Year of Joining', 'Month of Joining',\n",
       "       'Month Name of Joining', 'Short Month', 'Day of Joining',\n",
       "       'DOW of Joining', 'Short DOW', 'Age in Company (Years)', 'Salary',\n",
       "       'Last % Hike', 'SSN', 'Phone No. ', 'Place Name', 'County', 'City',\n",
       "       'State', 'Zip', 'Region', 'User Name', 'Password'],\n",
       "      dtype='object')"
      ]
     },
     "execution_count": 13,
     "metadata": {},
     "output_type": "execute_result"
    }
   ],
   "source": [
    "emp.columns"
   ]
  },
  {
   "cell_type": "code",
   "execution_count": 14,
   "metadata": {},
   "outputs": [
    {
     "data": {
      "text/html": [
       "<div>\n",
       "<style scoped>\n",
       "    .dataframe tbody tr th:only-of-type {\n",
       "        vertical-align: middle;\n",
       "    }\n",
       "\n",
       "    .dataframe tbody tr th {\n",
       "        vertical-align: top;\n",
       "    }\n",
       "\n",
       "    .dataframe thead th {\n",
       "        text-align: right;\n",
       "    }\n",
       "</style>\n",
       "<table border=\"1\" class=\"dataframe\">\n",
       "  <thead>\n",
       "    <tr style=\"text-align: right;\">\n",
       "      <th></th>\n",
       "      <th>Emp ID</th>\n",
       "      <th>Name Prefix</th>\n",
       "      <th>First Name</th>\n",
       "      <th>Middle Initial</th>\n",
       "      <th>Last Name</th>\n",
       "      <th>Gender</th>\n",
       "      <th>E Mail</th>\n",
       "      <th>Father's Name</th>\n",
       "      <th>Mother's Name</th>\n",
       "      <th>Mother's Maiden Name</th>\n",
       "      <th>...</th>\n",
       "      <th>SSN</th>\n",
       "      <th>Phone No.</th>\n",
       "      <th>Place Name</th>\n",
       "      <th>County</th>\n",
       "      <th>City</th>\n",
       "      <th>State</th>\n",
       "      <th>Zip</th>\n",
       "      <th>Region</th>\n",
       "      <th>User Name</th>\n",
       "      <th>Password</th>\n",
       "    </tr>\n",
       "  </thead>\n",
       "  <tbody>\n",
       "    <tr>\n",
       "      <th>23</th>\n",
       "      <td>388642</td>\n",
       "      <td>Mrs.</td>\n",
       "      <td>Ruby</td>\n",
       "      <td>R</td>\n",
       "      <td>Rogers</td>\n",
       "      <td>F</td>\n",
       "      <td>ruby.rogers@gmail.com</td>\n",
       "      <td>Ronald Rogers</td>\n",
       "      <td>Teresa Rogers</td>\n",
       "      <td>Alexander</td>\n",
       "      <td>...</td>\n",
       "      <td>236-55-0172</td>\n",
       "      <td>423-231-6507</td>\n",
       "      <td>Woodbury</td>\n",
       "      <td>Cannon</td>\n",
       "      <td>Woodbury</td>\n",
       "      <td>TN</td>\n",
       "      <td>37190</td>\n",
       "      <td>South</td>\n",
       "      <td>rrrogers</td>\n",
       "      <td>t&gt;#P@D9s&lt;:9\\V</td>\n",
       "    </tr>\n",
       "    <tr>\n",
       "      <th>38</th>\n",
       "      <td>726264</td>\n",
       "      <td>Hon.</td>\n",
       "      <td>Carl</td>\n",
       "      <td>N</td>\n",
       "      <td>Collins</td>\n",
       "      <td>M</td>\n",
       "      <td>carl.collins@yahoo.com</td>\n",
       "      <td>Gerald Collins</td>\n",
       "      <td>Phyllis Collins</td>\n",
       "      <td>Rodriguez</td>\n",
       "      <td>...</td>\n",
       "      <td>544-81-6171</td>\n",
       "      <td>479-740-7633</td>\n",
       "      <td>Wright</td>\n",
       "      <td>Jefferson</td>\n",
       "      <td>Wright</td>\n",
       "      <td>AR</td>\n",
       "      <td>72182</td>\n",
       "      <td>South</td>\n",
       "      <td>cncollins</td>\n",
       "      <td>XinULSmjAFL/</td>\n",
       "    </tr>\n",
       "    <tr>\n",
       "      <th>9</th>\n",
       "      <td>162402</td>\n",
       "      <td>Hon.</td>\n",
       "      <td>Diana</td>\n",
       "      <td>T</td>\n",
       "      <td>Peterson</td>\n",
       "      <td>F</td>\n",
       "      <td>diana.peterson@hotmail.co.uk</td>\n",
       "      <td>Jonathan Peterson</td>\n",
       "      <td>Christina Peterson</td>\n",
       "      <td>Ross</td>\n",
       "      <td>...</td>\n",
       "      <td>512-33-6767</td>\n",
       "      <td>479-783-5656</td>\n",
       "      <td>Eureka Springs</td>\n",
       "      <td>Carroll</td>\n",
       "      <td>Eureka Springs</td>\n",
       "      <td>AR</td>\n",
       "      <td>72632</td>\n",
       "      <td>South</td>\n",
       "      <td>dtpeterson</td>\n",
       "      <td>3o8&gt;v&amp;tYxjyEAo</td>\n",
       "    </tr>\n",
       "    <tr>\n",
       "      <th>78</th>\n",
       "      <td>806955</td>\n",
       "      <td>Mr.</td>\n",
       "      <td>William</td>\n",
       "      <td>G</td>\n",
       "      <td>Hernandez</td>\n",
       "      <td>M</td>\n",
       "      <td>william.hernandez@rediffmail.com</td>\n",
       "      <td>Peter Hernandez</td>\n",
       "      <td>Deborah Hernandez</td>\n",
       "      <td>Jones</td>\n",
       "      <td>...</td>\n",
       "      <td>629-31-9010</td>\n",
       "      <td>239-276-0532</td>\n",
       "      <td>Mary Esther</td>\n",
       "      <td>Okaloosa</td>\n",
       "      <td>Mary Esther</td>\n",
       "      <td>FL</td>\n",
       "      <td>32569</td>\n",
       "      <td>South</td>\n",
       "      <td>wghernandez</td>\n",
       "      <td>BRB3DFywgZZ4</td>\n",
       "    </tr>\n",
       "    <tr>\n",
       "      <th>21</th>\n",
       "      <td>969580</td>\n",
       "      <td>Prof.</td>\n",
       "      <td>Matthew</td>\n",
       "      <td>L</td>\n",
       "      <td>Turner</td>\n",
       "      <td>M</td>\n",
       "      <td>matthew.turner@gmail.com</td>\n",
       "      <td>Jose Turner</td>\n",
       "      <td>Kathy Turner</td>\n",
       "      <td>Cox</td>\n",
       "      <td>...</td>\n",
       "      <td>598-92-1988</td>\n",
       "      <td>236-972-7624</td>\n",
       "      <td>Heathsville</td>\n",
       "      <td>Northumberland</td>\n",
       "      <td>Heathsville</td>\n",
       "      <td>VA</td>\n",
       "      <td>22473</td>\n",
       "      <td>South</td>\n",
       "      <td>mlturner</td>\n",
       "      <td>I&gt;tL&gt;d[|lZdi_|^</td>\n",
       "    </tr>\n",
       "    <tr>\n",
       "      <th>26</th>\n",
       "      <td>263480</td>\n",
       "      <td>Hon.</td>\n",
       "      <td>Daniel</td>\n",
       "      <td>K</td>\n",
       "      <td>Cooper</td>\n",
       "      <td>M</td>\n",
       "      <td>daniel.cooper@yahoo.com</td>\n",
       "      <td>Louis Cooper</td>\n",
       "      <td>Julie Cooper</td>\n",
       "      <td>Murphy</td>\n",
       "      <td>...</td>\n",
       "      <td>181-86-2024</td>\n",
       "      <td>701-510-8162</td>\n",
       "      <td>Manning</td>\n",
       "      <td>Dunn</td>\n",
       "      <td>Manning</td>\n",
       "      <td>ND</td>\n",
       "      <td>58642</td>\n",
       "      <td>Midwest</td>\n",
       "      <td>dkcooper</td>\n",
       "      <td>d8p{Pwx2fsW0-Z</td>\n",
       "    </tr>\n",
       "    <tr>\n",
       "      <th>45</th>\n",
       "      <td>226714</td>\n",
       "      <td>Drs.</td>\n",
       "      <td>Nancy</td>\n",
       "      <td>L</td>\n",
       "      <td>Davis</td>\n",
       "      <td>F</td>\n",
       "      <td>nancy.davis@ibm.com</td>\n",
       "      <td>Bruce Davis</td>\n",
       "      <td>Jessica Davis</td>\n",
       "      <td>Moore</td>\n",
       "      <td>...</td>\n",
       "      <td>224-99-5928</td>\n",
       "      <td>219-610-3067</td>\n",
       "      <td>Bowling Green</td>\n",
       "      <td>Clay</td>\n",
       "      <td>Bowling Green</td>\n",
       "      <td>IN</td>\n",
       "      <td>47833</td>\n",
       "      <td>Midwest</td>\n",
       "      <td>nldavis</td>\n",
       "      <td>bv-KfTutT?0*pm</td>\n",
       "    </tr>\n",
       "    <tr>\n",
       "      <th>68</th>\n",
       "      <td>293459</td>\n",
       "      <td>Mr.</td>\n",
       "      <td>Steven</td>\n",
       "      <td>J</td>\n",
       "      <td>Phillips</td>\n",
       "      <td>M</td>\n",
       "      <td>steven.phillips@hotmail.com</td>\n",
       "      <td>Jason Phillips</td>\n",
       "      <td>Gloria Phillips</td>\n",
       "      <td>Lewis</td>\n",
       "      <td>...</td>\n",
       "      <td>578-53-9940</td>\n",
       "      <td>225-968-5952</td>\n",
       "      <td>Baton Rouge</td>\n",
       "      <td>East Baton Rouge</td>\n",
       "      <td>Baton Rouge</td>\n",
       "      <td>LA</td>\n",
       "      <td>70833</td>\n",
       "      <td>South</td>\n",
       "      <td>sjphillips</td>\n",
       "      <td>ht}X55$P&amp;g1</td>\n",
       "    </tr>\n",
       "    <tr>\n",
       "      <th>41</th>\n",
       "      <td>227922</td>\n",
       "      <td>Hon.</td>\n",
       "      <td>Amanda</td>\n",
       "      <td>M</td>\n",
       "      <td>Hughes</td>\n",
       "      <td>F</td>\n",
       "      <td>amanda.hughes@rediffmail.com</td>\n",
       "      <td>Roy Hughes</td>\n",
       "      <td>Cynthia Hughes</td>\n",
       "      <td>Bryant</td>\n",
       "      <td>...</td>\n",
       "      <td>311-35-2540</td>\n",
       "      <td>225-544-9700</td>\n",
       "      <td>Lake Charles</td>\n",
       "      <td>Calcasieu</td>\n",
       "      <td>Lake Charles</td>\n",
       "      <td>LA</td>\n",
       "      <td>70605</td>\n",
       "      <td>South</td>\n",
       "      <td>amhughes</td>\n",
       "      <td>B2N&gt;J{_k7]F</td>\n",
       "    </tr>\n",
       "    <tr>\n",
       "      <th>0</th>\n",
       "      <td>677509</td>\n",
       "      <td>Drs.</td>\n",
       "      <td>Lois</td>\n",
       "      <td>H</td>\n",
       "      <td>Walker</td>\n",
       "      <td>F</td>\n",
       "      <td>lois.walker@hotmail.com</td>\n",
       "      <td>Donald Walker</td>\n",
       "      <td>Helen Walker</td>\n",
       "      <td>Lewis</td>\n",
       "      <td>...</td>\n",
       "      <td>467-99-4677</td>\n",
       "      <td>303-572-8492</td>\n",
       "      <td>Denver</td>\n",
       "      <td>Denver</td>\n",
       "      <td>Denver</td>\n",
       "      <td>CO</td>\n",
       "      <td>80224</td>\n",
       "      <td>West</td>\n",
       "      <td>lhwalker</td>\n",
       "      <td>DCa}.T}X:v?NP</td>\n",
       "    </tr>\n",
       "  </tbody>\n",
       "</table>\n",
       "<p>10 rows × 37 columns</p>\n",
       "</div>"
      ],
      "text/plain": [
       "    Emp ID Name Prefix First Name Middle Initial  Last Name Gender  \\\n",
       "23  388642        Mrs.       Ruby              R     Rogers      F   \n",
       "38  726264        Hon.       Carl              N    Collins      M   \n",
       "9   162402        Hon.      Diana              T   Peterson      F   \n",
       "78  806955         Mr.    William              G  Hernandez      M   \n",
       "21  969580       Prof.    Matthew              L     Turner      M   \n",
       "26  263480        Hon.     Daniel              K     Cooper      M   \n",
       "45  226714        Drs.      Nancy              L      Davis      F   \n",
       "68  293459         Mr.     Steven              J   Phillips      M   \n",
       "41  227922        Hon.     Amanda              M     Hughes      F   \n",
       "0   677509        Drs.       Lois              H     Walker      F   \n",
       "\n",
       "                              E Mail      Father's Name       Mother's Name  \\\n",
       "23             ruby.rogers@gmail.com      Ronald Rogers       Teresa Rogers   \n",
       "38            carl.collins@yahoo.com     Gerald Collins     Phyllis Collins   \n",
       "9       diana.peterson@hotmail.co.uk  Jonathan Peterson  Christina Peterson   \n",
       "78  william.hernandez@rediffmail.com    Peter Hernandez   Deborah Hernandez   \n",
       "21          matthew.turner@gmail.com        Jose Turner        Kathy Turner   \n",
       "26           daniel.cooper@yahoo.com       Louis Cooper        Julie Cooper   \n",
       "45               nancy.davis@ibm.com        Bruce Davis       Jessica Davis   \n",
       "68       steven.phillips@hotmail.com     Jason Phillips     Gloria Phillips   \n",
       "41      amanda.hughes@rediffmail.com         Roy Hughes      Cynthia Hughes   \n",
       "0            lois.walker@hotmail.com      Donald Walker        Helen Walker   \n",
       "\n",
       "   Mother's Maiden Name       ...                 SSN    Phone No.   \\\n",
       "23            Alexander       ...         236-55-0172  423-231-6507   \n",
       "38            Rodriguez       ...         544-81-6171  479-740-7633   \n",
       "9                  Ross       ...         512-33-6767  479-783-5656   \n",
       "78                Jones       ...         629-31-9010  239-276-0532   \n",
       "21                  Cox       ...         598-92-1988  236-972-7624   \n",
       "26               Murphy       ...         181-86-2024  701-510-8162   \n",
       "45                Moore       ...         224-99-5928  219-610-3067   \n",
       "68                Lewis       ...         578-53-9940  225-968-5952   \n",
       "41               Bryant       ...         311-35-2540  225-544-9700   \n",
       "0                 Lewis       ...         467-99-4677  303-572-8492   \n",
       "\n",
       "        Place Name            County            City State    Zip   Region  \\\n",
       "23        Woodbury            Cannon        Woodbury    TN  37190    South   \n",
       "38          Wright         Jefferson          Wright    AR  72182    South   \n",
       "9   Eureka Springs           Carroll  Eureka Springs    AR  72632    South   \n",
       "78     Mary Esther          Okaloosa     Mary Esther    FL  32569    South   \n",
       "21     Heathsville    Northumberland     Heathsville    VA  22473    South   \n",
       "26         Manning              Dunn         Manning    ND  58642  Midwest   \n",
       "45   Bowling Green              Clay   Bowling Green    IN  47833  Midwest   \n",
       "68     Baton Rouge  East Baton Rouge     Baton Rouge    LA  70833    South   \n",
       "41    Lake Charles         Calcasieu    Lake Charles    LA  70605    South   \n",
       "0           Denver            Denver          Denver    CO  80224     West   \n",
       "\n",
       "      User Name         Password  \n",
       "23     rrrogers    t>#P@D9s<:9\\V  \n",
       "38    cncollins     XinULSmjAFL/  \n",
       "9    dtpeterson   3o8>v&tYxjyEAo  \n",
       "78  wghernandez     BRB3DFywgZZ4  \n",
       "21     mlturner  I>tL>d[|lZdi_|^  \n",
       "26     dkcooper   d8p{Pwx2fsW0-Z  \n",
       "45      nldavis   bv-KfTutT?0*pm  \n",
       "68   sjphillips      ht}X55$P&g1  \n",
       "41     amhughes      B2N>J{_k7]F  \n",
       "0      lhwalker    DCa}.T}X:v?NP  \n",
       "\n",
       "[10 rows x 37 columns]"
      ]
     },
     "execution_count": 14,
     "metadata": {},
     "output_type": "execute_result"
    }
   ],
   "source": [
    "emp.sample(10) # random 10 records"
   ]
  },
  {
   "cell_type": "code",
   "execution_count": 15,
   "metadata": {},
   "outputs": [
    {
     "data": {
      "text/plain": [
       "(100, 37)"
      ]
     },
     "execution_count": 15,
     "metadata": {},
     "output_type": "execute_result"
    }
   ],
   "source": [
    "emp.shape"
   ]
  },
  {
   "cell_type": "code",
   "execution_count": 16,
   "metadata": {},
   "outputs": [
    {
     "data": {
      "text/html": [
       "<div>\n",
       "<style scoped>\n",
       "    .dataframe tbody tr th:only-of-type {\n",
       "        vertical-align: middle;\n",
       "    }\n",
       "\n",
       "    .dataframe tbody tr th {\n",
       "        vertical-align: top;\n",
       "    }\n",
       "\n",
       "    .dataframe thead th {\n",
       "        text-align: right;\n",
       "    }\n",
       "</style>\n",
       "<table border=\"1\" class=\"dataframe\">\n",
       "  <thead>\n",
       "    <tr style=\"text-align: right;\">\n",
       "      <th></th>\n",
       "      <th>Emp ID</th>\n",
       "      <th>Age in Yrs.</th>\n",
       "      <th>Weight in Kgs.</th>\n",
       "      <th>Year of Joining</th>\n",
       "      <th>Month of Joining</th>\n",
       "      <th>Day of Joining</th>\n",
       "      <th>Age in Company (Years)</th>\n",
       "      <th>Salary</th>\n",
       "      <th>Zip</th>\n",
       "    </tr>\n",
       "  </thead>\n",
       "  <tbody>\n",
       "    <tr>\n",
       "      <th>count</th>\n",
       "      <td>100.00000</td>\n",
       "      <td>100.000000</td>\n",
       "      <td>100.000000</td>\n",
       "      <td>100.000000</td>\n",
       "      <td>100.000000</td>\n",
       "      <td>100.000000</td>\n",
       "      <td>100.000000</td>\n",
       "      <td>100.000000</td>\n",
       "      <td>100.000000</td>\n",
       "    </tr>\n",
       "    <tr>\n",
       "      <th>mean</th>\n",
       "      <td>547652.10000</td>\n",
       "      <td>39.238700</td>\n",
       "      <td>58.080000</td>\n",
       "      <td>2008.120000</td>\n",
       "      <td>6.250000</td>\n",
       "      <td>16.370000</td>\n",
       "      <td>8.978400</td>\n",
       "      <td>119738.090000</td>\n",
       "      <td>53011.230000</td>\n",
       "    </tr>\n",
       "    <tr>\n",
       "      <th>std</th>\n",
       "      <td>257664.16679</td>\n",
       "      <td>12.066252</td>\n",
       "      <td>12.294106</td>\n",
       "      <td>8.642484</td>\n",
       "      <td>3.453515</td>\n",
       "      <td>9.403046</td>\n",
       "      <td>8.657358</td>\n",
       "      <td>46185.278194</td>\n",
       "      <td>23007.336848</td>\n",
       "    </tr>\n",
       "    <tr>\n",
       "      <th>min</th>\n",
       "      <td>134841.00000</td>\n",
       "      <td>21.100000</td>\n",
       "      <td>40.000000</td>\n",
       "      <td>1983.000000</td>\n",
       "      <td>1.000000</td>\n",
       "      <td>1.000000</td>\n",
       "      <td>0.020000</td>\n",
       "      <td>42005.000000</td>\n",
       "      <td>3867.000000</td>\n",
       "    </tr>\n",
       "    <tr>\n",
       "      <th>25%</th>\n",
       "      <td>328643.75000</td>\n",
       "      <td>28.177500</td>\n",
       "      <td>50.000000</td>\n",
       "      <td>2003.000000</td>\n",
       "      <td>3.000000</td>\n",
       "      <td>7.000000</td>\n",
       "      <td>2.152500</td>\n",
       "      <td>83979.750000</td>\n",
       "      <td>37580.500000</td>\n",
       "    </tr>\n",
       "    <tr>\n",
       "      <th>50%</th>\n",
       "      <td>497414.00000</td>\n",
       "      <td>37.595000</td>\n",
       "      <td>56.000000</td>\n",
       "      <td>2010.500000</td>\n",
       "      <td>7.000000</td>\n",
       "      <td>18.000000</td>\n",
       "      <td>6.435000</td>\n",
       "      <td>118049.500000</td>\n",
       "      <td>52855.000000</td>\n",
       "    </tr>\n",
       "    <tr>\n",
       "      <th>75%</th>\n",
       "      <td>766040.00000</td>\n",
       "      <td>49.900000</td>\n",
       "      <td>61.250000</td>\n",
       "      <td>2015.000000</td>\n",
       "      <td>8.250000</td>\n",
       "      <td>24.000000</td>\n",
       "      <td>13.762500</td>\n",
       "      <td>162509.250000</td>\n",
       "      <td>69514.500000</td>\n",
       "    </tr>\n",
       "    <tr>\n",
       "      <th>max</th>\n",
       "      <td>979607.00000</td>\n",
       "      <td>59.470000</td>\n",
       "      <td>90.000000</td>\n",
       "      <td>2017.000000</td>\n",
       "      <td>12.000000</td>\n",
       "      <td>31.000000</td>\n",
       "      <td>34.520000</td>\n",
       "      <td>197537.000000</td>\n",
       "      <td>99791.000000</td>\n",
       "    </tr>\n",
       "  </tbody>\n",
       "</table>\n",
       "</div>"
      ],
      "text/plain": [
       "             Emp ID  Age in Yrs.  Weight in Kgs.  Year of Joining  \\\n",
       "count     100.00000   100.000000      100.000000       100.000000   \n",
       "mean   547652.10000    39.238700       58.080000      2008.120000   \n",
       "std    257664.16679    12.066252       12.294106         8.642484   \n",
       "min    134841.00000    21.100000       40.000000      1983.000000   \n",
       "25%    328643.75000    28.177500       50.000000      2003.000000   \n",
       "50%    497414.00000    37.595000       56.000000      2010.500000   \n",
       "75%    766040.00000    49.900000       61.250000      2015.000000   \n",
       "max    979607.00000    59.470000       90.000000      2017.000000   \n",
       "\n",
       "       Month of Joining  Day of Joining  Age in Company (Years)  \\\n",
       "count        100.000000      100.000000              100.000000   \n",
       "mean           6.250000       16.370000                8.978400   \n",
       "std            3.453515        9.403046                8.657358   \n",
       "min            1.000000        1.000000                0.020000   \n",
       "25%            3.000000        7.000000                2.152500   \n",
       "50%            7.000000       18.000000                6.435000   \n",
       "75%            8.250000       24.000000               13.762500   \n",
       "max           12.000000       31.000000               34.520000   \n",
       "\n",
       "              Salary           Zip  \n",
       "count     100.000000    100.000000  \n",
       "mean   119738.090000  53011.230000  \n",
       "std     46185.278194  23007.336848  \n",
       "min     42005.000000   3867.000000  \n",
       "25%     83979.750000  37580.500000  \n",
       "50%    118049.500000  52855.000000  \n",
       "75%    162509.250000  69514.500000  \n",
       "max    197537.000000  99791.000000  "
      ]
     },
     "execution_count": 16,
     "metadata": {},
     "output_type": "execute_result"
    }
   ],
   "source": [
    "emp.describe()"
   ]
  },
  {
   "cell_type": "code",
   "execution_count": 17,
   "metadata": {},
   "outputs": [
    {
     "name": "stdout",
     "output_type": "stream",
     "text": [
      "<class 'pandas.core.frame.DataFrame'>\n",
      "RangeIndex: 100 entries, 0 to 99\n",
      "Data columns (total 37 columns):\n",
      "Emp ID                    100 non-null int64\n",
      "Name Prefix               100 non-null object\n",
      "First Name                100 non-null object\n",
      "Middle Initial            100 non-null object\n",
      "Last Name                 100 non-null object\n",
      "Gender                    100 non-null object\n",
      "E Mail                    100 non-null object\n",
      "Father's Name             100 non-null object\n",
      "Mother's Name             100 non-null object\n",
      "Mother's Maiden Name      100 non-null object\n",
      "Date of Birth             100 non-null object\n",
      "Time of Birth             100 non-null object\n",
      "Age in Yrs.               100 non-null float64\n",
      "Weight in Kgs.            100 non-null int64\n",
      "Date of Joining           100 non-null object\n",
      "Quarter of Joining        100 non-null object\n",
      "Half of Joining           100 non-null object\n",
      "Year of Joining           100 non-null int64\n",
      "Month of Joining          100 non-null int64\n",
      "Month Name of Joining     100 non-null object\n",
      "Short Month               100 non-null object\n",
      "Day of Joining            100 non-null int64\n",
      "DOW of Joining            100 non-null object\n",
      "Short DOW                 100 non-null object\n",
      "Age in Company (Years)    100 non-null float64\n",
      "Salary                    100 non-null int64\n",
      "Last % Hike               100 non-null object\n",
      "SSN                       100 non-null object\n",
      "Phone No.                 100 non-null object\n",
      "Place Name                100 non-null object\n",
      "County                    100 non-null object\n",
      "City                      100 non-null object\n",
      "State                     100 non-null object\n",
      "Zip                       100 non-null int64\n",
      "Region                    100 non-null object\n",
      "User Name                 100 non-null object\n",
      "Password                  100 non-null object\n",
      "dtypes: float64(2), int64(7), object(28)\n",
      "memory usage: 29.0+ KB\n"
     ]
    }
   ],
   "source": [
    "emp.info()"
   ]
  },
  {
   "cell_type": "markdown",
   "metadata": {},
   "source": [
    "# Lets get hand dirty"
   ]
  },
  {
   "cell_type": "markdown",
   "metadata": {},
   "source": [
    "``` There are two type of data structure in panda```\n",
    "\n",
    "1. Series : which is similar to numpy 1D array . In here in addition it assign default index.\n",
    "\n",
    "2. DataFrame :It is tabular data structure in which data is laid out in rows and columns format similar to csv, SQL file, but can also be used for higher dimensional data sets. DataFrame object can contain homogenous and hetrogenous values and can thought of logical extension of series data structure. In contrast to series where there is one index a Dataframe has one index for columns  and one index for rows. This allow flexiblity accessing and manipulating data`"
   ]
  },
  {
   "cell_type": "code",
   "execution_count": 18,
   "metadata": {},
   "outputs": [
    {
     "data": {
      "text/plain": [
       "0    12\n",
       "1    13\n",
       "2    14\n",
       "3    15\n",
       "4    16\n",
       "5    17\n",
       "dtype: int64"
      ]
     },
     "execution_count": 18,
     "metadata": {},
     "output_type": "execute_result"
    },
    {
     "data": {
      "text/plain": [
       "array([12, 13, 14, 15, 16, 17], dtype=int64)"
      ]
     },
     "execution_count": 18,
     "metadata": {},
     "output_type": "execute_result"
    },
    {
     "data": {
      "text/plain": [
       "RangeIndex(start=0, stop=6, step=1)"
      ]
     },
     "execution_count": 18,
     "metadata": {},
     "output_type": "execute_result"
    }
   ],
   "source": [
    "series =pd.Series([12,13,14,15,16,17])\n",
    "series\n",
    "series.values\n",
    "series.index"
   ]
  },
  {
   "cell_type": "code",
   "execution_count": 19,
   "metadata": {},
   "outputs": [
    {
     "data": {
      "text/plain": [
       "one      12\n",
       "two      13\n",
       "three    14\n",
       "four     15\n",
       "five     16\n",
       "six      17\n",
       "dtype: int64"
      ]
     },
     "execution_count": 19,
     "metadata": {},
     "output_type": "execute_result"
    }
   ],
   "source": [
    "series1=pd.Series([12,13,14,15,16,17], index=['one','two','three','four','five','six'])\n",
    "series1"
   ]
  },
  {
   "cell_type": "code",
   "execution_count": 20,
   "metadata": {},
   "outputs": [
    {
     "data": {
      "text/plain": [
       "array([12, 13, 14, 15, 16, 17], dtype=int64)"
      ]
     },
     "execution_count": 20,
     "metadata": {},
     "output_type": "execute_result"
    },
    {
     "data": {
      "text/plain": [
       "Index(['one', 'two', 'three', 'four', 'five', 'six'], dtype='object')"
      ]
     },
     "execution_count": 20,
     "metadata": {},
     "output_type": "execute_result"
    }
   ],
   "source": [
    "series1.values\n",
    "series1.index"
   ]
  },
  {
   "cell_type": "code",
   "execution_count": 21,
   "metadata": {},
   "outputs": [
    {
     "data": {
      "text/plain": [
       "14"
      ]
     },
     "execution_count": 21,
     "metadata": {},
     "output_type": "execute_result"
    },
    {
     "data": {
      "text/plain": [
       "14"
      ]
     },
     "execution_count": 21,
     "metadata": {},
     "output_type": "execute_result"
    }
   ],
   "source": [
    "series1[2]\n",
    "series1['three']"
   ]
  },
  {
   "cell_type": "code",
   "execution_count": 22,
   "metadata": {},
   "outputs": [
    {
     "data": {
      "text/plain": [
       "one    12\n",
       "two    13\n",
       "dtype: int64"
      ]
     },
     "execution_count": 22,
     "metadata": {},
     "output_type": "execute_result"
    }
   ],
   "source": [
    "series1[['one','two']] # Accessing using user defined index to get multiple value"
   ]
  },
  {
   "cell_type": "code",
   "execution_count": 23,
   "metadata": {},
   "outputs": [
    {
     "data": {
      "text/plain": [
       "two     13\n",
       "four    15\n",
       "dtype: int64"
      ]
     },
     "execution_count": 23,
     "metadata": {},
     "output_type": "execute_result"
    }
   ],
   "source": [
    "series1[[1,3]]"
   ]
  },
  {
   "cell_type": "code",
   "execution_count": 24,
   "metadata": {},
   "outputs": [
    {
     "data": {
      "text/plain": [
       "Index(['one', 'two', 'three', 'four', 'five', 'six'], dtype='object')"
      ]
     },
     "execution_count": 24,
     "metadata": {},
     "output_type": "execute_result"
    },
    {
     "data": {
      "text/plain": [
       "array([12, 13, 14, 15, 16, 17], dtype=int64)"
      ]
     },
     "execution_count": 24,
     "metadata": {},
     "output_type": "execute_result"
    }
   ],
   "source": [
    "series1.index # index is of object type\n",
    "series1.values # values is of integer type"
   ]
  },
  {
   "cell_type": "code",
   "execution_count": 25,
   "metadata": {},
   "outputs": [
    {
     "data": {
      "text/plain": [
       "one      16\n",
       "two      17\n",
       "three    18\n",
       "four     19\n",
       "five     20\n",
       "six      21\n",
       "dtype: int64"
      ]
     },
     "execution_count": 25,
     "metadata": {},
     "output_type": "execute_result"
    }
   ],
   "source": [
    "series1 + 4 # add 4 to all element of the series"
   ]
  },
  {
   "cell_type": "code",
   "execution_count": 26,
   "metadata": {},
   "outputs": [
    {
     "data": {
      "text/plain": [
       "one      144\n",
       "two      169\n",
       "three    196\n",
       "four     225\n",
       "five     256\n",
       "six      289\n",
       "dtype: int64"
      ]
     },
     "execution_count": 26,
     "metadata": {},
     "output_type": "execute_result"
    }
   ],
   "source": [
    "series1 ** 2"
   ]
  },
  {
   "cell_type": "code",
   "execution_count": 27,
   "metadata": {},
   "outputs": [
    {
     "data": {
      "text/plain": [
       "three    14\n",
       "four     15\n",
       "five     16\n",
       "six      17\n",
       "dtype: int64"
      ]
     },
     "execution_count": 27,
     "metadata": {},
     "output_type": "execute_result"
    }
   ],
   "source": [
    "series1[series1>13]"
   ]
  },
  {
   "cell_type": "code",
   "execution_count": 28,
   "metadata": {},
   "outputs": [
    {
     "data": {
      "text/plain": [
       "one      12\n",
       "two      13\n",
       "three    14\n",
       "four     15\n",
       "five     16\n",
       "six      17\n",
       "dtype: int64"
      ]
     },
     "execution_count": 28,
     "metadata": {},
     "output_type": "execute_result"
    },
    {
     "data": {
      "text/plain": [
       "one      3.464102\n",
       "two      3.605551\n",
       "three    3.741657\n",
       "four     3.872983\n",
       "five     4.000000\n",
       "six      4.123106\n",
       "dtype: float64"
      ]
     },
     "execution_count": 28,
     "metadata": {},
     "output_type": "execute_result"
    }
   ],
   "source": [
    "series1\n",
    "np.sqrt(series1) # using numpy square root  feature on series"
   ]
  },
  {
   "cell_type": "code",
   "execution_count": 29,
   "metadata": {},
   "outputs": [
    {
     "data": {
      "text/plain": [
       "30    1\n",
       "40    2\n",
       "50    7\n",
       "60    3\n",
       "70    4\n",
       "80    5\n",
       "90    6\n",
       "dtype: int64"
      ]
     },
     "execution_count": 29,
     "metadata": {},
     "output_type": "execute_result"
    },
    {
     "data": {
      "text/plain": [
       "30    1\n",
       "40    2\n",
       "50    7\n",
       "60    3\n",
       "70    4\n",
       "80    5\n",
       "90    6\n",
       "dtype: int64"
      ]
     },
     "execution_count": 29,
     "metadata": {},
     "output_type": "execute_result"
    }
   ],
   "source": [
    "yrs=[30,40,50,60,70,80,90]\n",
    "f1={30:1,40:2,50:7,60:3,70:4,80:5,90:6}\n",
    "firm1=pd.Series(f1,index=yrs)\n",
    "firm1\n",
    "firm2=pd.Series(f1)\n",
    "firm2"
   ]
  },
  {
   "cell_type": "code",
   "execution_count": 30,
   "metadata": {},
   "outputs": [
    {
     "data": {
      "text/plain": [
       "30    2.0\n",
       "40    7.0\n",
       "50    NaN\n",
       "60    3.0\n",
       "70    4.0\n",
       "80    5.0\n",
       "90    6.0\n",
       "97    NaN\n",
       "dtype: float64"
      ]
     },
     "execution_count": 30,
     "metadata": {},
     "output_type": "execute_result"
    },
    {
     "data": {
      "text/plain": [
       "20    1\n",
       "30    2\n",
       "40    7\n",
       "60    3\n",
       "70    4\n",
       "80    5\n",
       "90    6\n",
       "dtype: int64"
      ]
     },
     "execution_count": 30,
     "metadata": {},
     "output_type": "execute_result"
    }
   ],
   "source": [
    "yrs=[30,40,50,60,70,80,90,97]\n",
    "f3={20:1,30:2,40:7,60:3,70:4,80:5,90:6}\n",
    "firm3=pd.Series(f3,index=yrs) # since we dont have 20 in the list to map it will not be stored in firm2 series\n",
    "firm3\n",
    "firm4=pd.Series(f3)\n",
    "firm4"
   ]
  },
  {
   "cell_type": "markdown",
   "metadata": {},
   "source": [
    "```NaN  stand for missing or not applicable values use isnull function find out those missing values in data structure```"
   ]
  },
  {
   "cell_type": "code",
   "execution_count": 31,
   "metadata": {},
   "outputs": [
    {
     "data": {
      "text/plain": [
       "30    False\n",
       "40    False\n",
       "50     True\n",
       "60    False\n",
       "70    False\n",
       "80    False\n",
       "90    False\n",
       "97     True\n",
       "dtype: bool"
      ]
     },
     "execution_count": 31,
     "metadata": {},
     "output_type": "execute_result"
    }
   ],
   "source": [
    "pd.isnull(firm3)"
   ]
  },
  {
   "cell_type": "markdown",
   "metadata": {},
   "source": [
    "```Key feature of series data is structure we dont need to worry about of data allignment```"
   ]
  },
  {
   "cell_type": "code",
   "execution_count": 32,
   "metadata": {},
   "outputs": [
    {
     "name": "stdout",
     "output_type": "stream",
     "text": [
      "debt       12\n",
      "earning    23\n",
      "finance     8\n",
      "dtype: int64\n"
     ]
    },
    {
     "data": {
      "text/plain": [
       "compensation    23\n",
       "earning         12\n",
       "finance          8\n",
       "dtype: int64"
      ]
     },
     "execution_count": 32,
     "metadata": {},
     "output_type": "execute_result"
    }
   ],
   "source": [
    "dict1={'finance': 8, 'earning':23, 'debt':12}\n",
    "dict2={'finance': 8, 'compensation':23, 'earning':12}\n",
    "count1=pd.Series(dict1)\n",
    "count2=pd.Series(dict2)\n",
    "print(count1)\n",
    "count2"
   ]
  },
  {
   "cell_type": "code",
   "execution_count": 33,
   "metadata": {},
   "outputs": [
    {
     "name": "stdout",
     "output_type": "stream",
     "text": [
      "<class 'pandas.core.series.Series'>\n"
     ]
    },
    {
     "data": {
      "text/plain": [
       "compensation     NaN\n",
       "debt             NaN\n",
       "earning         35.0\n",
       "finance         16.0\n",
       "dtype: float64"
      ]
     },
     "execution_count": 33,
     "metadata": {},
     "output_type": "execute_result"
    }
   ],
   "source": [
    "print(type(count1))\n",
    "count1+count2"
   ]
  },
  {
   "cell_type": "code",
   "execution_count": 34,
   "metadata": {},
   "outputs": [],
   "source": [
    "count3=count1+count2"
   ]
  },
  {
   "cell_type": "code",
   "execution_count": 35,
   "metadata": {},
   "outputs": [
    {
     "name": "stdout",
     "output_type": "stream",
     "text": [
      "compensation     NaN\n",
      "debt             NaN\n",
      "earning         35.0\n",
      "finance         16.0\n",
      "dtype: float64\n",
      "[nan nan 35. 16.]\n",
      "Index(['compensation', 'debt', 'earning', 'finance'], dtype='object')\n"
     ]
    }
   ],
   "source": [
    "print(count3)\n",
    "print(count3.values)\n",
    "print(count3.index)"
   ]
  },
  {
   "cell_type": "markdown",
   "metadata": {},
   "source": [
    "```Data frame is tabular data structure in which data is laid out in rows and columns format similar to csv, SQL file, but can also be used for higher dimensional data sets. DataFrame object can contain homogenous and hetrogenous values and can thought of logical extension of series data structure. In contrast to series where there is one index a Dataframe has one index for columns  and one index for rows. This allow flexiblity accessing and manipulating data```"
   ]
  },
  {
   "cell_type": "code",
   "execution_count": 36,
   "metadata": {},
   "outputs": [],
   "source": [
    "data= pd.DataFrame({'price':[12,23,23,32],\n",
    "                     'ticker':['abc','def','ghi','jkl'],\n",
    "                    'company':['pqr','stu','vwx','lmn']})"
   ]
  },
  {
   "cell_type": "code",
   "execution_count": 37,
   "metadata": {},
   "outputs": [
    {
     "data": {
      "text/html": [
       "<div>\n",
       "<style scoped>\n",
       "    .dataframe tbody tr th:only-of-type {\n",
       "        vertical-align: middle;\n",
       "    }\n",
       "\n",
       "    .dataframe tbody tr th {\n",
       "        vertical-align: top;\n",
       "    }\n",
       "\n",
       "    .dataframe thead th {\n",
       "        text-align: right;\n",
       "    }\n",
       "</style>\n",
       "<table border=\"1\" class=\"dataframe\">\n",
       "  <thead>\n",
       "    <tr style=\"text-align: right;\">\n",
       "      <th></th>\n",
       "      <th>company</th>\n",
       "      <th>price</th>\n",
       "      <th>ticker</th>\n",
       "    </tr>\n",
       "  </thead>\n",
       "  <tbody>\n",
       "    <tr>\n",
       "      <th>0</th>\n",
       "      <td>pqr</td>\n",
       "      <td>12</td>\n",
       "      <td>abc</td>\n",
       "    </tr>\n",
       "    <tr>\n",
       "      <th>1</th>\n",
       "      <td>stu</td>\n",
       "      <td>23</td>\n",
       "      <td>def</td>\n",
       "    </tr>\n",
       "    <tr>\n",
       "      <th>2</th>\n",
       "      <td>vwx</td>\n",
       "      <td>23</td>\n",
       "      <td>ghi</td>\n",
       "    </tr>\n",
       "    <tr>\n",
       "      <th>3</th>\n",
       "      <td>lmn</td>\n",
       "      <td>32</td>\n",
       "      <td>jkl</td>\n",
       "    </tr>\n",
       "  </tbody>\n",
       "</table>\n",
       "</div>"
      ],
      "text/plain": [
       "  company  price ticker\n",
       "0     pqr     12    abc\n",
       "1     stu     23    def\n",
       "2     vwx     23    ghi\n",
       "3     lmn     32    jkl"
      ]
     },
     "execution_count": 37,
     "metadata": {},
     "output_type": "execute_result"
    }
   ],
   "source": [
    "data"
   ]
  },
  {
   "cell_type": "code",
   "execution_count": 38,
   "metadata": {},
   "outputs": [
    {
     "data": {
      "text/plain": [
       "0    pqr\n",
       "1    stu\n",
       "2    vwx\n",
       "3    lmn\n",
       "Name: company, dtype: object"
      ]
     },
     "execution_count": 38,
     "metadata": {},
     "output_type": "execute_result"
    },
    {
     "data": {
      "text/plain": [
       "0    abc\n",
       "1    def\n",
       "2    ghi\n",
       "3    jkl\n",
       "Name: ticker, dtype: object"
      ]
     },
     "execution_count": 38,
     "metadata": {},
     "output_type": "execute_result"
    }
   ],
   "source": [
    "data['company']\n",
    "data['ticker']"
   ]
  },
  {
   "cell_type": "code",
   "execution_count": 39,
   "metadata": {},
   "outputs": [
    {
     "data": {
      "text/html": [
       "<div>\n",
       "<style scoped>\n",
       "    .dataframe tbody tr th:only-of-type {\n",
       "        vertical-align: middle;\n",
       "    }\n",
       "\n",
       "    .dataframe tbody tr th {\n",
       "        vertical-align: top;\n",
       "    }\n",
       "\n",
       "    .dataframe thead th {\n",
       "        text-align: right;\n",
       "    }\n",
       "</style>\n",
       "<table border=\"1\" class=\"dataframe\">\n",
       "  <thead>\n",
       "    <tr style=\"text-align: right;\">\n",
       "      <th></th>\n",
       "      <th>company</th>\n",
       "      <th>price</th>\n",
       "      <th>ticker</th>\n",
       "    </tr>\n",
       "  </thead>\n",
       "  <tbody>\n",
       "    <tr>\n",
       "      <th>2</th>\n",
       "      <td>vwx</td>\n",
       "      <td>23</td>\n",
       "      <td>ghi</td>\n",
       "    </tr>\n",
       "    <tr>\n",
       "      <th>3</th>\n",
       "      <td>lmn</td>\n",
       "      <td>32</td>\n",
       "      <td>jkl</td>\n",
       "    </tr>\n",
       "  </tbody>\n",
       "</table>\n",
       "</div>"
      ],
      "text/plain": [
       "  company  price ticker\n",
       "2     vwx     23    ghi\n",
       "3     lmn     32    jkl"
      ]
     },
     "execution_count": 39,
     "metadata": {},
     "output_type": "execute_result"
    }
   ],
   "source": [
    "data[2:]"
   ]
  },
  {
   "cell_type": "code",
   "execution_count": 40,
   "metadata": {},
   "outputs": [
    {
     "data": {
      "text/plain": [
       "'jkl'"
      ]
     },
     "execution_count": 40,
     "metadata": {},
     "output_type": "execute_result"
    }
   ],
   "source": [
    "data.iloc[3,2]"
   ]
  },
  {
   "cell_type": "code",
   "execution_count": 41,
   "metadata": {},
   "outputs": [
    {
     "data": {
      "text/html": [
       "<div>\n",
       "<style scoped>\n",
       "    .dataframe tbody tr th:only-of-type {\n",
       "        vertical-align: middle;\n",
       "    }\n",
       "\n",
       "    .dataframe tbody tr th {\n",
       "        vertical-align: top;\n",
       "    }\n",
       "\n",
       "    .dataframe thead th {\n",
       "        text-align: right;\n",
       "    }\n",
       "</style>\n",
       "<table border=\"1\" class=\"dataframe\">\n",
       "  <thead>\n",
       "    <tr style=\"text-align: right;\">\n",
       "      <th></th>\n",
       "      <th>company</th>\n",
       "      <th>price</th>\n",
       "      <th>ticker</th>\n",
       "    </tr>\n",
       "  </thead>\n",
       "  <tbody>\n",
       "    <tr>\n",
       "      <th>0</th>\n",
       "      <td>pqr</td>\n",
       "      <td>12</td>\n",
       "      <td>abc</td>\n",
       "    </tr>\n",
       "    <tr>\n",
       "      <th>1</th>\n",
       "      <td>stu</td>\n",
       "      <td>23</td>\n",
       "      <td>def</td>\n",
       "    </tr>\n",
       "  </tbody>\n",
       "</table>\n",
       "</div>"
      ],
      "text/plain": [
       "  company  price ticker\n",
       "0     pqr     12    abc\n",
       "1     stu     23    def"
      ]
     },
     "execution_count": 41,
     "metadata": {},
     "output_type": "execute_result"
    },
    {
     "data": {
      "text/html": [
       "<div>\n",
       "<style scoped>\n",
       "    .dataframe tbody tr th:only-of-type {\n",
       "        vertical-align: middle;\n",
       "    }\n",
       "\n",
       "    .dataframe tbody tr th {\n",
       "        vertical-align: top;\n",
       "    }\n",
       "\n",
       "    .dataframe thead th {\n",
       "        text-align: right;\n",
       "    }\n",
       "</style>\n",
       "<table border=\"1\" class=\"dataframe\">\n",
       "  <thead>\n",
       "    <tr style=\"text-align: right;\">\n",
       "      <th></th>\n",
       "      <th>company</th>\n",
       "      <th>price</th>\n",
       "      <th>ticker</th>\n",
       "    </tr>\n",
       "  </thead>\n",
       "  <tbody>\n",
       "    <tr>\n",
       "      <th>0</th>\n",
       "      <td>pqr</td>\n",
       "      <td>12</td>\n",
       "      <td>abc</td>\n",
       "    </tr>\n",
       "    <tr>\n",
       "      <th>1</th>\n",
       "      <td>stu</td>\n",
       "      <td>23</td>\n",
       "      <td>def</td>\n",
       "    </tr>\n",
       "  </tbody>\n",
       "</table>\n",
       "</div>"
      ],
      "text/plain": [
       "  company  price ticker\n",
       "0     pqr     12    abc\n",
       "1     stu     23    def"
      ]
     },
     "execution_count": 41,
     "metadata": {},
     "output_type": "execute_result"
    }
   ],
   "source": [
    "data.iloc[0:2]\n",
    "data.iloc[0:2,:] # It render same result its recommended to second way so avoid confusion."
   ]
  },
  {
   "cell_type": "code",
   "execution_count": 42,
   "metadata": {},
   "outputs": [
    {
     "data": {
      "text/html": [
       "<div>\n",
       "<style scoped>\n",
       "    .dataframe tbody tr th:only-of-type {\n",
       "        vertical-align: middle;\n",
       "    }\n",
       "\n",
       "    .dataframe tbody tr th {\n",
       "        vertical-align: top;\n",
       "    }\n",
       "\n",
       "    .dataframe thead th {\n",
       "        text-align: right;\n",
       "    }\n",
       "</style>\n",
       "<table border=\"1\" class=\"dataframe\">\n",
       "  <thead>\n",
       "    <tr style=\"text-align: right;\">\n",
       "      <th></th>\n",
       "      <th>price</th>\n",
       "      <th>ticker</th>\n",
       "    </tr>\n",
       "  </thead>\n",
       "  <tbody>\n",
       "    <tr>\n",
       "      <th>0</th>\n",
       "      <td>12</td>\n",
       "      <td>abc</td>\n",
       "    </tr>\n",
       "    <tr>\n",
       "      <th>1</th>\n",
       "      <td>23</td>\n",
       "      <td>def</td>\n",
       "    </tr>\n",
       "    <tr>\n",
       "      <th>2</th>\n",
       "      <td>23</td>\n",
       "      <td>ghi</td>\n",
       "    </tr>\n",
       "    <tr>\n",
       "      <th>3</th>\n",
       "      <td>32</td>\n",
       "      <td>jkl</td>\n",
       "    </tr>\n",
       "  </tbody>\n",
       "</table>\n",
       "</div>"
      ],
      "text/plain": [
       "   price ticker\n",
       "0     12    abc\n",
       "1     23    def\n",
       "2     23    ghi\n",
       "3     32    jkl"
      ]
     },
     "execution_count": 42,
     "metadata": {},
     "output_type": "execute_result"
    }
   ],
   "source": [
    "data.iloc[0:,1:]"
   ]
  },
  {
   "cell_type": "code",
   "execution_count": 43,
   "metadata": {},
   "outputs": [
    {
     "data": {
      "text/plain": [
       "0    12\n",
       "1    23\n",
       "2    23\n",
       "3    32\n",
       "Name: price, dtype: int64"
      ]
     },
     "execution_count": 43,
     "metadata": {},
     "output_type": "execute_result"
    }
   ],
   "source": [
    "data.iloc[0:,1] # iloc always works with index to pull data"
   ]
  },
  {
   "cell_type": "code",
   "execution_count": 44,
   "metadata": {},
   "outputs": [
    {
     "data": {
      "text/html": [
       "<div>\n",
       "<style scoped>\n",
       "    .dataframe tbody tr th:only-of-type {\n",
       "        vertical-align: middle;\n",
       "    }\n",
       "\n",
       "    .dataframe tbody tr th {\n",
       "        vertical-align: top;\n",
       "    }\n",
       "\n",
       "    .dataframe thead th {\n",
       "        text-align: right;\n",
       "    }\n",
       "</style>\n",
       "<table border=\"1\" class=\"dataframe\">\n",
       "  <thead>\n",
       "    <tr style=\"text-align: right;\">\n",
       "      <th></th>\n",
       "      <th>ticker</th>\n",
       "    </tr>\n",
       "  </thead>\n",
       "  <tbody>\n",
       "    <tr>\n",
       "      <th>2</th>\n",
       "      <td>ghi</td>\n",
       "    </tr>\n",
       "  </tbody>\n",
       "</table>\n",
       "</div>"
      ],
      "text/plain": [
       "  ticker\n",
       "2    ghi"
      ]
     },
     "execution_count": 44,
     "metadata": {},
     "output_type": "execute_result"
    }
   ],
   "source": [
    "data.loc[[2],['ticker']] # loc is felixible to work with label and index to fetch data."
   ]
  },
  {
   "cell_type": "code",
   "execution_count": 45,
   "metadata": {},
   "outputs": [
    {
     "data": {
      "text/html": [
       "<div>\n",
       "<style scoped>\n",
       "    .dataframe tbody tr th:only-of-type {\n",
       "        vertical-align: middle;\n",
       "    }\n",
       "\n",
       "    .dataframe tbody tr th {\n",
       "        vertical-align: top;\n",
       "    }\n",
       "\n",
       "    .dataframe thead th {\n",
       "        text-align: right;\n",
       "    }\n",
       "</style>\n",
       "<table border=\"1\" class=\"dataframe\">\n",
       "  <thead>\n",
       "    <tr style=\"text-align: right;\">\n",
       "      <th></th>\n",
       "      <th>ticker</th>\n",
       "      <th>price</th>\n",
       "    </tr>\n",
       "  </thead>\n",
       "  <tbody>\n",
       "    <tr>\n",
       "      <th>2</th>\n",
       "      <td>ghi</td>\n",
       "      <td>23</td>\n",
       "    </tr>\n",
       "    <tr>\n",
       "      <th>3</th>\n",
       "      <td>jkl</td>\n",
       "      <td>32</td>\n",
       "    </tr>\n",
       "  </tbody>\n",
       "</table>\n",
       "</div>"
      ],
      "text/plain": [
       "  ticker  price\n",
       "2    ghi     23\n",
       "3    jkl     32"
      ]
     },
     "execution_count": 45,
     "metadata": {},
     "output_type": "execute_result"
    }
   ],
   "source": [
    "data.loc[2:3,['ticker','price']] "
   ]
  },
  {
   "cell_type": "code",
   "execution_count": 46,
   "metadata": {},
   "outputs": [
    {
     "data": {
      "text/html": [
       "<div>\n",
       "<style scoped>\n",
       "    .dataframe tbody tr th:only-of-type {\n",
       "        vertical-align: middle;\n",
       "    }\n",
       "\n",
       "    .dataframe tbody tr th {\n",
       "        vertical-align: top;\n",
       "    }\n",
       "\n",
       "    .dataframe thead th {\n",
       "        text-align: right;\n",
       "    }\n",
       "</style>\n",
       "<table border=\"1\" class=\"dataframe\">\n",
       "  <thead>\n",
       "    <tr style=\"text-align: right;\">\n",
       "      <th></th>\n",
       "      <th>company</th>\n",
       "    </tr>\n",
       "  </thead>\n",
       "  <tbody>\n",
       "    <tr>\n",
       "      <th>0</th>\n",
       "      <td>pqr</td>\n",
       "    </tr>\n",
       "    <tr>\n",
       "      <th>1</th>\n",
       "      <td>stu</td>\n",
       "    </tr>\n",
       "    <tr>\n",
       "      <th>2</th>\n",
       "      <td>vwx</td>\n",
       "    </tr>\n",
       "    <tr>\n",
       "      <th>3</th>\n",
       "      <td>lmn</td>\n",
       "    </tr>\n",
       "  </tbody>\n",
       "</table>\n",
       "</div>"
      ],
      "text/plain": [
       "  company\n",
       "0     pqr\n",
       "1     stu\n",
       "2     vwx\n",
       "3     lmn"
      ]
     },
     "execution_count": 46,
     "metadata": {},
     "output_type": "execute_result"
    }
   ],
   "source": [
    "data.loc[:,['company']]"
   ]
  },
  {
   "cell_type": "code",
   "execution_count": 47,
   "metadata": {},
   "outputs": [
    {
     "ename": "SyntaxError",
     "evalue": "invalid syntax (<ipython-input-47-f12b51521777>, line 1)",
     "output_type": "error",
     "traceback": [
      "\u001b[1;36m  File \u001b[1;32m\"<ipython-input-47-f12b51521777>\"\u001b[1;36m, line \u001b[1;32m1\u001b[0m\n\u001b[1;33m    data.loc[[0,:]\u001b[0m\n\u001b[1;37m                ^\u001b[0m\n\u001b[1;31mSyntaxError\u001b[0m\u001b[1;31m:\u001b[0m invalid syntax\n"
     ]
    }
   ],
   "source": [
    "data.loc[[0,:]"
   ]
  },
  {
   "cell_type": "code",
   "execution_count": null,
   "metadata": {},
   "outputs": [],
   "source": [
    "data[data.price>2]"
   ]
  },
  {
   "cell_type": "code",
   "execution_count": null,
   "metadata": {},
   "outputs": [],
   "source": [
    "data['year']=2014"
   ]
  },
  {
   "cell_type": "code",
   "execution_count": null,
   "metadata": {},
   "outputs": [],
   "source": [
    "data"
   ]
  },
  {
   "cell_type": "code",
   "execution_count": null,
   "metadata": {},
   "outputs": [],
   "source": [
    "data['pricesquared']=data.price**2"
   ]
  },
  {
   "cell_type": "code",
   "execution_count": null,
   "metadata": {},
   "outputs": [],
   "source": [
    "data"
   ]
  },
  {
   "cell_type": "code",
   "execution_count": null,
   "metadata": {},
   "outputs": [],
   "source": [
    "data['sqrtprice']=np.sqrt(data.pricesquared)"
   ]
  },
  {
   "cell_type": "code",
   "execution_count": null,
   "metadata": {},
   "outputs": [],
   "source": [
    "data"
   ]
  },
  {
   "cell_type": "code",
   "execution_count": null,
   "metadata": {},
   "outputs": [],
   "source": [
    "del data['pricesquared']"
   ]
  },
  {
   "cell_type": "code",
   "execution_count": null,
   "metadata": {},
   "outputs": [],
   "source": [
    "data"
   ]
  },
  {
   "cell_type": "code",
   "execution_count": null,
   "metadata": {},
   "outputs": [],
   "source": [
    "data['pricesquared']=np.NaN"
   ]
  },
  {
   "cell_type": "code",
   "execution_count": null,
   "metadata": {},
   "outputs": [],
   "source": [
    "data"
   ]
  },
  {
   "cell_type": "code",
   "execution_count": null,
   "metadata": {},
   "outputs": [],
   "source": [
    "data['sequence']=np.arange(1,5)"
   ]
  },
  {
   "cell_type": "code",
   "execution_count": null,
   "metadata": {},
   "outputs": [],
   "source": [
    "data"
   ]
  },
  {
   "cell_type": "code",
   "execution_count": null,
   "metadata": {},
   "outputs": [],
   "source": [
    "data.values"
   ]
  },
  {
   "cell_type": "code",
   "execution_count": null,
   "metadata": {},
   "outputs": [],
   "source": [
    "data.shape"
   ]
  },
  {
   "cell_type": "code",
   "execution_count": null,
   "metadata": {},
   "outputs": [],
   "source": [
    "data.mean()\n",
    "data.median()\n",
    "data.std()\n",
    "data.describe()\n",
    "data.info()"
   ]
  }
 ],
 "metadata": {
  "kernelspec": {
   "display_name": "Python 3",
   "language": "python",
   "name": "python3"
  },
  "language_info": {
   "codemirror_mode": {
    "name": "ipython",
    "version": 3
   },
   "file_extension": ".py",
   "mimetype": "text/x-python",
   "name": "python",
   "nbconvert_exporter": "python",
   "pygments_lexer": "ipython3",
   "version": "3.6.4"
  }
 },
 "nbformat": 4,
 "nbformat_minor": 2
}
