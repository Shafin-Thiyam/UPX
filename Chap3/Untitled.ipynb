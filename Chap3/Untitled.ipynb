{
 "cells": [
  {
   "cell_type": "markdown",
   "metadata": {},
   "source": [
    "###### 1.For a normal distribution, both the median and mean happen to be 75. Can you guess approximately what will be the value of the mode?\n",
    "1. 150\n",
    "2. 0\n",
    "3. 75\n",
    "4. 5625"
   ]
  },
  {
   "cell_type": "markdown",
   "metadata": {},
   "source": [
    "``` \n",
    "Answer: Option 3, since in normmal distribution mean mode and median are equal.\n",
    "```"
   ]
  },
  {
   "cell_type": "markdown",
   "metadata": {},
   "source": [
    "___"
   ]
  },
  {
   "cell_type": "markdown",
   "metadata": {},
   "source": [
    "######  2. Which of the below distributions have the highest Inter-Quartile Range?\n",
    "<img src=\"boxplot.jpg\" width=\"500\" height=\"500\" align=\"left\" />"
   ]
  },
  {
   "cell_type": "code",
   "execution_count": null,
   "metadata": {},
   "outputs": [],
   "source": []
  },
  {
   "cell_type": "markdown",
   "metadata": {},
   "source": [
    "___"
   ]
  },
  {
   "cell_type": "markdown",
   "metadata": {},
   "source": [
    "###### 3. You are a Data Scientist working with FlipKart. The Category Manager who is tasked with increasing the sales of Sports Merchandise on the site comes up to you and asks “How are the sales of Sports Merchandise doing this year? Are we better off this year than in the past?”You have the yearly data of the Sports Merchandise sales for the last decade. You also have monthly data for the six months lapsed this year. This is the only data at your disposal. Which of the below measures will you generate to support your response?\n",
    "1. Kurtosis\n",
    "2. Sample Variance\n",
    "3. Mean/Median/Mode\n",
    "4. Z-score"
   ]
  },
  {
   "cell_type": "code",
   "execution_count": null,
   "metadata": {},
   "outputs": [],
   "source": []
  },
  {
   "cell_type": "markdown",
   "metadata": {},
   "source": [
    "___"
   ]
  },
  {
   "cell_type": "code",
   "execution_count": null,
   "metadata": {},
   "outputs": [],
   "source": []
  }
 ],
 "metadata": {
  "kernelspec": {
   "display_name": "Python 3",
   "language": "python",
   "name": "python3"
  },
  "language_info": {
   "codemirror_mode": {
    "name": "ipython",
    "version": 3
   },
   "file_extension": ".py",
   "mimetype": "text/x-python",
   "name": "python",
   "nbconvert_exporter": "python",
   "pygments_lexer": "ipython3",
   "version": "3.6.4"
  }
 },
 "nbformat": 4,
 "nbformat_minor": 2
}
