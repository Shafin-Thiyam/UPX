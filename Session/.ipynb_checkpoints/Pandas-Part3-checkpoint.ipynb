{
 "cells": [
  {
   "cell_type": "markdown",
   "metadata": {},
   "source": [
    "# Pandas"
   ]
  },
  {
   "cell_type": "markdown",
   "metadata": {},
   "source": [
    "1. **Descriptive**\n",
    "2. **Missing Values**\n",
    "3. **Graphs /Plotting**\n",
    "4. **Joins**\n",
    "5. **Reindexing**\n",
    "6. **Misc**\n",
    "7. **Data reader from web need to revisit by RP**"
   ]
  },
  {
   "cell_type": "code",
   "execution_count": null,
   "metadata": {},
   "outputs": [],
   "source": [
    "from IPython.core.interactiveshell import InteractiveShell\n",
    "InteractiveShell.ast_node_interactivity = \"all\"\n",
    "import numpy as np\n",
    "import sqlalchemy as sc\n",
    "from sqlalchemy import create_engine as ce\n",
    "import pandas as pd\n",
    "import matplotlib.pyplot as plt\n",
    "%matplotlib inline"
   ]
  },
  {
   "cell_type": "markdown",
   "metadata": {},
   "source": [
    "1. 1D data is called series data\n",
    "2. 2D data is called dataframe data\n",
    "3. 3D and above data is called panel data"
   ]
  },
  {
   "cell_type": "code",
   "execution_count": null,
   "metadata": {},
   "outputs": [],
   "source": [
    "Dataset=\"../Datasets\""
   ]
  },
  {
   "cell_type": "markdown",
   "metadata": {},
   "source": [
    "**There are 3 type of Data structure in pandas**\n",
    "1. Series: It is 1D array which assign index to each value.\n",
    "2. Dataframe: It is 2D array. Its a tabular data structure.\n",
    "3. Panel: It has 3 dimensional and more dimensional array."
   ]
  },
  {
   "cell_type": "markdown",
   "metadata": {},
   "source": [
    "# Read CSV file and creating dataframe"
   ]
  },
  {
   "cell_type": "code",
   "execution_count": null,
   "metadata": {},
   "outputs": [],
   "source": [
    "cars_df=pd.read_csv(Dataset+'/cars.csv')"
   ]
  },
  {
   "cell_type": "code",
   "execution_count": null,
   "metadata": {},
   "outputs": [],
   "source": [
    "cars_df.head(20)"
   ]
  },
  {
   "cell_type": "code",
   "execution_count": null,
   "metadata": {},
   "outputs": [],
   "source": [
    "cars_df.tail(20)"
   ]
  },
  {
   "cell_type": "code",
   "execution_count": null,
   "metadata": {},
   "outputs": [],
   "source": [
    "cars_df.sample(20)"
   ]
  },
  {
   "cell_type": "code",
   "execution_count": null,
   "metadata": {},
   "outputs": [],
   "source": [
    "cars_df.columns"
   ]
  },
  {
   "cell_type": "code",
   "execution_count": null,
   "metadata": {},
   "outputs": [],
   "source": [
    "type(cars_df)"
   ]
  },
  {
   "cell_type": "code",
   "execution_count": null,
   "metadata": {},
   "outputs": [],
   "source": [
    "cars_df.shape"
   ]
  },
  {
   "cell_type": "code",
   "execution_count": null,
   "metadata": {},
   "outputs": [],
   "source": [
    "cars_df.describe()"
   ]
  },
  {
   "cell_type": "code",
   "execution_count": null,
   "metadata": {},
   "outputs": [],
   "source": [
    "cars_df.info()"
   ]
  },
  {
   "cell_type": "markdown",
   "metadata": {},
   "source": [
    "**Correlation**\n",
    "```\n",
    "How factor x1  is co related to x2\n",
    "```"
   ]
  },
  {
   "cell_type": "markdown",
   "metadata": {},
   "source": [
    "**Here x2 and x1 is changing in same direction this is called Positive Correlation**\n",
    "<img src=\"corr.jpg\" width=\"250\"/>\n",
    "```\n",
    "Closer its to '1' stronger the positive correlation and in other word its 100% positive correlated\n",
    "```"
   ]
  },
  {
   "cell_type": "markdown",
   "metadata": {},
   "source": [
    "**Here x2 and x1 is changing in different direction this is called negative correlation**\n",
    "<img src=\"corr2.jpg\" width=\"250\"/>\n",
    "```\n",
    "Closer its to '-1' stronger the negative correlation and in other word its 100% negative correlated\n",
    "```"
   ]
  },
  {
   "cell_type": "markdown",
   "metadata": {},
   "source": [
    "**Here x1 changes but has no effect on x2 this is called No correlation or uncorrelated**\n",
    "<img src=\"corr3.jpg\" width=\"250\"/>"
   ]
  },
  {
   "cell_type": "markdown",
   "metadata": {},
   "source": [
    "```Point to remember```\n",
    "1. Correlation coeficieant can be between +1 and -1\n",
    "2. If correlation is close to +1 its positive correlated and if its close to -1 its negative correlation and if its 0 then no correlation"
   ]
  },
  {
   "cell_type": "markdown",
   "metadata": {},
   "source": [
    "```\n",
    "From below considering \"Actual MPG\" has strong negative correlation with \"weight\".\n",
    "```\n",
    "```\n",
    "It means If weight increase Acutal MPG will decrease and vice versa.\n",
    "```\n",
    "```\n",
    "From below considering \"Actual MPG\" has positive correlation with \"Accelerated\"/\"year\".\n",
    "```\n",
    "```\n",
    "It means If Accelerate increase Acutal MPG will increase and vice versa.\n",
    "```\n",
    "```\n",
    "If vehicle is newer Acutal MPG will also increase and vice versa.\n",
    "```"
   ]
  },
  {
   "cell_type": "code",
   "execution_count": null,
   "metadata": {},
   "outputs": [],
   "source": [
    "cars_df_correlation=round(cars_df.corr(),2)"
   ]
  },
  {
   "cell_type": "code",
   "execution_count": null,
   "metadata": {},
   "outputs": [],
   "source": [
    "cars_df.head(10)"
   ]
  },
  {
   "cell_type": "markdown",
   "metadata": {},
   "source": [
    "# Covarience Is bit technical need to check later\n",
    "**cars_df.cov()**"
   ]
  },
  {
   "cell_type": "markdown",
   "metadata": {},
   "source": [
    "## Groupby"
   ]
  },
  {
   "cell_type": "code",
   "execution_count": null,
   "metadata": {},
   "outputs": [],
   "source": [
    "cars_grp_median=cars_df.groupby('origin').median()"
   ]
  },
  {
   "cell_type": "code",
   "execution_count": null,
   "metadata": {},
   "outputs": [],
   "source": [
    "cars_grp_median\n",
    "round(cars_grp_median,2)"
   ]
  },
  {
   "cell_type": "code",
   "execution_count": null,
   "metadata": {},
   "outputs": [],
   "source": [
    "cars_grp_mean=cars_df.groupby('Year').mean()"
   ]
  },
  {
   "cell_type": "code",
   "execution_count": null,
   "metadata": {},
   "outputs": [],
   "source": [
    "cars_grp_mean\n",
    "round(cars_grp_mean,2)"
   ]
  },
  {
   "cell_type": "code",
   "execution_count": null,
   "metadata": {},
   "outputs": [],
   "source": [
    "#We can change column name to our requirement\n",
    "\n",
    "cars_df.columns=['Model','Actual_MPG', 'cylinder','Engine_disp', 'horsepower','weight','accelarate','year','origin']"
   ]
  },
  {
   "cell_type": "markdown",
   "metadata": {},
   "source": [
    "# Pivot Table Demo\n",
    "\n",
    "**Summerizing data in table in different bucket.A pivot table allows you to extract the significance from a large, detailed data set.**\n",
    "```Create a spreadsheet-style pivot table as a DataFrame. The levels in the pivot table will be stored in MultiIndex objects (hierarchical indexes) on the index and columns of the result DataFrame```"
   ]
  },
  {
   "cell_type": "code",
   "execution_count": null,
   "metadata": {},
   "outputs": [],
   "source": [
    "car_table=pd.pivot_table(cars_df,values='Actual_MPG',index=['cylinder','origin'], columns='year',aggfunc=np.median)\n",
    "round(car_table)"
   ]
  },
  {
   "cell_type": "code",
   "execution_count": null,
   "metadata": {},
   "outputs": [],
   "source": [
    "car_table=pd.pivot_table(cars_df,values='Actual_MPG',index=['cylinder'], columns='year',aggfunc=np.median)\n",
    "round(car_table)"
   ]
  },
  {
   "cell_type": "code",
   "execution_count": null,
   "metadata": {},
   "outputs": [],
   "source": [
    "car_table=pd.pivot_table(cars_df,values='Actual_MPG',index=['cylinder'],aggfunc=np.mean)\n",
    "round(car_table)"
   ]
  },
  {
   "cell_type": "code",
   "execution_count": null,
   "metadata": {},
   "outputs": [],
   "source": [
    "car_comprehensive_table=pd.pivot_table(cars_df,values=['Actual_MPG','weight'],index=['cylinder','origin'],columns=['year','horsepower'] ,aggfunc=np.mean)\n",
    "round(car_table)"
   ]
  },
  {
   "cell_type": "code",
   "execution_count": null,
   "metadata": {},
   "outputs": [],
   "source": []
  }
 ],
 "metadata": {
  "kernelspec": {
   "display_name": "Python 3",
   "language": "python",
   "name": "python3"
  },
  "language_info": {
   "codemirror_mode": {
    "name": "ipython",
    "version": 3
   },
   "file_extension": ".py",
   "mimetype": "text/x-python",
   "name": "python",
   "nbconvert_exporter": "python",
   "pygments_lexer": "ipython3",
   "version": "3.6.4"
  }
 },
 "nbformat": 4,
 "nbformat_minor": 2
}
